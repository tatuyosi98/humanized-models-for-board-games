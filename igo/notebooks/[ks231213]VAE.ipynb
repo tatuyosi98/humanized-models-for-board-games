{
 "cells": [
  {
   "cell_type": "markdown",
   "metadata": {},
   "source": [
    "# ライブラリ読み込み"
   ]
  },
  {
   "cell_type": "code",
   "execution_count": 1,
   "metadata": {},
   "outputs": [
    {
     "name": "stdout",
     "output_type": "stream",
     "text": [
      "/Users/keimy/git/humanized-models-for-board-games/igo\n"
     ]
    },
    {
     "data": {
      "text/plain": [
       "'/Users/keimy/git/humanized-models-for-board-games/igo'"
      ]
     },
     "execution_count": 1,
     "metadata": {},
     "output_type": "execute_result"
    }
   ],
   "source": [
    "import numpy as np\n",
    "import pandas as pd; pd.set_option('display.max_columns', None)\n",
    "import matplotlib.pyplot as plt\n",
    "\n",
    "# utility\n",
    "import time\n",
    "import copy as cp\n",
    "from tqdm import tqdm\n",
    "from collections import defaultdict\n",
    "import glob\n",
    "import os\n",
    "import sys\n",
    "from sys import stderr\n",
    "\n",
    "# 乱数\n",
    "rng = np.random.RandomState(1234)\n",
    "random_state = 42\n",
    "\n",
    "# pytorch\n",
    "# conda install pytorch torchvision -c pytorch\n",
    "import torch\n",
    "import torch.nn as nn\n",
    "import torch.optim as optim\n",
    "import torch.autograd as autograd\n",
    "import torch.nn.functional as F\n",
    "from torchvision import datasets, transforms, models\n",
    "\n",
    "# 囲碁ライブラリ\n",
    "from sgfmill import sgf\n",
    "from sgfmill import boards\n",
    "\n",
    "# ルートに移動\n",
    "%cd /Users/keimy/git/humanized-models-for-board-games/igo\n",
    "%pwd\n"
   ]
  },
  {
   "cell_type": "markdown",
   "metadata": {},
   "source": [
    "# Visualize Data"
   ]
  },
  {
   "cell_type": "code",
   "execution_count": 2,
   "metadata": {},
   "outputs": [
    {
     "data": {
      "text/plain": [
       "(55191, 2, 19, 19)"
      ]
     },
     "execution_count": 2,
     "metadata": {},
     "output_type": "execute_result"
    }
   ],
   "source": [
    "# .npy ファイルからデータをロード\n",
    "move_tensors = np.load('./preprocess/tensors_at_move.npy')\n",
    "\n",
    "move_tensors.shape"
   ]
  },
  {
   "cell_type": "code",
   "execution_count": 3,
   "metadata": {},
   "outputs": [
    {
     "data": {
      "image/png": "[encoded data removed]",
      "text/plain": [
       "<Figure size 640x480 with 1 Axes>"
      ]
     },
     "metadata": {},
     "output_type": "display_data"
    },
    {
     "data": {
      "text/plain": [
       "0"
      ]
     },
     "execution_count": 3,
     "metadata": {},
     "output_type": "execute_result"
    }
   ],
   "source": [
    "from src.board import visualize_matrix\n",
    "\n",
    "black_matrix, white_matrix = move_tensors[200]\n",
    "visualize_matrix(black_matrix, white_matrix)\n"
   ]
  },
  {
   "cell_type": "markdown",
   "metadata": {},
   "source": [
    "# Make Dataloaders"
   ]
  },
  {
   "cell_type": "code",
   "execution_count": 4,
   "metadata": {},
   "outputs": [],
   "source": [
    "import torch\n",
    "from torch.utils.data import Dataset, DataLoader\n",
    "\n",
    "# トレーニングセットと検証セットに分割\n",
    "train_size = int(0.8 * len(move_tensors))\n",
    "valid_size = len(move_tensors) - train_size\n",
    "train_dataset, valid_dataset = torch.utils.data.random_split(move_tensors, [train_size, valid_size])\n",
    "\n",
    "# データローダーの設定\n",
    "batch_size = 128\n",
    "train_loader = DataLoader(train_dataset, batch_size=batch_size, shuffle=True)\n",
    "valid_loader = DataLoader(valid_dataset, batch_size=batch_size, shuffle=False)\n"
   ]
  },
  {
   "cell_type": "code",
   "execution_count": 5,
   "metadata": {},
   "outputs": [
    {
     "name": "stdout",
     "output_type": "stream",
     "text": [
      "torch.Size([128, 2, 19, 19])\n"
     ]
    },
    {
     "data": {
      "text/plain": [
       "345"
      ]
     },
     "execution_count": 5,
     "metadata": {},
     "output_type": "execute_result"
    }
   ],
   "source": [
    "for x in train_loader:\n",
    "    print(x.shape)\n",
    "    # print(x)\n",
    "    break\n",
    "\n",
    "len(train_loader)"
   ]
  },
  {
   "cell_type": "markdown",
   "metadata": {},
   "source": [
    "# VAE-linear"
   ]
  },
  {
   "cell_type": "code",
   "execution_count": 6,
   "metadata": {},
   "outputs": [
    {
     "name": "stdout",
     "output_type": "stream",
     "text": [
      "EPOCH: 1    Train Lower Bound: 0.656527 (KL_loss: 0.024522. reconstruction_loss: 0.632005)    Valid Lower Bound: 0.601056\n",
      "EPOCH: 2    Train Lower Bound: 0.600269 (KL_loss: 0.000803. reconstruction_loss: 0.599466)    Valid Lower Bound: 0.600499\n",
      "EPOCH: 3    Train Lower Bound: 0.599755 (KL_loss: 0.000452. reconstruction_loss: 0.599302)    Valid Lower Bound: 0.600339\n"
     ]
    }
   ],
   "source": [
    "from src.model.VAE_linear import VAE_linear\n",
    "z_dim = 10\n",
    "assert z_dim >= 2\n",
    "input_dim =  2 * 19 * 19\n",
    "n_epochs = 3\n",
    "\n",
    "device = \"mps\" if torch.backends.mps.is_available() else \"cpu\"\n",
    "# device = \"cpu\"\n",
    "\n",
    "model = VAE_linear(z_dim = z_dim, input_dim = input_dim).to(device)\n",
    "optimizer = optim.Adam(model.parameters(), lr=0.001)\n",
    "\n",
    "\n",
    "for epoch in range(n_epochs):\n",
    "    losses = []\n",
    "    KL_losses = []\n",
    "    reconstruction_losses = []\n",
    "\n",
    "    model.train()\n",
    "    for x in train_loader:\n",
    "        x = x.float().to(device)  # データ型をfloatに変換してからデバイスに送る\n",
    "\n",
    "        model.zero_grad()\n",
    "\n",
    "        # KL_loss, reconstruction_lossの各項の計算\n",
    "        KL_loss, reconstruction_loss = model.loss(x)\n",
    "\n",
    "        # エビデンス下界の最大化のためマイナス付きの各項の値を最小化するようにパラメータを更新\n",
    "        loss = KL_loss + reconstruction_loss\n",
    "\n",
    "        loss.backward()\n",
    "        optimizer.step()\n",
    "\n",
    "        losses.append(loss.cpu().detach().numpy())\n",
    "        KL_losses.append(KL_loss.cpu().detach().numpy())\n",
    "        reconstruction_losses.append(reconstruction_loss.cpu().detach().numpy())\n",
    "\n",
    "    losses_val = []\n",
    "    model.eval()\n",
    "    for x in valid_loader:\n",
    "        x = x.float().to(device)  # ここでも同様にデータ型をfloatに変換\n",
    "\n",
    "        KL_loss, reconstruction_loss = model.loss(x)\n",
    "\n",
    "        loss = KL_loss + reconstruction_loss\n",
    "\n",
    "        losses_val.append(loss.cpu().detach().numpy())\n",
    "\n",
    "    print('EPOCH: %d    Train Lower Bound: %lf (KL_loss: %lf. reconstruction_loss: %lf)    Valid Lower Bound: %lf' %\n",
    "          (epoch+1, np.average(losses), np.average(KL_losses), np.average(reconstruction_losses), np.average(losses_val)))\n"
   ]
  },
  {
   "cell_type": "markdown",
   "metadata": {},
   "source": [
    "任意のxをもとに可視化"
   ]
  },
  {
   "cell_type": "markdown",
   "metadata": {},
   "source": [
    "xはバッチで投げればy,zもバッチで返ってくる\n",
    "\n",
    "\n",
    "xを単体で投げた場合はバッチサイズ=1と解釈されて\n",
    "\n",
    "y,zもバッチサイズ=1の次元になるのでスクイーズが必要"
   ]
  },
  {
   "cell_type": "code",
   "execution_count": 8,
   "metadata": {},
   "outputs": [
    {
     "name": "stdout",
     "output_type": "stream",
     "text": [
      "torch.Size([128, 2, 19, 19]) torch.int64\n",
      "(128, 2, 19, 19) torch.Size([128, 10])\n"
     ]
    }
   ],
   "source": [
    "model.eval()\n",
    "\n",
    "for x in valid_loader:\n",
    "    print(x.shape, x.dtype)\n",
    "    x = x.float().to(device)\n",
    "\n",
    "    # xはバッチで投げている\n",
    "    y, z = model(x)\n",
    "    y = y.cpu().detach().numpy()\n",
    "\n",
    "    print(y.shape, z.shape)\n",
    "    break\n"
   ]
  },
  {
   "cell_type": "markdown",
   "metadata": {},
   "source": [
    "xを単体で投げる"
   ]
  },
  {
   "cell_type": "code",
   "execution_count": 9,
   "metadata": {},
   "outputs": [
    {
     "data": {
      "text/plain": [
       "(torch.Size([2, 19, 19]), (1, 2, 19, 19), torch.Size([1, 10]))"
      ]
     },
     "execution_count": 9,
     "metadata": {},
     "output_type": "execute_result"
    }
   ],
   "source": [
    "model.eval()\n",
    "\n",
    "i = 40\n",
    "x = valid_dataset[i]\n",
    "x = torch.from_numpy(x).float()\n",
    "x = x.to(device)\n",
    "\n",
    "# x単体を投げる\n",
    "y, z = model(x)\n",
    "y = y.cpu().detach().numpy()\n",
    "\n",
    "\n",
    "x.shape, y.shape, z.shape"
   ]
  },
  {
   "cell_type": "code",
   "execution_count": 20,
   "metadata": {},
   "outputs": [
    {
     "name": "stdout",
     "output_type": "stream",
     "text": [
      "tensor([[-4.8449e-03,  1.3127e-03,  6.5393e-04,  1.5779e-03, -3.8530e-04,\n",
      "         -2.1007e-04,  1.0417e-03, -3.3249e-03, -1.5075e-03,  4.4003e-05]],\n",
      "       device='mps:0', grad_fn=<LinearBackward0>)\n",
      "reconstructed move\n"
     ]
    },
    {
     "data": {
      "image/png": "[encoded data removed]",
      "text/plain": [
       "<Figure size 640x480 with 1 Axes>"
      ]
     },
     "metadata": {},
     "output_type": "display_data"
    },
    {
     "name": "stdout",
     "output_type": "stream",
     "text": [
      "original move\n"
     ]
    },
    {
     "data": {
      "image/png": "[encoded data removed]",
      "text/plain": [
       "<Figure size 640x480 with 1 Axes>"
      ]
     },
     "metadata": {},
     "output_type": "display_data"
    },
    {
     "data": {
      "text/plain": [
       "0"
      ]
     },
     "execution_count": 20,
     "metadata": {},
     "output_type": "execute_result"
    }
   ],
   "source": [
    "model.eval()\n",
    "\n",
    "i = 40\n",
    "x = valid_dataset[i]\n",
    "x = torch.from_numpy(x).float()\n",
    "x = x.to(device)\n",
    "\n",
    "y, z = model(x)\n",
    "y = y.cpu().detach().numpy()\n",
    "\n",
    "# yの閾値処理\n",
    "th = 0.24\n",
    "y[y >= th] = 1\n",
    "y[y < th] = 0\n",
    "\n",
    "print(z)\n",
    "\n",
    "print(\"reconstructed move\")\n",
    "black_matrix, white_matrix = y.squeeze()\n",
    "visualize_matrix(black_matrix, white_matrix)\n",
    "\n",
    "print(\"original move\")\n",
    "black_matrix, white_matrix = x.squeeze()\n",
    "visualize_matrix(black_matrix, white_matrix)"
   ]
  },
  {
   "cell_type": "markdown",
   "metadata": {},
   "source": [
    "Zのランダムサンプリング"
   ]
  },
  {
   "cell_type": "code",
   "execution_count": 139,
   "metadata": {},
   "outputs": [
    {
     "name": "stdout",
     "output_type": "stream",
     "text": [
      "tensor([[ 1.3901,  0.9664,  0.6489, -0.0276,  0.5585, -0.3675, -0.0820, -1.1894,\n",
      "          0.4822, -0.2495]], device='mps:0')\n"
     ]
    },
    {
     "data": {
      "image/png": "[encoded data removed]",
      "text/plain": [
       "<Figure size 640x480 with 1 Axes>"
      ]
     },
     "metadata": {},
     "output_type": "display_data"
    },
    {
     "data": {
      "text/plain": [
       "0"
      ]
     },
     "execution_count": 139,
     "metadata": {},
     "output_type": "execute_result"
    }
   ],
   "source": [
    "z = torch.randn([1, z_dim]).to(device)\n",
    "\n",
    "model.eval()\n",
    "y = model._decoder(z)\n",
    "y = y.cpu().detach().numpy()\n",
    "\n",
    "# yの閾値処理\n",
    "th = 0.24\n",
    "y[y >= th] = 1\n",
    "y[y < th] = 0\n",
    "\n",
    "print(z)\n",
    "black_matrix, white_matrix = y.squeeze()\n",
    "visualize_matrix(black_matrix, white_matrix)"
   ]
  },
  {
   "cell_type": "markdown",
   "metadata": {},
   "source": [
    "# VAE-CNN"
   ]
  },
  {
   "cell_type": "code",
   "execution_count": 140,
   "metadata": {},
   "outputs": [],
   "source": [
    "import numpy as np\n",
    "import matplotlib.pyplot as plt\n",
    "import seaborn as sns\n",
    "\n",
    "import torch\n",
    "import torch.nn as nn\n",
    "import torch.optim as optim\n",
    "import torch.autograd as autograd\n",
    "import torch.nn.functional as F\n",
    "from torchvision import datasets, transforms, models\n",
    "\n",
    "from sklearn.manifold import TSNE\n",
    "from sklearn.decomposition import PCA\n",
    "from sklearn.utils import shuffle\n",
    "from sklearn.metrics import f1_score\n",
    "from sklearn.model_selection import train_test_split\n",
    "from sklearn.metrics import accuracy_score\n",
    "\n",
    "from typing import Tuple\n",
    "\n",
    "rng = np.random.RandomState(1234)\n",
    "random_state = 42\n",
    "device = \"mps\" if torch.backends.mps.is_available() else \"cpu\"\n",
    "\n",
    "# input_dim = 2*19*19\n",
    "\n",
    "\n",
    "class CNNEncoder(nn.Module):\n",
    "    \"\"\" CNNベースのエンコーダ \"\"\"\n",
    "    def __init__(self, z_dim, h_dim):\n",
    "        super(CNNEncoder, self).__init__()\n",
    "        self.conv1 = nn.Conv2d(2, 16, kernel_size=3, stride=1, padding=1)\n",
    "        self.conv2 = nn.Conv2d(16, 32, kernel_size=3, stride=1, padding=1)\n",
    "        self.fc1 = nn.Linear(32 * 19 * 19, h_dim)\n",
    "        self.fc_mean = nn.Linear(h_dim, z_dim)\n",
    "        self.fc_var = nn.Linear(h_dim, z_dim)\n",
    "\n",
    "    def forward(self, x):\n",
    "        x = F.relu(self.conv1(x))\n",
    "        x = F.relu(self.conv2(x))\n",
    "        x = x.view(x.size(0), -1)\n",
    "        x = F.relu(self.fc1(x))\n",
    "        mean = self.fc_mean(x)\n",
    "        log_var = self.fc_var(x)\n",
    "        return mean, log_var\n",
    "\n",
    "\n",
    "class CNNDecoder(nn.Module):\n",
    "    \"\"\" CNNベースのデコーダ \"\"\"\n",
    "    def __init__(self, z_dim, h_dim):\n",
    "        super(CNNDecoder, self).__init__()\n",
    "        self.fc1 = nn.Linear(z_dim, h_dim)\n",
    "        self.fc2 = nn.Linear(h_dim, 32 * 19 * 19)\n",
    "        self.deconv1 = nn.ConvTranspose2d(32, 16, kernel_size=3, stride=1, padding=1)\n",
    "        self.deconv2 = nn.ConvTranspose2d(16, 2, kernel_size=3, stride=1, padding=1)\n",
    "\n",
    "    def forward(self, z):\n",
    "        z = F.relu(self.fc1(z))\n",
    "        z = F.relu(self.fc2(z))\n",
    "        # z.size(0)はバッチサイズ\n",
    "        z = z.view(z.size(0), 32, 19, 19)\n",
    "        z = F.relu(self.deconv1(z))\n",
    "        reconstruction = torch.sigmoid(self.deconv2(z))\n",
    "        return reconstruction\n",
    "\n",
    "\n",
    "class VAE_CNN(nn.Module):\n",
    "    \"\"\" CNNベースのVAE \"\"\"\n",
    "    def __init__(self, z_dim=64, h_dim=128):\n",
    "        super(VAE_CNN, self).__init__()\n",
    "        self.encoder = CNNEncoder(z_dim, h_dim)\n",
    "        self.decoder = CNNDecoder(z_dim, h_dim)\n",
    "\n",
    "    def reparameterize(self, mean, log_var):\n",
    "        std = torch.exp(0.5 * log_var)\n",
    "        eps = torch.randn_like(std)\n",
    "        return mean + eps * std\n",
    "\n",
    "    def forward(self, x):\n",
    "        mean, log_var = self.encoder(x)\n",
    "        z = self.reparameterize(mean, log_var)\n",
    "        return self.decoder(z), mean, log_var\n",
    "    \n",
    "\n",
    "    def loss(self, x):\n",
    "        # モデルのforwardパスを使用して、再構成されたデータ、平均、対数分散を取得\n",
    "        recon_x, mean, log_var = self.forward(x)\n",
    "\n",
    "        # 再構成誤差（バイナリクロスエントロピー）\n",
    "        BCE = F.binary_cross_entropy(recon_x, x, reduction='sum')\n",
    "\n",
    "        # KLダイバージェンス\n",
    "        KLD = -0.5 * torch.sum(1 + log_var - mean.pow(2) - log_var.exp())\n",
    "\n",
    "        return KLD, BCE  # KLダイバージェンスと再構成誤差を返す\n"
   ]
  },
  {
   "cell_type": "code",
   "execution_count": 141,
   "metadata": {},
   "outputs": [
    {
     "name": "stdout",
     "output_type": "stream",
     "text": [
      "EPOCH: 1    Train Lower Bound: 28827.716797 (KL_loss: 13.602427. reconstruction_loss: 28814.113281)    Valid Lower Bound: 27591.615234\n",
      "EPOCH: 2    Train Lower Bound: 27776.060547 (KL_loss: 0.929126. reconstruction_loss: 27775.130859)    Valid Lower Bound: 27529.468750\n",
      "EPOCH: 3    Train Lower Bound: 27735.878906 (KL_loss: 0.339861. reconstruction_loss: 27735.537109)    Valid Lower Bound: 27509.939453\n",
      "EPOCH: 4    Train Lower Bound: 27708.298828 (KL_loss: 0.237323. reconstruction_loss: 27708.064453)    Valid Lower Bound: 27477.462891\n",
      "EPOCH: 5    Train Lower Bound: 27691.419922 (KL_loss: 0.172380. reconstruction_loss: 27691.246094)    Valid Lower Bound: 27491.699219\n"
     ]
    }
   ],
   "source": [
    "# from src.model.VAE_CNN import VAE_CNN\n",
    "\n",
    "z_dim = 64\n",
    "assert z_dim >= 2\n",
    "input_dim =  2 * 19 * 19\n",
    "n_epochs = 5\n",
    "\n",
    "device = \"mps\" if torch.backends.mps.is_available() else \"cpu\"\n",
    "# device = \"cpu\"\n",
    "\n",
    "model = VAE_CNN(z_dim = z_dim).to(device)\n",
    "optimizer = optim.Adam(model.parameters(), lr=0.001)\n",
    "\n",
    "\n",
    "for epoch in range(n_epochs):\n",
    "    losses = []\n",
    "    KL_losses = []\n",
    "    reconstruction_losses = []\n",
    "\n",
    "    model.train()\n",
    "    for x in train_loader:\n",
    "        x = x.float().to(device)  # データ型をfloatに変換してからデバイスに送る\n",
    "\n",
    "        model.zero_grad()\n",
    "\n",
    "        # KL_loss, reconstruction_lossの各項の計算\n",
    "        KL_loss, reconstruction_loss = model.loss(x)\n",
    "\n",
    "        # エビデンス下界の最大化のためマイナス付きの各項の値を最小化するようにパラメータを更新\n",
    "        loss = KL_loss + reconstruction_loss\n",
    "\n",
    "        loss.backward()\n",
    "        optimizer.step()\n",
    "\n",
    "        losses.append(loss.cpu().detach().numpy())\n",
    "        KL_losses.append(KL_loss.cpu().detach().numpy())\n",
    "        reconstruction_losses.append(reconstruction_loss.cpu().detach().numpy())\n",
    "\n",
    "    losses_val = []\n",
    "    model.eval()\n",
    "    for x in valid_loader:\n",
    "        x = x.float().to(device)  # ここでも同様にデータ型をfloatに変換\n",
    "\n",
    "        KL_loss, reconstruction_loss = model.loss(x)\n",
    "\n",
    "        loss = KL_loss + reconstruction_loss\n",
    "\n",
    "        losses_val.append(loss.cpu().detach().numpy())\n",
    "\n",
    "    print('EPOCH: %d    Train Lower Bound: %lf (KL_loss: %lf. reconstruction_loss: %lf)    Valid Lower Bound: %lf' %\n",
    "          (epoch+1, np.average(losses), np.average(KL_losses), np.average(reconstruction_losses), np.average(losses_val)))\n"
   ]
  },
  {
   "cell_type": "markdown",
   "metadata": {},
   "source": [
    "再構成moveを可視化"
   ]
  },
  {
   "cell_type": "code",
   "execution_count": 160,
   "metadata": {},
   "outputs": [
    {
     "name": "stdout",
     "output_type": "stream",
     "text": [
      "reconstructed move\n"
     ]
    },
    {
     "data": {
      "image/png": "[encoded data removed]",
      "text/plain": [
       "<Figure size 640x480 with 1 Axes>"
      ]
     },
     "metadata": {},
     "output_type": "display_data"
    },
    {
     "name": "stdout",
     "output_type": "stream",
     "text": [
      "original move\n"
     ]
    },
    {
     "data": {
      "image/png": "[encoded data removed]",
      "text/plain": [
       "<Figure size 640x480 with 1 Axes>"
      ]
     },
     "metadata": {},
     "output_type": "display_data"
    },
    {
     "data": {
      "text/plain": [
       "0"
      ]
     },
     "execution_count": 160,
     "metadata": {},
     "output_type": "execute_result"
    }
   ],
   "source": [
    "model.eval()\n",
    "\n",
    "i = 40\n",
    "x = valid_dataset[i]\n",
    "x = torch.from_numpy(x).float()\n",
    "x = x.unsqueeze(0)\n",
    "x = x.to(device)\n",
    "\n",
    "y, z_mu, z_var = model(x)\n",
    "y = y.cpu().detach().numpy()\n",
    "\n",
    "# # yの閾値処理\n",
    "th = 0.24\n",
    "y[y >= th] = 1\n",
    "y[y < th] = 0\n",
    "\n",
    "\n",
    "print(\"reconstructed move\")\n",
    "black_matrix, white_matrix = y.squeeze()\n",
    "visualize_matrix(black_matrix, white_matrix)\n",
    "\n",
    "print(\"original move\")\n",
    "black_matrix, white_matrix = x.squeeze()\n",
    "visualize_matrix(black_matrix, white_matrix)"
   ]
  },
  {
   "cell_type": "markdown",
   "metadata": {},
   "source": [
    "Zをランダムサンプリング"
   ]
  },
  {
   "cell_type": "code",
   "execution_count": 231,
   "metadata": {},
   "outputs": [
    {
     "name": "stdout",
     "output_type": "stream",
     "text": [
      "z_dim: 64\n"
     ]
    },
    {
     "data": {
      "image/png": "[encoded data removed]",
      "text/plain": [
       "<Figure size 640x480 with 1 Axes>"
      ]
     },
     "metadata": {},
     "output_type": "display_data"
    },
    {
     "data": {
      "text/plain": [
       "0"
      ]
     },
     "execution_count": 231,
     "metadata": {},
     "output_type": "execute_result"
    }
   ],
   "source": [
    "# ランダムな潜在変数 z をサンプリング\n",
    "# ここでの z_dim は、モデルで使用されている潜在空間の次元数\n",
    "z = torch.randn(1, z_dim).to(device)\n",
    "\n",
    "# 学習済みのモデルの decoder 部分を使用して z を再構成\n",
    "with torch.no_grad():  # 勾配計算を行わない\n",
    "    model.eval()\n",
    "    y = model.decoder(z)\n",
    "\n",
    "y = y.cpu().detach().numpy()\n",
    "\n",
    "\n",
    "# yの閾値処理\n",
    "th = 0.26\n",
    "y[y >= th] = 1\n",
    "y[y < th] = 0\n",
    "\n",
    "print(\"z_dim:\", z_dim)\n",
    "# print(z)\n",
    "black_matrix, white_matrix = y.squeeze()\n",
    "visualize_matrix(black_matrix, white_matrix)\n"
   ]
  },
  {
   "cell_type": "code",
   "execution_count": null,
   "metadata": {},
   "outputs": [],
   "source": []
  },
  {
   "cell_type": "code",
   "execution_count": null,
   "metadata": {},
   "outputs": [],
   "source": []
  },
  {
   "cell_type": "code",
   "execution_count": null,
   "metadata": {},
   "outputs": [],
   "source": []
  }
 ],
 "metadata": {
  "kernelspec": {
   "display_name": "Python 3",
   "language": "python",
   "name": "python3"
  },
  "language_info": {
   "codemirror_mode": {
    "name": "ipython",
    "version": 3
   },
   "file_extension": ".py",
   "mimetype": "text/x-python",
   "name": "python",
   "nbconvert_exporter": "python",
   "pygments_lexer": "ipython3",
   "version": "3.10.13"
  },
  "orig_nbformat": 4
 },
 "nbformat": 4,
 "nbformat_minor": 2
}
