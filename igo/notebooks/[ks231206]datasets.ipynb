{
 "cells": [
  {
   "cell_type": "markdown",
   "metadata": {},
   "source": [
    "# ライブラリ読み込み"
   ]
  },
  {
   "cell_type": "code",
   "execution_count": 2,
   "metadata": {},
   "outputs": [
    {
     "name": "stdout",
     "output_type": "stream",
     "text": [
      "/Users/keimy/git/humanized-models-for-board-games/igo\n"
     ]
    },
    {
     "data": {
      "text/plain": [
       "'/Users/keimy/git/humanized-models-for-board-games/igo'"
      ]
     },
     "execution_count": 2,
     "metadata": {},
     "output_type": "execute_result"
    }
   ],
   "source": [
    "import numpy as np\n",
    "import pandas as pd; pd.set_option('display.max_columns', None)\n",
    "import matplotlib.pyplot as plt\n",
    "\n",
    "# utility\n",
    "import time\n",
    "import copy as cp\n",
    "from tqdm import tqdm\n",
    "from collections import defaultdict\n",
    "import glob\n",
    "import os\n",
    "import sys\n",
    "from sys import stderr\n",
    "\n",
    "# 乱数\n",
    "rng = np.random.RandomState(1234)\n",
    "random_state = 42\n",
    "\n",
    "# pytorch\n",
    "# conda install pytorch torchvision -c pytorch\n",
    "import torch\n",
    "import torch.nn as nn\n",
    "import torch.optim as optim\n",
    "import torch.autograd as autograd\n",
    "import torch.nn.functional as F\n",
    "from torchvision import datasets, transforms, models\n",
    "\n",
    "# 囲碁ライブラリ\n",
    "from sgfmill import sgf\n",
    "from sgfmill import boards\n",
    "\n",
    "# ルートに移動\n",
    "%cd /Users/keimy/git/humanized-models-for-board-games/igo\n",
    "%pwd\n"
   ]
  },
  {
   "cell_type": "markdown",
   "metadata": {},
   "source": [
    "# visualize by sgfmill"
   ]
  },
  {
   "cell_type": "code",
   "execution_count": 3,
   "metadata": {},
   "outputs": [
    {
     "data": {
      "text/plain": [
       "1255"
      ]
     },
     "execution_count": 3,
     "metadata": {},
     "output_type": "execute_result"
    }
   ],
   "source": [
    "dir_path = \"./datasets/kgs201904\"\n",
    "files = glob.glob(f\"{dir_path}/*.sgf\")\n",
    "\n",
    "len(files)"
   ]
  },
  {
   "cell_type": "code",
   "execution_count": 38,
   "metadata": {},
   "outputs": [
    {
     "data": {
      "image/png": "[encoded data removed]",
      "text/plain": [
       "<Figure size 640x480 with 1 Axes>"
      ]
     },
     "metadata": {},
     "output_type": "display_data"
    }
   ],
   "source": [
    "from src.board import visualize_board_at_move, get_board_at_move\n",
    "\n",
    "with open(files[124], \"r\") as file:\n",
    "    game = sgf.Sgf_game.from_string(file.read())\n",
    "    visualize_board_at_move(game, 1)\n",
    "\n"
   ]
  },
  {
   "cell_type": "code",
   "execution_count": 39,
   "metadata": {},
   "outputs": [
    {
     "data": {
      "text/plain": [
       "19"
      ]
     },
     "execution_count": 39,
     "metadata": {},
     "output_type": "execute_result"
    }
   ],
   "source": [
    "# 19路盤\n",
    "game.get_size()"
   ]
  },
  {
   "cell_type": "code",
   "execution_count": 40,
   "metadata": {},
   "outputs": [
    {
     "name": "stdout",
     "output_type": "stream",
     "text": [
      "Black player's rank: b'3d'\n",
      "White player's rank: b'8d'\n"
     ]
    }
   ],
   "source": [
    "# レーティングの取得\n",
    "root_node = game.get_root()\n",
    "\n",
    "# プロパティが存在するかどうかを確認してから取得\n",
    "black_rank = root_node.get_raw_property_map().get(\"BR\", [None])[0]\n",
    "white_rank = root_node.get_raw_property_map().get(\"WR\", [None])[0]\n",
    "\n",
    "# 結果の表示（オプション）\n",
    "print(f\"Black player's rank: {black_rank}\")\n",
    "print(f\"White player's rank: {white_rank}\")\n"
   ]
  },
  {
   "cell_type": "markdown",
   "metadata": {},
   "source": [
    "# preprocess data"
   ]
  },
  {
   "cell_type": "code",
   "execution_count": 41,
   "metadata": {},
   "outputs": [
    {
     "data": {
      "text/plain": [
       "1255"
      ]
     },
     "execution_count": 41,
     "metadata": {},
     "output_type": "execute_result"
    }
   ],
   "source": [
    "dir_path = \"./datasets/kgs201904\"\n",
    "files = glob.glob(f\"{dir_path}/*.sgf\")\n",
    "\n",
    "len(files)"
   ]
  },
  {
   "cell_type": "code",
   "execution_count": 42,
   "metadata": {},
   "outputs": [
    {
     "name": "stderr",
     "output_type": "stream",
     "text": [
      "  0%|          | 0/1255 [00:00<?, ?it/s]"
     ]
    },
    {
     "name": "stderr",
     "output_type": "stream",
     "text": [
      "100%|██████████| 1255/1255 [00:35<00:00, 35.35it/s]\n"
     ]
    }
   ],
   "source": [
    "from src.board import visualize_board_at_move, get_board_at_move\n",
    "\n",
    "arrays_at_move = []\n",
    "for file in tqdm(files):\n",
    "    with open(file, \"r\") as file:\n",
    "        game = sgf.Sgf_game.from_string(file.read())\n",
    "        # ゲームの手数 50-100手を集める\n",
    "        n_max = min(100, len(game.get_main_sequence()) - 1)\n",
    "        n_min = min(50, n_max-1)\n",
    "        for i in range(n_min, n_max):\n",
    "            try:\n",
    "                black_matrix, white_matrix = get_board_at_move(game, i)\n",
    "                array_at_move = [np.array(black_matrix), np.array(white_matrix)]\n",
    "                arrays_at_move.append(array_at_move)    \n",
    "            except: ValueError\n"
   ]
  },
  {
   "cell_type": "code",
   "execution_count": 43,
   "metadata": {},
   "outputs": [
    {
     "data": {
      "text/plain": [
       "(55191, 2, 19, 19)"
      ]
     },
     "execution_count": 43,
     "metadata": {},
     "output_type": "execute_result"
    }
   ],
   "source": [
    "# テンソルに変換して保存\n",
    "tensors_at_move = np.stack(arrays_at_move, axis=0)\n",
    "np.save('./preprocess/tensors_at_move.npy', tensors_at_move)\n",
    "\n",
    "tensors_at_move.shape"
   ]
  },
  {
   "cell_type": "markdown",
   "metadata": {},
   "source": [
    "データ整理するときに\n",
    "\n",
    "・盤面マトリクス\n",
    "\n",
    "・手数\n",
    "\n",
    "・ゲーム番号\n",
    "\n",
    "・レート\n",
    "\n",
    "・棋譜のroots"
   ]
  },
  {
   "cell_type": "code",
   "execution_count": null,
   "metadata": {},
   "outputs": [],
   "source": []
  },
  {
   "cell_type": "markdown",
   "metadata": {},
   "source": [
    "# Pyaq\n",
    "https://github.com/ymgaq/Pyaq/tree/master"
   ]
  },
  {
   "cell_type": "code",
   "execution_count": 3,
   "metadata": {},
   "outputs": [
    {
     "ename": "NameError",
     "evalue": "name 'BSIZE' is not defined",
     "output_type": "error",
     "traceback": [
      "\u001b[0;31m---------------------------------------------------------------------------\u001b[0m",
      "\u001b[0;31mNameError\u001b[0m                                 Traceback (most recent call last)",
      "\u001b[1;32m/Users/keimy/git/humanized-models-for-board-games/notebooks/main.ipynb セル 12\u001b[0m line \u001b[0;36m1\n\u001b[0;32m----> <a href='vscode-notebook-cell:/Users/keimy/git/humanized-models-for-board-games/notebooks/main.ipynb#X15sZmlsZQ%3D%3D?line=0'>1</a>\u001b[0m sgf_list \u001b[39m=\u001b[39m import_sgf(\u001b[39m\"\u001b[39;49m\u001b[39m../datasets/kgs201904\u001b[39;49m\u001b[39m\"\u001b[39;49m)\n\u001b[1;32m      <a href='vscode-notebook-cell:/Users/keimy/git/humanized-models-for-board-games/notebooks/main.ipynb#X15sZmlsZQ%3D%3D?line=2'>3</a>\u001b[0m feeds \u001b[39m=\u001b[39m sgf2feed(sgf_list)\n\u001b[1;32m      <a href='vscode-notebook-cell:/Users/keimy/git/humanized-models-for-board-games/notebooks/main.ipynb#X15sZmlsZQ%3D%3D?line=3'>4</a>\u001b[0m \u001b[39m# \u001b[39;00m\n\u001b[1;32m      <a href='vscode-notebook-cell:/Users/keimy/git/humanized-models-for-board-games/notebooks/main.ipynb#X15sZmlsZQ%3D%3D?line=4'>5</a>\u001b[0m \u001b[39m# feedsは３要素のリスト\u001b[39;00m\n",
      "File \u001b[0;32m~/git/humanized-models-for-board-games/notebooks/../scripts/sgf.py:81\u001b[0m, in \u001b[0;36mimport_sgf\u001b[0;34m(dir_path)\u001b[0m\n\u001b[1;32m     79\u001b[0m     \u001b[39m# b = Board()\u001b[39;00m\n\u001b[1;32m     80\u001b[0m     \u001b[39mfor\u001b[39;00m f \u001b[39min\u001b[39;00m file_list:\n\u001b[0;32m---> 81\u001b[0m         sd_list\u001b[39m.\u001b[39mappend(sgf_data())\n\u001b[1;32m     82\u001b[0m         sd_list[\u001b[39m-\u001b[39m\u001b[39m1\u001b[39m]\u001b[39m.\u001b[39mimport_file(f)\n\u001b[1;32m     84\u001b[0m \u001b[39m#         b.clear()\u001b[39;00m\n\u001b[1;32m     85\u001b[0m \u001b[39m#         for v in sd_list[-1].history:\u001b[39;00m\n\u001b[1;32m     86\u001b[0m \u001b[39m#             err = b.play(v, not_fill_eye=False)\u001b[39;00m\n\u001b[0;32m   (...)\u001b[0m\n\u001b[1;32m     93\u001b[0m \u001b[39m#         if len(sd_list) % 5000 == 0:\u001b[39;00m\n\u001b[1;32m     94\u001b[0m \u001b[39m#             stderr.write(\".\")\u001b[39;00m\n",
      "File \u001b[0;32m~/git/humanized-models-for-board-games/notebooks/../scripts/sgf.py:17\u001b[0m, in \u001b[0;36msgf_data.__init__\u001b[0;34m(self)\u001b[0m\n\u001b[1;32m     16\u001b[0m \u001b[39mdef\u001b[39;00m \u001b[39m__init__\u001b[39m(\u001b[39mself\u001b[39m):\n\u001b[0;32m---> 17\u001b[0m     \u001b[39mself\u001b[39m\u001b[39m.\u001b[39msize \u001b[39m=\u001b[39m BSIZE\n\u001b[1;32m     18\u001b[0m     \u001b[39mself\u001b[39m\u001b[39m.\u001b[39mkomi \u001b[39m=\u001b[39m KOMI\n\u001b[1;32m     19\u001b[0m     \u001b[39mself\u001b[39m\u001b[39m.\u001b[39mhandicap \u001b[39m=\u001b[39m \u001b[39m0\u001b[39m\n",
      "\u001b[0;31mNameError\u001b[0m: name 'BSIZE' is not defined"
     ]
    }
   ],
   "source": [
    "sgf_list = import_sgf(\"../datasets/kgs201904\")\n",
    "\n",
    "feeds = sgf2feed(sgf_list)\n",
    "# \n",
    "# feedsは３要素のリスト\n",
    "feeds[0].shape, feeds[1].shape, feeds[2].shape"
   ]
  },
  {
   "cell_type": "code",
   "execution_count": null,
   "metadata": {},
   "outputs": [],
   "source": []
  }
 ],
 "metadata": {
  "kernelspec": {
   "display_name": "Python 3",
   "language": "python",
   "name": "python3"
  },
  "language_info": {
   "codemirror_mode": {
    "name": "ipython",
    "version": 3
   },
   "file_extension": ".py",
   "mimetype": "text/x-python",
   "name": "python",
   "nbconvert_exporter": "python",
   "pygments_lexer": "ipython3",
   "version": "3.10.13"
  },
  "orig_nbformat": 4
 },
 "nbformat": 4,
 "nbformat_minor": 2
}
