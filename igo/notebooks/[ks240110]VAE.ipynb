{
 "cells": [
  {
   "cell_type": "markdown",
   "metadata": {},
   "source": [
    "# ライブラリ読み込み"
   ]
  },
  {
   "cell_type": "code",
   "execution_count": 1,
   "metadata": {},
   "outputs": [
    {
     "name": "stdout",
     "output_type": "stream",
     "text": [
      "/Users/keimy/git/humanized-models-for-board-games/igo\n"
     ]
    },
    {
     "data": {
      "text/plain": [
       "'/Users/keimy/git/humanized-models-for-board-games/igo'"
      ]
     },
     "execution_count": 1,
     "metadata": {},
     "output_type": "execute_result"
    }
   ],
   "source": [
    "import numpy as np\n",
    "import pandas as pd; pd.set_option('display.max_columns', None)\n",
    "import matplotlib.pyplot as plt\n",
    "\n",
    "# utility\n",
    "import time\n",
    "import copy as cp\n",
    "from tqdm import tqdm\n",
    "from collections import defaultdict\n",
    "import glob\n",
    "import os\n",
    "import sys\n",
    "from sys import stderr\n",
    "\n",
    "# 乱数\n",
    "rng = np.random.RandomState(1234)\n",
    "random_state = 42\n",
    "\n",
    "# pytorch\n",
    "# conda install pytorch torchvision -c pytorch\n",
    "import torch\n",
    "import torch.nn as nn\n",
    "import torch.optim as optim\n",
    "import torch.autograd as autograd\n",
    "import torch.nn.functional as F\n",
    "from torchvision import datasets, transforms, models\n",
    "\n",
    "# 囲碁ライブラリ\n",
    "from sgfmill import sgf\n",
    "from sgfmill import boards\n",
    "\n",
    "# ルートに移動\n",
    "%cd /Users/keimy/git/humanized-models-for-board-games/igo\n",
    "%pwd\n"
   ]
  },
  {
   "cell_type": "markdown",
   "metadata": {},
   "source": [
    "# Visualize Data"
   ]
  },
  {
   "cell_type": "code",
   "execution_count": 2,
   "metadata": {},
   "outputs": [
    {
     "data": {
      "text/plain": [
       "(33575793,)"
      ]
     },
     "execution_count": 2,
     "metadata": {},
     "output_type": "execute_result"
    }
   ],
   "source": [
    "# .npy ファイルからデータをロード\n",
    "moves = np.load('./preprocess/arrays_at_move.npy')\n",
    "\n",
    "moves.shape"
   ]
  },
  {
   "cell_type": "code",
   "execution_count": null,
   "metadata": {},
   "outputs": [],
   "source": [
    "# movesを圧縮してnumpyに保存\n",
    "np.savez_compressed('./preprocess/arrays_at_move.npz', moves)"
   ]
  },
  {
   "cell_type": "code",
   "execution_count": null,
   "metadata": {},
   "outputs": [],
   "source": [
    "from src.board import visualize_matrix\n",
    "\n",
    "items = moves[200]\n",
    "black_matrix, white_matrix = items[\"black_matrix\"], items[\"white_matrix\"]\n",
    "visualize_matrix(black_matrix, white_matrix)\n"
   ]
  },
  {
   "cell_type": "markdown",
   "metadata": {},
   "source": [
    "# Make Dataloaders"
   ]
  },
  {
   "cell_type": "code",
   "execution_count": 3,
   "metadata": {},
   "outputs": [
    {
     "name": "stdout",
     "output_type": "stream",
     "text": [
      "Combined Matrix Shape: torch.Size([512, 2, 19, 19])\n",
      "Black Rank: torch.Size([512])\n",
      "White Rank: torch.Size([512])\n",
      "Move: torch.Size([512])\n"
     ]
    }
   ],
   "source": [
    "import torch\n",
    "from torch.utils.data import Dataset, DataLoader\n",
    "\n",
    "class CustomGoDataset(Dataset):\n",
    "    def __init__(self, numpy_arrays):\n",
    "        self.data = numpy_arrays\n",
    "\n",
    "    def __len__(self):\n",
    "        return len(self.data)\n",
    "\n",
    "    def __getitem__(self, idx):\n",
    "        item = self.data[idx]\n",
    "        black_matrix = item['black_matrix']\n",
    "        white_matrix = item['white_matrix']\n",
    "        black_rank = item['black_rank']\n",
    "        white_rank = item['white_rank']\n",
    "        move = item['move']\n",
    "        X = np.stack([black_matrix, white_matrix], axis=0)\n",
    "        return X, black_rank, white_rank, move\n",
    "\n",
    "\n",
    "# 元のデータセットをカスタムデータセットに変換\n",
    "moves2 = CustomGoDataset(moves)\n",
    "\n",
    "# データセットの分割\n",
    "train_size = int(0.8 * len(moves2))\n",
    "valid_size = len(moves2) - train_size\n",
    "train_dataset, valid_dataset = torch.utils.data.random_split(moves2, [train_size, valid_size])\n",
    "\n",
    "# DataLoaderの定義\n",
    "batch_size = 512\n",
    "train_loader = DataLoader(train_dataset, batch_size=batch_size, shuffle=True)\n",
    "valid_loader = DataLoader(valid_dataset, batch_size=batch_size, shuffle=False)\n",
    "\n",
    "\n",
    "# DataLoaderを使ったデータの取得\n",
    "for X, black_rank, white_rank, move in train_loader:\n",
    "    print(f\"Combined Matrix Shape: {X.shape}\")\n",
    "    print(f\"Black Rank: {black_rank.shape}\")\n",
    "    print(f\"White Rank: {white_rank.shape}\")\n",
    "    print(f\"Move: {move.shape}\")\n",
    "    break\n"
   ]
  },
  {
   "cell_type": "markdown",
   "metadata": {},
   "source": [
    "# VAE-linear"
   ]
  },
  {
   "cell_type": "code",
   "execution_count": null,
   "metadata": {},
   "outputs": [],
   "source": [
    "from src.model.VAE_linear import VAE_linear\n",
    "z_dim = 10\n",
    "assert z_dim >= 2\n",
    "input_dim =  2 * 19 * 19\n",
    "n_epochs = 3\n",
    "\n",
    "device = \"mps\" if torch.backends.mps.is_available() else \"cpu\"\n",
    "# device = \"cpu\"\n",
    "\n",
    "model = VAE_linear(z_dim = z_dim, input_dim = input_dim).to(device)\n",
    "optimizer = optim.Adam(model.parameters(), lr=0.001)\n",
    "\n",
    "\n",
    "for epoch in range(n_epochs):\n",
    "    losses = []\n",
    "    KL_losses = []\n",
    "    reconstruction_losses = []\n",
    "\n",
    "    model.train()\n",
    "    for x in train_loader:\n",
    "        x = x.float().to(device)  # データ型をfloatに変換してからデバイスに送る\n",
    "\n",
    "        model.zero_grad()\n",
    "\n",
    "        # KL_loss, reconstruction_lossの各項の計算\n",
    "        KL_loss, reconstruction_loss = model.loss(x)\n",
    "\n",
    "        # エビデンス下界の最大化のためマイナス付きの各項の値を最小化するようにパラメータを更新\n",
    "        loss = KL_loss + reconstruction_loss\n",
    "\n",
    "        loss.backward()\n",
    "        optimizer.step()\n",
    "\n",
    "        losses.append(loss.cpu().detach().numpy())\n",
    "        KL_losses.append(KL_loss.cpu().detach().numpy())\n",
    "        reconstruction_losses.append(reconstruction_loss.cpu().detach().numpy())\n",
    "\n",
    "    losses_val = []\n",
    "    model.eval()\n",
    "    for x in valid_loader:\n",
    "        x = x.float().to(device)  # ここでも同様にデータ型をfloatに変換\n",
    "\n",
    "        KL_loss, reconstruction_loss = model.loss(x)\n",
    "\n",
    "        loss = KL_loss + reconstruction_loss\n",
    "\n",
    "        losses_val.append(loss.cpu().detach().numpy())\n",
    "\n",
    "    print('EPOCH: %d    Train Lower Bound: %lf (KL_loss: %lf. reconstruction_loss: %lf)    Valid Lower Bound: %lf' %\n",
    "          (epoch+1, np.average(losses), np.average(KL_losses), np.average(reconstruction_losses), np.average(losses_val)))\n"
   ]
  },
  {
   "cell_type": "markdown",
   "metadata": {},
   "source": [
    "任意のxをもとに可視化"
   ]
  },
  {
   "cell_type": "markdown",
   "metadata": {},
   "source": [
    "xはバッチで投げればy,zもバッチで返ってくる\n",
    "\n",
    "\n",
    "xを単体で投げた場合はバッチサイズ=1と解釈されて\n",
    "\n",
    "y,zもバッチサイズ=1の次元になるのでスクイーズが必要"
   ]
  },
  {
   "cell_type": "code",
   "execution_count": null,
   "metadata": {},
   "outputs": [],
   "source": [
    "model.eval()\n",
    "\n",
    "for x in valid_loader:\n",
    "    print(x.shape, x.dtype)\n",
    "    x = x.float().to(device)\n",
    "\n",
    "    # xはバッチで投げている\n",
    "    y, z = model(x)\n",
    "    y = y.cpu().detach().numpy()\n",
    "\n",
    "    print(y.shape, z.shape)\n",
    "    break\n"
   ]
  },
  {
   "cell_type": "markdown",
   "metadata": {},
   "source": [
    "xを単体で投げる"
   ]
  },
  {
   "cell_type": "code",
   "execution_count": null,
   "metadata": {},
   "outputs": [],
   "source": [
    "model.eval()\n",
    "\n",
    "i = 40\n",
    "x = valid_dataset[i]\n",
    "x = torch.from_numpy(x).float()\n",
    "x = x.to(device)\n",
    "\n",
    "# x単体を投げる\n",
    "y, z = model(x)\n",
    "y = y.cpu().detach().numpy()\n",
    "\n",
    "\n",
    "x.shape, y.shape, z.shape"
   ]
  },
  {
   "cell_type": "code",
   "execution_count": null,
   "metadata": {},
   "outputs": [],
   "source": [
    "model.eval()\n",
    "\n",
    "i = 40\n",
    "x = valid_dataset[i]\n",
    "x = torch.from_numpy(x).float()\n",
    "x = x.to(device)\n",
    "\n",
    "y, z = model(x)\n",
    "y = y.cpu().detach().numpy()\n",
    "\n",
    "# yの閾値処理\n",
    "th = 0.24\n",
    "y[y >= th] = 1\n",
    "y[y < th] = 0\n",
    "\n",
    "print(z)\n",
    "\n",
    "print(\"reconstructed move\")\n",
    "black_matrix, white_matrix = y.squeeze()\n",
    "visualize_matrix(black_matrix, white_matrix)\n",
    "\n",
    "print(\"original move\")\n",
    "black_matrix, white_matrix = x.squeeze()\n",
    "visualize_matrix(black_matrix, white_matrix)"
   ]
  },
  {
   "cell_type": "markdown",
   "metadata": {},
   "source": [
    "Zのランダムサンプリング"
   ]
  },
  {
   "cell_type": "code",
   "execution_count": null,
   "metadata": {},
   "outputs": [],
   "source": [
    "z = torch.randn([1, z_dim]).to(device)\n",
    "\n",
    "model.eval()\n",
    "y = model._decoder(z)\n",
    "y = y.cpu().detach().numpy()\n",
    "\n",
    "# yの閾値処理\n",
    "th = 0.24\n",
    "y[y >= th] = 1\n",
    "y[y < th] = 0\n",
    "\n",
    "print(z)\n",
    "black_matrix, white_matrix = y.squeeze()\n",
    "visualize_matrix(black_matrix, white_matrix)"
   ]
  },
  {
   "cell_type": "markdown",
   "metadata": {},
   "source": [
    "# VAE-CNN"
   ]
  },
  {
   "cell_type": "code",
   "execution_count": 60,
   "metadata": {},
   "outputs": [],
   "source": [
    "import numpy as np\n",
    "import matplotlib.pyplot as plt\n",
    "import seaborn as sns\n",
    "\n",
    "import torch\n",
    "import torch.nn as nn\n",
    "import torch.optim as optim\n",
    "import torch.autograd as autograd\n",
    "import torch.nn.functional as F\n",
    "from torchvision import datasets, transforms, models\n",
    "\n",
    "from sklearn.manifold import TSNE\n",
    "from sklearn.decomposition import PCA\n",
    "from sklearn.utils import shuffle\n",
    "from sklearn.metrics import f1_score\n",
    "from sklearn.model_selection import train_test_split\n",
    "from sklearn.metrics import accuracy_score\n",
    "\n",
    "from typing import Tuple\n",
    "\n",
    "rng = np.random.RandomState(1234)\n",
    "random_state = 42\n",
    "device = \"mps\" if torch.backends.mps.is_available() else \"cpu\"\n",
    "\n",
    "# input_dim = 2*19*19\n",
    "\n",
    "\n",
    "class CNNEncoder(nn.Module):\n",
    "    \"\"\" CNNベースのエンコーダ \"\"\"\n",
    "    def __init__(self, z_dim, h_dim=128):\n",
    "        super(CNNEncoder, self).__init__()\n",
    "        self.conv1 = nn.Conv2d(2, 2, kernel_size=3, stride=1, padding=1, bias=False)\n",
    "        self.conv2 = nn.Conv2d(2, 2, kernel_size=3, stride=1, padding=1, bias=False)\n",
    "        self.conv3 = nn.Conv2d(2, 2, kernel_size=3, stride=1, padding=1, bias=False)\n",
    "        self.conv4 = nn.Conv2d(2, 2, kernel_size=3, stride=1, padding=1, bias=False)\n",
    "        \n",
    "        self.fc1 = nn.Linear(2 * 19 * 19, h_dim)\n",
    "        self.fc_mean = nn.Linear(h_dim, z_dim)\n",
    "        self.fc_var = nn.Linear(h_dim, z_dim)\n",
    "\n",
    "    def forward(self, x):\n",
    "        x = F.relu(self.conv1(x))\n",
    "        x = F.relu(self.conv2(x))\n",
    "        x = F.relu(self.conv3(x))\n",
    "        x = F.relu(self.conv4(x))\n",
    "        # x.size(0)はバッチサイズ\n",
    "        x = x.view(x.size(0), -1)\n",
    "        x = F.relu(self.fc1(x))\n",
    "        mean = self.fc_mean(x)\n",
    "        # log_varは実数全部とるのでexp(log_var)すれば正数になる！\n",
    "        log_var = self.fc_var(x)\n",
    "        return mean, log_var\n",
    "\n",
    "\n",
    "class CNNDecoder(nn.Module):\n",
    "    \"\"\" CNNベースのデコーダ \"\"\"\n",
    "    def __init__(self, z_dim, h_dim=128, indim_deconv=2):\n",
    "        super(CNNDecoder, self).__init__()\n",
    "        self.fc1 = nn.Linear(z_dim, h_dim)\n",
    "        self.fc2 = nn.Linear(h_dim, indim_deconv * 19 * 19)\n",
    "\n",
    "        self.deconv1 = nn.ConvTranspose2d(2, 2, kernel_size=3, stride=1, padding=1)\n",
    "        self.deconv2 = nn.ConvTranspose2d(2, 2, kernel_size=3, stride=1, padding=1)\n",
    "        self.deconv3 = nn.ConvTranspose2d(2, 2, kernel_size=3, stride=1, padding=1)\n",
    "        self.deconv4 = nn.ConvTranspose2d(2, 2, kernel_size=3, stride=1, padding=1)\n",
    "\n",
    "    def forward(self, z, indim_deconv=2):\n",
    "        z = F.relu(self.fc1(z))\n",
    "        z = F.relu(self.fc2(z))\n",
    "        # z.size(0)はバッチサイズ\n",
    "        z = z.view(z.size(0), indim_deconv, 19, 19)\n",
    "        z = F.relu(self.deconv1(z))\n",
    "        z = F.relu(self.deconv2(z))\n",
    "        z = F.relu(self.deconv3(z))\n",
    "        reconstruction = torch.sigmoid(self.deconv4(z))\n",
    "        return reconstruction\n",
    "\n",
    "\n",
    "class VAE_CNN(nn.Module):\n",
    "    \"\"\" CNNベースのVAE \"\"\"\n",
    "    def __init__(self, z_dim=64, h_dim=128):\n",
    "        super(VAE_CNN, self).__init__()\n",
    "        self.encoder = CNNEncoder(z_dim, h_dim)\n",
    "        self.decoder = CNNDecoder(z_dim, h_dim)\n",
    "\n",
    "    def reparameterize(self, mean, log_var):\n",
    "        # log_varは実数全部とるがexpすることで正数のみ(STDは正数じゃないといけない)\n",
    "        std = torch.exp(0.5 * log_var)\n",
    "        eps = torch.randn_like(std)\n",
    "        return mean + eps * std\n",
    "\n",
    "    def forward(self, x):\n",
    "        mean, log_var = self.encoder(x)\n",
    "        z = self.reparameterize(mean, log_var)\n",
    "        return self.decoder(z), mean, log_var\n",
    "    \n",
    "\n",
    "    def loss(self, x):\n",
    "        # モデルのforwardパスを使用して、再構成されたデータ、平均、対数分散を取得\n",
    "        recon_x, mean, log_var = self.forward(x)\n",
    "\n",
    "        # 再構成誤差（バイナリクロスエントロピー）\n",
    "        # BCE = F.binary_cross_entropy(recon_x, x, reduction='sum')\n",
    "        BCE = F.binary_cross_entropy(recon_x, x, reduction='mean', size_average=False)\n",
    "\n",
    "        # KLダイバージェンス\n",
    "        # KLD = -0.5 * torch.sum(1 + log_var - mean.pow(2) - log_var.exp())\n",
    "        KLD = -0.5 * torch.mean(1 + log_var - mean.pow(2) - log_var.exp())\n",
    "\n",
    "        return KLD, BCE  # KLダイバージェンスと再構成誤差を返す\n"
   ]
  },
  {
   "cell_type": "markdown",
   "metadata": {},
   "source": [
    "学習"
   ]
  },
  {
   "cell_type": "code",
   "execution_count": 61,
   "metadata": {},
   "outputs": [
    {
     "name": "stderr",
     "output_type": "stream",
     "text": [
      "  0%|          | 2/52463 [00:00<5:53:14,  2.48it/s] "
     ]
    },
    {
     "name": "stdout",
     "output_type": "stream",
     "text": [
      "0 batch: loss 261576.000 = 1000.000 * 0.002 + 261574.297\n"
     ]
    },
    {
     "name": "stderr",
     "output_type": "stream",
     "text": [
      "  2%|▏         | 1005/52463 [00:31<26:12, 32.71it/s]"
     ]
    },
    {
     "name": "stdout",
     "output_type": "stream",
     "text": [
      "1000 batch: loss 120315.344 = 1000.000 * 0.887 + 119427.984\n"
     ]
    },
    {
     "name": "stderr",
     "output_type": "stream",
     "text": [
      "  4%|▍         | 2005/52463 [01:01<25:16, 33.28it/s]"
     ]
    },
    {
     "name": "stdout",
     "output_type": "stream",
     "text": [
      "2000 batch: loss 118119.016 = 1000.000 * 0.878 + 117241.117\n"
     ]
    },
    {
     "name": "stderr",
     "output_type": "stream",
     "text": [
      "  6%|▌         | 3005/52463 [01:33<25:34, 32.23it/s]  "
     ]
    },
    {
     "name": "stdout",
     "output_type": "stream",
     "text": [
      "3000 batch: loss 113642.820 = 1000.000 * 0.921 + 112721.758\n"
     ]
    },
    {
     "name": "stderr",
     "output_type": "stream",
     "text": [
      "  8%|▊         | 4005/52463 [02:04<24:36, 32.82it/s]"
     ]
    },
    {
     "name": "stdout",
     "output_type": "stream",
     "text": [
      "4000 batch: loss 114217.914 = 1000.000 * 1.024 + 113193.945\n"
     ]
    },
    {
     "name": "stderr",
     "output_type": "stream",
     "text": [
      " 10%|▉         | 5005/52463 [02:34<24:22, 32.46it/s]"
     ]
    },
    {
     "name": "stdout",
     "output_type": "stream",
     "text": [
      "5000 batch: loss 121151.484 = 1000.000 * 1.088 + 120063.461\n"
     ]
    },
    {
     "name": "stderr",
     "output_type": "stream",
     "text": [
      " 11%|█▏        | 6005/52463 [03:05<24:00, 32.25it/s]"
     ]
    },
    {
     "name": "stdout",
     "output_type": "stream",
     "text": [
      "6000 batch: loss 107867.562 = 1000.000 * 1.088 + 106779.188\n"
     ]
    },
    {
     "name": "stderr",
     "output_type": "stream",
     "text": [
      " 13%|█▎        | 7005/52463 [03:35<23:07, 32.77it/s]"
     ]
    },
    {
     "name": "stdout",
     "output_type": "stream",
     "text": [
      "7000 batch: loss 109176.195 = 1000.000 * 1.136 + 108039.859\n"
     ]
    },
    {
     "name": "stderr",
     "output_type": "stream",
     "text": [
      " 15%|█▌        | 8005/52463 [04:06<22:42, 32.64it/s]"
     ]
    },
    {
     "name": "stdout",
     "output_type": "stream",
     "text": [
      "8000 batch: loss 111334.844 = 1000.000 * 1.183 + 110151.547\n"
     ]
    },
    {
     "name": "stderr",
     "output_type": "stream",
     "text": [
      " 17%|█▋        | 9005/52463 [04:36<22:19, 32.43it/s]"
     ]
    },
    {
     "name": "stdout",
     "output_type": "stream",
     "text": [
      "9000 batch: loss 109314.359 = 1000.000 * 1.310 + 108004.148\n"
     ]
    },
    {
     "name": "stderr",
     "output_type": "stream",
     "text": [
      " 19%|█▉        | 10005/52463 [05:07<21:35, 32.78it/s]"
     ]
    },
    {
     "name": "stdout",
     "output_type": "stream",
     "text": [
      "10000 batch: loss 107999.094 = 1000.000 * 1.316 + 106683.000\n"
     ]
    },
    {
     "name": "stderr",
     "output_type": "stream",
     "text": [
      " 21%|██        | 11005/52463 [05:38<21:05, 32.77it/s]"
     ]
    },
    {
     "name": "stdout",
     "output_type": "stream",
     "text": [
      "11000 batch: loss 110779.266 = 1000.000 * 1.353 + 109426.344\n"
     ]
    },
    {
     "name": "stderr",
     "output_type": "stream",
     "text": [
      " 23%|██▎       | 12005/52463 [06:09<21:14, 31.76it/s]"
     ]
    },
    {
     "name": "stdout",
     "output_type": "stream",
     "text": [
      "12000 batch: loss 106951.922 = 1000.000 * 1.375 + 105577.250\n"
     ]
    },
    {
     "name": "stderr",
     "output_type": "stream",
     "text": [
      " 25%|██▍       | 13005/52463 [06:39<20:04, 32.75it/s]"
     ]
    },
    {
     "name": "stdout",
     "output_type": "stream",
     "text": [
      "13000 batch: loss 108002.734 = 1000.000 * 1.371 + 106631.562\n"
     ]
    },
    {
     "name": "stderr",
     "output_type": "stream",
     "text": [
      " 27%|██▋       | 14005/52463 [07:10<20:26, 31.36it/s]"
     ]
    },
    {
     "name": "stdout",
     "output_type": "stream",
     "text": [
      "14000 batch: loss 103572.125 = 1000.000 * 1.399 + 102173.359\n"
     ]
    },
    {
     "name": "stderr",
     "output_type": "stream",
     "text": [
      " 29%|██▊       | 15005/52463 [07:41<19:10, 32.56it/s]"
     ]
    },
    {
     "name": "stdout",
     "output_type": "stream",
     "text": [
      "15000 batch: loss 104509.055 = 1000.000 * 1.410 + 103099.359\n"
     ]
    },
    {
     "name": "stderr",
     "output_type": "stream",
     "text": [
      " 31%|███       | 16005/52463 [08:11<18:35, 32.68it/s]"
     ]
    },
    {
     "name": "stdout",
     "output_type": "stream",
     "text": [
      "16000 batch: loss 98332.203 = 1000.000 * 1.422 + 96910.602\n"
     ]
    },
    {
     "name": "stderr",
     "output_type": "stream",
     "text": [
      " 32%|███▏      | 17005/52463 [08:42<17:48, 33.17it/s]"
     ]
    },
    {
     "name": "stdout",
     "output_type": "stream",
     "text": [
      "17000 batch: loss 110427.594 = 1000.000 * 1.467 + 108960.719\n"
     ]
    },
    {
     "name": "stderr",
     "output_type": "stream",
     "text": [
      " 34%|███▍      | 18005/52463 [09:12<17:15, 33.27it/s]"
     ]
    },
    {
     "name": "stdout",
     "output_type": "stream",
     "text": [
      "18000 batch: loss 103784.844 = 1000.000 * 1.478 + 102306.750\n"
     ]
    },
    {
     "name": "stderr",
     "output_type": "stream",
     "text": [
      " 36%|███▌      | 19005/52463 [09:42<17:19, 32.19it/s]"
     ]
    },
    {
     "name": "stdout",
     "output_type": "stream",
     "text": [
      "19000 batch: loss 112078.844 = 1000.000 * 1.504 + 110575.016\n"
     ]
    },
    {
     "name": "stderr",
     "output_type": "stream",
     "text": [
      " 38%|███▊      | 20005/52463 [10:13<16:09, 33.47it/s]"
     ]
    },
    {
     "name": "stdout",
     "output_type": "stream",
     "text": [
      "20000 batch: loss 105378.688 = 1000.000 * 1.494 + 103885.047\n"
     ]
    },
    {
     "name": "stderr",
     "output_type": "stream",
     "text": [
      " 40%|████      | 21005/52463 [10:43<15:53, 32.99it/s]"
     ]
    },
    {
     "name": "stdout",
     "output_type": "stream",
     "text": [
      "21000 batch: loss 107421.406 = 1000.000 * 1.518 + 105903.781\n"
     ]
    },
    {
     "name": "stderr",
     "output_type": "stream",
     "text": [
      " 42%|████▏     | 22005/52463 [11:13<15:20, 33.09it/s]"
     ]
    },
    {
     "name": "stdout",
     "output_type": "stream",
     "text": [
      "22000 batch: loss 106625.164 = 1000.000 * 1.514 + 105111.281\n"
     ]
    },
    {
     "name": "stderr",
     "output_type": "stream",
     "text": [
      " 44%|████▍     | 23005/52463 [11:44<15:09, 32.38it/s]"
     ]
    },
    {
     "name": "stdout",
     "output_type": "stream",
     "text": [
      "23000 batch: loss 109435.781 = 1000.000 * 1.527 + 107908.953\n"
     ]
    },
    {
     "name": "stderr",
     "output_type": "stream",
     "text": [
      " 46%|████▌     | 24005/52463 [12:14<14:24, 32.93it/s]"
     ]
    },
    {
     "name": "stdout",
     "output_type": "stream",
     "text": [
      "24000 batch: loss 107148.555 = 1000.000 * 1.545 + 105603.977\n"
     ]
    },
    {
     "name": "stderr",
     "output_type": "stream",
     "text": [
      " 48%|████▊     | 25005/52463 [12:44<14:03, 32.55it/s]"
     ]
    },
    {
     "name": "stdout",
     "output_type": "stream",
     "text": [
      "25000 batch: loss 105410.469 = 1000.000 * 1.535 + 103875.953\n"
     ]
    },
    {
     "name": "stderr",
     "output_type": "stream",
     "text": [
      " 50%|████▉     | 26005/52463 [13:15<13:15, 33.26it/s]"
     ]
    },
    {
     "name": "stdout",
     "output_type": "stream",
     "text": [
      "26000 batch: loss 105179.367 = 1000.000 * 1.555 + 103624.469\n"
     ]
    },
    {
     "name": "stderr",
     "output_type": "stream",
     "text": [
      " 51%|█████▏    | 27005/52463 [13:45<12:53, 32.93it/s]"
     ]
    },
    {
     "name": "stdout",
     "output_type": "stream",
     "text": [
      "27000 batch: loss 105007.695 = 1000.000 * 1.554 + 103454.188\n"
     ]
    },
    {
     "name": "stderr",
     "output_type": "stream",
     "text": [
      " 53%|█████▎    | 28005/52463 [14:15<12:29, 32.62it/s]"
     ]
    },
    {
     "name": "stdout",
     "output_type": "stream",
     "text": [
      "28000 batch: loss 108603.367 = 1000.000 * 1.558 + 107045.633\n"
     ]
    },
    {
     "name": "stderr",
     "output_type": "stream",
     "text": [
      " 55%|█████▌    | 29005/52463 [14:45<11:56, 32.76it/s]"
     ]
    },
    {
     "name": "stdout",
     "output_type": "stream",
     "text": [
      "29000 batch: loss 109586.547 = 1000.000 * 1.557 + 108030.008\n"
     ]
    },
    {
     "name": "stderr",
     "output_type": "stream",
     "text": [
      " 57%|█████▋    | 30005/52463 [15:16<11:24, 32.81it/s]"
     ]
    },
    {
     "name": "stdout",
     "output_type": "stream",
     "text": [
      "30000 batch: loss 105105.883 = 1000.000 * 1.571 + 103535.125\n"
     ]
    },
    {
     "name": "stderr",
     "output_type": "stream",
     "text": [
      " 59%|█████▉    | 31005/52463 [15:46<10:42, 33.42it/s]"
     ]
    },
    {
     "name": "stdout",
     "output_type": "stream",
     "text": [
      "31000 batch: loss 101452.625 = 1000.000 * 1.577 + 99875.594\n"
     ]
    },
    {
     "name": "stderr",
     "output_type": "stream",
     "text": [
      " 61%|██████    | 32005/52463 [16:16<10:17, 33.14it/s]"
     ]
    },
    {
     "name": "stdout",
     "output_type": "stream",
     "text": [
      "32000 batch: loss 105430.125 = 1000.000 * 1.585 + 103844.648\n"
     ]
    },
    {
     "name": "stderr",
     "output_type": "stream",
     "text": [
      " 63%|██████▎   | 33005/52463 [16:47<09:59, 32.48it/s]"
     ]
    },
    {
     "name": "stdout",
     "output_type": "stream",
     "text": [
      "33000 batch: loss 104800.516 = 1000.000 * 1.591 + 103209.344\n"
     ]
    },
    {
     "name": "stderr",
     "output_type": "stream",
     "text": [
      " 65%|██████▍   | 34005/52463 [17:17<09:09, 33.57it/s]"
     ]
    },
    {
     "name": "stdout",
     "output_type": "stream",
     "text": [
      "34000 batch: loss 105284.352 = 1000.000 * 1.586 + 103697.984\n"
     ]
    },
    {
     "name": "stderr",
     "output_type": "stream",
     "text": [
      " 67%|██████▋   | 35005/52463 [17:47<08:54, 32.64it/s]"
     ]
    },
    {
     "name": "stdout",
     "output_type": "stream",
     "text": [
      "35000 batch: loss 103198.648 = 1000.000 * 1.605 + 101593.359\n"
     ]
    },
    {
     "name": "stderr",
     "output_type": "stream",
     "text": [
      " 69%|██████▊   | 36005/52463 [18:17<08:17, 33.06it/s]"
     ]
    },
    {
     "name": "stdout",
     "output_type": "stream",
     "text": [
      "36000 batch: loss 103395.203 = 1000.000 * 1.589 + 101805.820\n"
     ]
    },
    {
     "name": "stderr",
     "output_type": "stream",
     "text": [
      " 71%|███████   | 37005/52463 [18:48<07:54, 32.60it/s]"
     ]
    },
    {
     "name": "stdout",
     "output_type": "stream",
     "text": [
      "37000 batch: loss 102680.484 = 1000.000 * 1.590 + 101090.016\n"
     ]
    },
    {
     "name": "stderr",
     "output_type": "stream",
     "text": [
      " 72%|███████▏  | 38005/52463 [19:18<07:25, 32.47it/s]"
     ]
    },
    {
     "name": "stdout",
     "output_type": "stream",
     "text": [
      "38000 batch: loss 105670.836 = 1000.000 * 1.608 + 104062.664\n"
     ]
    },
    {
     "name": "stderr",
     "output_type": "stream",
     "text": [
      " 74%|███████▍  | 39005/52463 [19:49<06:51, 32.67it/s]"
     ]
    },
    {
     "name": "stdout",
     "output_type": "stream",
     "text": [
      "39000 batch: loss 103577.094 = 1000.000 * 1.620 + 101957.219\n"
     ]
    },
    {
     "name": "stderr",
     "output_type": "stream",
     "text": [
      " 76%|███████▋  | 40005/52463 [20:19<06:10, 33.63it/s]"
     ]
    },
    {
     "name": "stdout",
     "output_type": "stream",
     "text": [
      "40000 batch: loss 104243.328 = 1000.000 * 1.623 + 102620.828\n"
     ]
    },
    {
     "name": "stderr",
     "output_type": "stream",
     "text": [
      " 78%|███████▊  | 41005/52463 [20:50<05:46, 33.03it/s]"
     ]
    },
    {
     "name": "stdout",
     "output_type": "stream",
     "text": [
      "41000 batch: loss 102534.031 = 1000.000 * 1.631 + 100902.805\n"
     ]
    },
    {
     "name": "stderr",
     "output_type": "stream",
     "text": [
      " 80%|████████  | 42005/52463 [21:20<05:20, 32.59it/s]"
     ]
    },
    {
     "name": "stdout",
     "output_type": "stream",
     "text": [
      "42000 batch: loss 101793.742 = 1000.000 * 1.637 + 100156.828\n"
     ]
    },
    {
     "name": "stderr",
     "output_type": "stream",
     "text": [
      " 82%|████████▏ | 43005/52463 [21:50<04:47, 32.92it/s]"
     ]
    },
    {
     "name": "stdout",
     "output_type": "stream",
     "text": [
      "43000 batch: loss 102185.430 = 1000.000 * 1.631 + 100554.508\n"
     ]
    },
    {
     "name": "stderr",
     "output_type": "stream",
     "text": [
      " 84%|████████▍ | 44005/52463 [22:21<04:09, 33.83it/s]"
     ]
    },
    {
     "name": "stdout",
     "output_type": "stream",
     "text": [
      "44000 batch: loss 104948.938 = 1000.000 * 1.639 + 103310.320\n"
     ]
    },
    {
     "name": "stderr",
     "output_type": "stream",
     "text": [
      " 86%|████████▌ | 45005/52463 [22:51<03:49, 32.45it/s]"
     ]
    },
    {
     "name": "stdout",
     "output_type": "stream",
     "text": [
      "45000 batch: loss 100387.836 = 1000.000 * 1.650 + 98737.953\n"
     ]
    },
    {
     "name": "stderr",
     "output_type": "stream",
     "text": [
      " 88%|████████▊ | 46005/52463 [23:21<03:10, 33.90it/s]"
     ]
    },
    {
     "name": "stdout",
     "output_type": "stream",
     "text": [
      "46000 batch: loss 99218.453 = 1000.000 * 1.616 + 97602.203\n"
     ]
    },
    {
     "name": "stderr",
     "output_type": "stream",
     "text": [
      " 90%|████████▉ | 47005/52463 [23:52<02:46, 32.81it/s]"
     ]
    },
    {
     "name": "stdout",
     "output_type": "stream",
     "text": [
      "47000 batch: loss 101803.344 = 1000.000 * 1.641 + 100161.906\n"
     ]
    },
    {
     "name": "stderr",
     "output_type": "stream",
     "text": [
      " 92%|█████████▏| 48005/52463 [24:22<02:11, 33.81it/s]"
     ]
    },
    {
     "name": "stdout",
     "output_type": "stream",
     "text": [
      "48000 batch: loss 105691.273 = 1000.000 * 1.640 + 104050.781\n"
     ]
    },
    {
     "name": "stderr",
     "output_type": "stream",
     "text": [
      " 93%|█████████▎| 49005/52463 [24:52<01:43, 33.46it/s]"
     ]
    },
    {
     "name": "stdout",
     "output_type": "stream",
     "text": [
      "49000 batch: loss 105398.977 = 1000.000 * 1.648 + 103750.547\n"
     ]
    },
    {
     "name": "stderr",
     "output_type": "stream",
     "text": [
      " 95%|█████████▌| 50005/52463 [25:23<01:15, 32.68it/s]"
     ]
    },
    {
     "name": "stdout",
     "output_type": "stream",
     "text": [
      "50000 batch: loss 100103.938 = 1000.000 * 1.621 + 98482.531\n"
     ]
    },
    {
     "name": "stderr",
     "output_type": "stream",
     "text": [
      " 97%|█████████▋| 51005/52463 [25:53<00:44, 32.41it/s]"
     ]
    },
    {
     "name": "stdout",
     "output_type": "stream",
     "text": [
      "51000 batch: loss 103207.070 = 1000.000 * 1.633 + 101574.367\n"
     ]
    },
    {
     "name": "stderr",
     "output_type": "stream",
     "text": [
      " 99%|█████████▉| 52005/52463 [26:23<00:13, 33.17it/s]"
     ]
    },
    {
     "name": "stdout",
     "output_type": "stream",
     "text": [
      "52000 batch: loss 94785.523 = 1000.000 * 1.663 + 93122.852\n"
     ]
    },
    {
     "name": "stderr",
     "output_type": "stream",
     "text": [
      "100%|██████████| 52463/52463 [26:38<00:00, 32.82it/s]\n",
      "100%|██████████| 13116/13116 [03:02<00:00, 71.82it/s]\n"
     ]
    },
    {
     "name": "stdout",
     "output_type": "stream",
     "text": [
      "EPOCH: 1    Train Lower Bound: 106754.007812 (KL_loss: 1.458632. reconstruction_loss: 105295.367188)    Valid Lower Bound: 102344.304688\n"
     ]
    }
   ],
   "source": [
    "z_dim = 64\n",
    "assert z_dim >= 2\n",
    "n_epochs = 1\n",
    "beta = 300\n",
    "\n",
    "device = \"mps\" if torch.backends.mps.is_available() else \"cpu\"\n",
    "# device = \"cpu\"\n",
    "\n",
    "model = VAE_CNN(z_dim = z_dim).to(device)\n",
    "optimizer = optim.Adam(model.parameters(), lr=0.001)\n",
    "\n",
    "\n",
    "for epoch in range(n_epochs):\n",
    "    losses = []\n",
    "    KL_losses = []\n",
    "    reconstruction_losses = []\n",
    "\n",
    "    model.train()\n",
    "    for i, (x, black_rank, white_rank, move) in enumerate(tqdm(train_loader)):\n",
    "        x = x.float().to(device)  # データ型をfloatに変換してからデバイスに送る\n",
    "\n",
    "        model.zero_grad()\n",
    "\n",
    "        # KL_loss, reconstruction_lossの各項の計算\n",
    "        KL_loss, reconstruction_loss = model.loss(x)\n",
    "\n",
    "        # エビデンス下界の最大化のためマイナス付きの各項の値を最小化するようにパラメータを更新\n",
    "        loss = beta * KL_loss + reconstruction_loss\n",
    "\n",
    "        loss.backward()\n",
    "        optimizer.step()\n",
    "\n",
    "        losses.append(loss.cpu().detach().numpy())\n",
    "        KL_losses.append(KL_loss.cpu().detach().numpy())\n",
    "        reconstruction_losses.append(reconstruction_loss.cpu().detach().numpy())\n",
    "\n",
    "        # ミニバッチごとに進捗を表示\n",
    "        if i%1000 == 0: print(f\"{i} batch: loss {loss.item():.3f} = {beta:.3f} * {KL_loss.item():.3f} + {reconstruction_loss.item():.3f}\")\n",
    "\n",
    "\n",
    "    losses_val = []\n",
    "    model.eval()\n",
    "    for x, black_rank, white_rank, move in tqdm(valid_loader):\n",
    "        x = x.float().to(device)  # ここでも同様にデータ型をfloatに変換\n",
    "        KL_loss, reconstruction_loss = model.loss(x)\n",
    "        loss = KL_loss + reconstruction_loss\n",
    "        losses_val.append(loss.cpu().detach().numpy())\n",
    "\n",
    "\n",
    "    print('EPOCH: %d    Train Lower Bound: %lf (KL_loss: %lf. reconstruction_loss: %lf)    Valid Lower Bound: %lf' %\n",
    "          (epoch+1, np.average(losses), np.average(KL_losses), np.average(reconstruction_losses), np.average(losses_val)))\n"
   ]
  },
  {
   "cell_type": "markdown",
   "metadata": {},
   "source": [
    "学習すみモデルを保存"
   ]
  },
  {
   "cell_type": "code",
   "execution_count": 62,
   "metadata": {},
   "outputs": [],
   "source": [
    "import torch\n",
    "import datetime\n",
    "\n",
    "# 現在の時刻を取得\n",
    "current_time = datetime.datetime.now().strftime('%Y%m%d%H%M')\n",
    "\n",
    "# 保存するファイルのパスを設定\n",
    "save_path = f\"params/model_{current_time}.pth\"\n",
    "\n",
    "# モデルのパラメーターを保存\n",
    "torch.save(model.state_dict(), save_path)"
   ]
  },
  {
   "cell_type": "markdown",
   "metadata": {},
   "source": [
    "モデルを読み込み"
   ]
  },
  {
   "cell_type": "code",
   "execution_count": 24,
   "metadata": {},
   "outputs": [
    {
     "data": {
      "text/plain": [
       "<All keys matched successfully>"
      ]
     },
     "execution_count": 24,
     "metadata": {},
     "output_type": "execute_result"
    }
   ],
   "source": [
    "# モデルを読み込む\n",
    "z_dim = 64\n",
    "device = \"mps\" if torch.backends.mps.is_available() else \"cpu\"\n",
    "save_path = \"params/model_202401112108.pth\"\n",
    "\n",
    "model = VAE_CNN(z_dim = z_dim).to(device)\n",
    "model.load_state_dict(torch.load(save_path))\n"
   ]
  },
  {
   "cell_type": "markdown",
   "metadata": {},
   "source": [
    "再構成moveを可視化"
   ]
  },
  {
   "cell_type": "code",
   "execution_count": 71,
   "metadata": {},
   "outputs": [
    {
     "name": "stdout",
     "output_type": "stream",
     "text": [
      "reconstructed move\n"
     ]
    },
    {
     "data": {
      "image/png": "[encoded data removed]",
      "text/plain": [
       "<Figure size 640x480 with 1 Axes>"
      ]
     },
     "metadata": {},
     "output_type": "display_data"
    },
    {
     "data": {
      "image/png": "[encoded data removed]",
      "text/plain": [
       "<Figure size 640x480 with 1 Axes>"
      ]
     },
     "metadata": {},
     "output_type": "display_data"
    },
    {
     "data": {
      "text/plain": [
       "0"
      ]
     },
     "execution_count": 71,
     "metadata": {},
     "output_type": "execute_result"
    }
   ],
   "source": [
    "from src.board import visualize_matrix\n",
    "\n",
    "model.eval()\n",
    "\n",
    "i = 30\n",
    "x, black_rank, white_rank, move = valid_dataset[i]\n",
    "x = torch.from_numpy(x).float()\n",
    "x = x.unsqueeze(0)\n",
    "x = x.to(device)\n",
    "\n",
    "y, z_mu, z_logvar = model(x)\n",
    "y = y.cpu().detach().numpy()\n",
    "\n",
    "# # yの閾値処理\n",
    "th = 0.22\n",
    "y[y >= th] = 1\n",
    "y[y < th] = 0\n",
    "\n",
    "\n",
    "print(\"reconstructed move\")\n",
    "black_matrix, white_matrix = y.squeeze()\n",
    "visualize_matrix(black_matrix, white_matrix)\n",
    "# visualize_matrix(white_matrix, black_matrix)\n",
    "\n",
    "print(\"original move\")\n",
    "black_matrix, white_matrix = x.squeeze()\n",
    "visualize_matrix(black_matrix, white_matrix)"
   ]
  },
  {
   "cell_type": "markdown",
   "metadata": {},
   "source": [
    "潜在空間の可視化"
   ]
  },
  {
   "cell_type": "code",
   "execution_count": 51,
   "metadata": {},
   "outputs": [
    {
     "name": "stderr",
     "output_type": "stream",
     "text": [
      "  0%|          | 1000/6715159 [00:03<7:12:58, 258.45it/s]\n"
     ]
    },
    {
     "data": {
      "image/png": "[encoded data removed]",
      "text/plain": [
       "<Figure size 500x500 with 2 Axes>"
      ]
     },
     "metadata": {},
     "output_type": "display_data"
    }
   ],
   "source": [
    "from sklearn.manifold import TSNE\n",
    "from sklearn.decomposition import PCA\n",
    "from tqdm import tqdm\n",
    "\n",
    "def reparameterize(mean, log_var):\n",
    "    # log_varは実数全部とるがexpすることで正数のみ(STDは正数じゃないといけない)\n",
    "    std = torch.exp(0.5 * log_var)\n",
    "    eps = torch.randn_like(std)\n",
    "    return mean + eps * std\n",
    "\n",
    "model.eval()\n",
    "\n",
    "z_list = []\n",
    "labels = []\n",
    "label_name = \"move\"\n",
    "for i, (x, black_rank, white_rank, move) in enumerate(tqdm(valid_dataset)):\n",
    "    if i == 1000: break\n",
    "\n",
    "    label = move if label_name==\"move\" else black_rank if label_name==\"black_rank\" else white_rank\n",
    "    labels.append(label)\n",
    "    x = torch.from_numpy(x).float()\n",
    "    x = x.unsqueeze(0)\n",
    "    x = x.to(device)\n",
    "    y, z_mu, z_logvar = model(x)\n",
    "    # z = reparameterize(z_mu, z_logvar)\n",
    "    z = z_mu\n",
    "    z_list.append(z.cpu().detach().numpy()[0])\n",
    "\n",
    "z_val = np.stack(z_list)\n",
    "\n",
    "# 'TSNE' または 'PCA'\n",
    "REDUC = 'TSNE' \n",
    "if z_dim > 2:\n",
    "    if REDUC == \"TSNE\":\n",
    "        z_reduc = TSNE(n_components=2).fit_transform(z_val).T\n",
    "    elif REDUC == \"PCA\":\n",
    "        z_reduc = PCA(n_components=2).fit_transform(z_val).T\n",
    "    else:\n",
    "        raise ValueError(\"Please choose dimensionality reduction method from TSNE or PCA.\")\n",
    "elif z_dim == 2:\n",
    "    z_reduc = z_val.T\n",
    "else:\n",
    "    raise ValueError(\"z dimensionality must be larger or equal to 2.\")\n",
    "\n",
    "\n",
    "# colors = ['khaki', 'lightgreen', 'cornflowerblue', 'violet', 'sienna',\n",
    "#           'darkturquoise', 'slateblue', 'orange', 'darkcyan', 'tomato']\n",
    "\n",
    "cmap = plt.cm.hot\n",
    "vmin, vmax = min(labels), max(labels)\n",
    "colors = [cmap((label - vmin) / (vmax - vmin)) for label in labels]\n",
    "\n",
    "\n",
    "plt.figure(figsize=(5,5))\n",
    "\n",
    "plt.scatter(*z_reduc, s=0.7, c=colors)\n",
    "# plt.scatter(*z_reduc, s=0.7, c=[colors[label] for label in labels])\n",
    "\n",
    "# 凡例\n",
    "# for i in range(len(colors)): plt.scatter([],[], c=colors[i], label=i)\n",
    "# plt.legend()\n",
    "\n",
    "# 凡例の代わりにカラーバー\n",
    "sm = plt.cm.ScalarMappable(cmap=cmap, norm=plt.Normalize(vmin=vmin, vmax=vmax))\n",
    "plt.colorbar(sm, ax=plt.gca())  # 現在の軸にカラーバーを追加\n",
    "\n",
    "plt.title(f\"z_plots_per_{label_name}: z_dim={z_dim}\")\n",
    "plt.savefig(f\"figures/z_plots_per_{label_name}.png\")"
   ]
  },
  {
   "cell_type": "code",
   "execution_count": 50,
   "metadata": {},
   "outputs": [
    {
     "data": {
      "image/png": "[encoded data removed]",
      "text/plain": [
       "<Figure size 1500x1500 with 64 Axes>"
      ]
     },
     "metadata": {},
     "output_type": "display_data"
    }
   ],
   "source": [
    "# z_dim の定義\n",
    "z_dim = 64\n",
    "\n",
    "# 8x8のサブプロットを作成\n",
    "fig, axes = plt.subplots(8, 8, figsize=(15, 15))\n",
    "\n",
    "# 各eigenベクトルに対してヒストグラムを描画\n",
    "for i in range(z_dim):\n",
    "    row, col = divmod(i, 8)  # サブプロットの行と列を計算\n",
    "    ax = axes[row, col]\n",
    "    z_per_eigen = z_val[:, i]\n",
    "    vmin, vmax = min(z_per_eigen), max(z_per_eigen)\n",
    "    ax.hist(z_per_eigen, bins=100, range=(vmin, vmax))\n",
    "    ax.set_title(f\"eigen={i+1}\")\n",
    "\n",
    "plt.tight_layout()\n",
    "plt.show()\n"
   ]
  },
  {
   "cell_type": "code",
   "execution_count": null,
   "metadata": {},
   "outputs": [],
   "source": [
    "len(valid_dataset)"
   ]
  },
  {
   "cell_type": "markdown",
   "metadata": {},
   "source": [
    "Zをランダムサンプリング"
   ]
  },
  {
   "cell_type": "code",
   "execution_count": null,
   "metadata": {},
   "outputs": [],
   "source": [
    "from src.board import visualize_matrix\n",
    "\n",
    "# ランダムな潜在変数 z をサンプリング\n",
    "# ここでの z_dim は、モデルで使用されている潜在空間の次元数\n",
    "z = torch.randn(1, z_dim).to(device)\n",
    "\n",
    "# 学習済みのモデルの decoder 部分を使用して z を再構成\n",
    "with torch.no_grad():  # 勾配計算を行わない\n",
    "    model.eval()\n",
    "    y = model.decoder(z)\n",
    "\n",
    "y = y.cpu().detach().numpy()\n",
    "\n",
    "\n",
    "# yの閾値処理\n",
    "th = 0.25\n",
    "y[y >= th] = 1\n",
    "y[y < th] = 0\n",
    "\n",
    "print(\"z_dim:\", z_dim)\n",
    "# print(z)\n",
    "\n",
    "black_matrix, white_matrix = y.squeeze()\n",
    "visualize_matrix(black_matrix, white_matrix)\n"
   ]
  },
  {
   "cell_type": "code",
   "execution_count": null,
   "metadata": {},
   "outputs": [],
   "source": []
  },
  {
   "cell_type": "code",
   "execution_count": null,
   "metadata": {},
   "outputs": [],
   "source": []
  },
  {
   "cell_type": "code",
   "execution_count": null,
   "metadata": {},
   "outputs": [],
   "source": []
  }
 ],
 "metadata": {
  "kernelspec": {
   "display_name": "Python 3",
   "language": "python",
   "name": "python3"
  },
  "language_info": {
   "codemirror_mode": {
    "name": "ipython",
    "version": 3
   },
   "file_extension": ".py",
   "mimetype": "text/x-python",
   "name": "python",
   "nbconvert_exporter": "python",
   "pygments_lexer": "ipython3",
   "version": "3.10.13"
  },
  "orig_nbformat": 4
 },
 "nbformat": 4,
 "nbformat_minor": 2
}
