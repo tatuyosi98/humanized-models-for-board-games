{
 "cells": [
  {
   "cell_type": "markdown",
   "metadata": {},
   "source": [
    "# ライブラリ読み込み"
   ]
  },
  {
   "cell_type": "code",
   "execution_count": 1,
   "metadata": {},
   "outputs": [
    {
     "name": "stdout",
     "output_type": "stream",
     "text": [
      "/Users/keimy/git/humanized-models-for-board-games/igo\n"
     ]
    },
    {
     "data": {
      "text/plain": [
       "'/Users/keimy/git/humanized-models-for-board-games/igo'"
      ]
     },
     "execution_count": 1,
     "metadata": {},
     "output_type": "execute_result"
    }
   ],
   "source": [
    "import numpy as np\n",
    "import pandas as pd; pd.set_option('display.max_columns', None)\n",
    "import matplotlib.pyplot as plt\n",
    "\n",
    "# utility\n",
    "import time\n",
    "import copy as cp\n",
    "from tqdm import tqdm\n",
    "from collections import defaultdict\n",
    "import glob\n",
    "import os\n",
    "import sys\n",
    "from sys import stderr\n",
    "\n",
    "# 乱数\n",
    "rng = np.random.RandomState(1234)\n",
    "random_state = 42\n",
    "\n",
    "# pytorch\n",
    "# conda install pytorch torchvision -c pytorch\n",
    "import torch\n",
    "import torch.nn as nn\n",
    "import torch.optim as optim\n",
    "import torch.autograd as autograd\n",
    "import torch.nn.functional as F\n",
    "from torchvision import datasets, transforms, models\n",
    "\n",
    "# 囲碁ライブラリ\n",
    "from sgfmill import sgf\n",
    "from sgfmill import boards\n",
    "\n",
    "# ルートに移動\n",
    "%cd /Users/keimy/git/humanized-models-for-board-games/igo\n",
    "%pwd\n"
   ]
  },
  {
   "cell_type": "markdown",
   "metadata": {},
   "source": [
    "# Visualize Data"
   ]
  },
  {
   "cell_type": "code",
   "execution_count": 2,
   "metadata": {},
   "outputs": [
    {
     "data": {
      "text/plain": [
       "(33575793,)"
      ]
     },
     "execution_count": 2,
     "metadata": {},
     "output_type": "execute_result"
    }
   ],
   "source": [
    "# .npy ファイルからデータをロード\n",
    "moves = np.load('./preprocess/arrays_at_move.npy')\n",
    "\n",
    "moves.shape"
   ]
  },
  {
   "cell_type": "code",
   "execution_count": null,
   "metadata": {},
   "outputs": [],
   "source": [
    "# movesを圧縮してnumpyに保存\n",
    "np.savez_compressed('./preprocess/arrays_at_move.npz', moves)"
   ]
  },
  {
   "cell_type": "code",
   "execution_count": 3,
   "metadata": {},
   "outputs": [
    {
     "data": {
      "text/plain": [
       "0"
      ]
     },
     "execution_count": 3,
     "metadata": {},
     "output_type": "execute_result"
    }
   ],
   "source": [
    "from src.board import visualize_matrix\n",
    "\n",
    "items = moves[200]\n",
    "black_matrix, white_matrix = items[\"black_matrix\"], items[\"white_matrix\"]\n",
    "visualize_matrix(black_matrix, white_matrix)\n"
   ]
  },
  {
   "cell_type": "markdown",
   "metadata": {},
   "source": [
    "# Make Dataloaders"
   ]
  },
  {
   "cell_type": "code",
   "execution_count": 4,
   "metadata": {},
   "outputs": [
    {
     "name": "stdout",
     "output_type": "stream",
     "text": [
      "Combined Matrix Shape: torch.Size([1024, 2, 19, 19])\n",
      "Black Rank: torch.Size([1024])\n",
      "White Rank: torch.Size([1024])\n",
      "Move: torch.Size([1024])\n"
     ]
    }
   ],
   "source": [
    "import torch\n",
    "from torch.utils.data import Dataset, DataLoader\n",
    "\n",
    "class CustomGoDataset(Dataset):\n",
    "    def __init__(self, numpy_arrays):\n",
    "        self.data = numpy_arrays\n",
    "\n",
    "    def __len__(self):\n",
    "        return len(self.data)\n",
    "\n",
    "    def __getitem__(self, idx):\n",
    "        item = self.data[idx]\n",
    "        black_matrix = item['black_matrix']\n",
    "        white_matrix = item['white_matrix']\n",
    "        black_rank = item['black_rank']\n",
    "        white_rank = item['white_rank']\n",
    "        move = item['move']\n",
    "        X = np.stack([black_matrix, white_matrix], axis=0)\n",
    "        return X, black_rank, white_rank, move\n",
    "\n",
    "\n",
    "# 元のデータセットをカスタムデータセットに変換\n",
    "moves2 = CustomGoDataset(moves)\n",
    "\n",
    "# データセットの分割\n",
    "train_size = int(0.8 * len(moves2))\n",
    "valid_size = len(moves2) - train_size\n",
    "train_dataset, valid_dataset = torch.utils.data.random_split(moves2, [train_size, valid_size])\n",
    "\n",
    "# DataLoaderの定義\n",
    "batch_size = 1024\n",
    "train_loader = DataLoader(train_dataset, batch_size=batch_size, shuffle=True)\n",
    "valid_loader = DataLoader(valid_dataset, batch_size=batch_size, shuffle=False)\n",
    "\n",
    "\n",
    "# DataLoaderを使ったデータの取得\n",
    "for X, black_rank, white_rank, move in train_loader:\n",
    "    print(f\"Combined Matrix Shape: {X.shape}\")\n",
    "    print(f\"Black Rank: {black_rank.shape}\")\n",
    "    print(f\"White Rank: {white_rank.shape}\")\n",
    "    print(f\"Move: {move.shape}\")\n",
    "    break\n"
   ]
  },
  {
   "cell_type": "markdown",
   "metadata": {},
   "source": [
    "# VAE-linear"
   ]
  },
  {
   "cell_type": "code",
   "execution_count": null,
   "metadata": {},
   "outputs": [],
   "source": [
    "from src.model.VAE_linear import VAE_linear\n",
    "z_dim = 10\n",
    "assert z_dim >= 2\n",
    "input_dim =  2 * 19 * 19\n",
    "n_epochs = 3\n",
    "\n",
    "device = \"mps\" if torch.backends.mps.is_available() else \"cpu\"\n",
    "# device = \"cpu\"\n",
    "\n",
    "model = VAE_linear(z_dim = z_dim, input_dim = input_dim).to(device)\n",
    "optimizer = optim.Adam(model.parameters(), lr=0.001)\n",
    "\n",
    "\n",
    "for epoch in range(n_epochs):\n",
    "    losses = []\n",
    "    KL_losses = []\n",
    "    reconstruction_losses = []\n",
    "\n",
    "    model.train()\n",
    "    for x in train_loader:\n",
    "        x = x.float().to(device)  # データ型をfloatに変換してからデバイスに送る\n",
    "\n",
    "        model.zero_grad()\n",
    "\n",
    "        # KL_loss, reconstruction_lossの各項の計算\n",
    "        KL_loss, reconstruction_loss = model.loss(x)\n",
    "\n",
    "        # エビデンス下界の最大化のためマイナス付きの各項の値を最小化するようにパラメータを更新\n",
    "        loss = KL_loss + reconstruction_loss\n",
    "\n",
    "        loss.backward()\n",
    "        optimizer.step()\n",
    "\n",
    "        losses.append(loss.cpu().detach().numpy())\n",
    "        KL_losses.append(KL_loss.cpu().detach().numpy())\n",
    "        reconstruction_losses.append(reconstruction_loss.cpu().detach().numpy())\n",
    "\n",
    "    losses_val = []\n",
    "    model.eval()\n",
    "    for x in valid_loader:\n",
    "        x = x.float().to(device)  # ここでも同様にデータ型をfloatに変換\n",
    "\n",
    "        KL_loss, reconstruction_loss = model.loss(x)\n",
    "\n",
    "        loss = KL_loss + reconstruction_loss\n",
    "\n",
    "        losses_val.append(loss.cpu().detach().numpy())\n",
    "\n",
    "    print('EPOCH: %d    Train Lower Bound: %lf (KL_loss: %lf. reconstruction_loss: %lf)    Valid Lower Bound: %lf' %\n",
    "          (epoch+1, np.average(losses), np.average(KL_losses), np.average(reconstruction_losses), np.average(losses_val)))\n"
   ]
  },
  {
   "cell_type": "markdown",
   "metadata": {},
   "source": [
    "任意のxをもとに可視化"
   ]
  },
  {
   "cell_type": "markdown",
   "metadata": {},
   "source": [
    "xはバッチで投げればy,zもバッチで返ってくる\n",
    "\n",
    "\n",
    "xを単体で投げた場合はバッチサイズ=1と解釈されて\n",
    "\n",
    "y,zもバッチサイズ=1の次元になるのでスクイーズが必要"
   ]
  },
  {
   "cell_type": "code",
   "execution_count": null,
   "metadata": {},
   "outputs": [],
   "source": [
    "model.eval()\n",
    "\n",
    "for x in valid_loader:\n",
    "    print(x.shape, x.dtype)\n",
    "    x = x.float().to(device)\n",
    "\n",
    "    # xはバッチで投げている\n",
    "    y, z = model(x)\n",
    "    y = y.cpu().detach().numpy()\n",
    "\n",
    "    print(y.shape, z.shape)\n",
    "    break\n"
   ]
  },
  {
   "cell_type": "markdown",
   "metadata": {},
   "source": [
    "xを単体で投げる"
   ]
  },
  {
   "cell_type": "code",
   "execution_count": null,
   "metadata": {},
   "outputs": [],
   "source": [
    "model.eval()\n",
    "\n",
    "i = 40\n",
    "x = valid_dataset[i]\n",
    "x = torch.from_numpy(x).float()\n",
    "x = x.to(device)\n",
    "\n",
    "# x単体を投げる\n",
    "y, z = model(x)\n",
    "y = y.cpu().detach().numpy()\n",
    "\n",
    "\n",
    "x.shape, y.shape, z.shape"
   ]
  },
  {
   "cell_type": "code",
   "execution_count": null,
   "metadata": {},
   "outputs": [],
   "source": [
    "model.eval()\n",
    "\n",
    "i = 40\n",
    "x = valid_dataset[i]\n",
    "x = torch.from_numpy(x).float()\n",
    "x = x.to(device)\n",
    "\n",
    "y, z = model(x)\n",
    "y = y.cpu().detach().numpy()\n",
    "\n",
    "# yの閾値処理\n",
    "th = 0.24\n",
    "y[y >= th] = 1\n",
    "y[y < th] = 0\n",
    "\n",
    "print(z)\n",
    "\n",
    "print(\"reconstructed move\")\n",
    "black_matrix, white_matrix = y.squeeze()\n",
    "visualize_matrix(black_matrix, white_matrix)\n",
    "\n",
    "print(\"original move\")\n",
    "black_matrix, white_matrix = x.squeeze()\n",
    "visualize_matrix(black_matrix, white_matrix)"
   ]
  },
  {
   "cell_type": "markdown",
   "metadata": {},
   "source": [
    "Zのランダムサンプリング"
   ]
  },
  {
   "cell_type": "code",
   "execution_count": null,
   "metadata": {},
   "outputs": [],
   "source": [
    "z = torch.randn([1, z_dim]).to(device)\n",
    "\n",
    "model.eval()\n",
    "y = model._decoder(z)\n",
    "y = y.cpu().detach().numpy()\n",
    "\n",
    "# yの閾値処理\n",
    "th = 0.24\n",
    "y[y >= th] = 1\n",
    "y[y < th] = 0\n",
    "\n",
    "print(z)\n",
    "black_matrix, white_matrix = y.squeeze()\n",
    "visualize_matrix(black_matrix, white_matrix)"
   ]
  },
  {
   "cell_type": "markdown",
   "metadata": {},
   "source": [
    "# VAE-CNN"
   ]
  },
  {
   "cell_type": "code",
   "execution_count": 7,
   "metadata": {},
   "outputs": [],
   "source": [
    "import numpy as np\n",
    "import matplotlib.pyplot as plt\n",
    "import seaborn as sns\n",
    "\n",
    "import torch\n",
    "import torch.nn as nn\n",
    "import torch.optim as optim\n",
    "import torch.autograd as autograd\n",
    "import torch.nn.functional as F\n",
    "from torchvision import datasets, transforms, models\n",
    "\n",
    "from sklearn.manifold import TSNE\n",
    "from sklearn.decomposition import PCA\n",
    "from sklearn.utils import shuffle\n",
    "from sklearn.metrics import f1_score\n",
    "from sklearn.model_selection import train_test_split\n",
    "from sklearn.metrics import accuracy_score\n",
    "\n",
    "from typing import Tuple\n",
    "\n",
    "rng = np.random.RandomState(1234)\n",
    "random_state = 42\n",
    "device = \"mps\" if torch.backends.mps.is_available() else \"cpu\"\n",
    "\n",
    "\n",
    "class CNNEncoder(nn.Module):\n",
    "    \"\"\" CNNベースのエンコーダ \"\"\"\n",
    "    def __init__(self, z_dim, h_dim=128, indim = (19, 19), c_init = 2, outdim_conv=8):\n",
    "        super(CNNEncoder, self).__init__()\n",
    "        self.conv1 = nn.Conv2d(c_init, 2, kernel_size=3, stride=1, padding=1, bias=False)\n",
    "        self.conv2 = nn.Conv2d(2, 4, kernel_size=3, stride=1, padding=1, bias=False)\n",
    "        self.conv3 = nn.Conv2d(4, 4, kernel_size=3, stride=1, padding=1, bias=False)\n",
    "        self.conv4 = nn.Conv2d(4, outdim_conv, kernel_size=3, stride=1, padding=1, bias=False)\n",
    "        \n",
    "        self.fc1 = nn.Linear(outdim_conv * indim[0] * indim[1], h_dim)\n",
    "        self.fc_mean = nn.Linear(h_dim, z_dim)\n",
    "        self.fc_var = nn.Linear(h_dim, z_dim)\n",
    "\n",
    "    def forward(self, x):\n",
    "        x = F.relu(self.conv1(x))\n",
    "        x = F.relu(self.conv2(x))\n",
    "        x = F.relu(self.conv3(x))\n",
    "        x = F.relu(self.conv4(x))\n",
    "        # x.size(0)はバッチサイズ\n",
    "        x = x.view(x.size(0), -1)\n",
    "        x = F.relu(self.fc1(x))\n",
    "        mean = self.fc_mean(x)\n",
    "        # log_varは実数全部とるのでexp(log_var)すれば正数になる！\n",
    "        log_var = self.fc_var(x)\n",
    "        return mean, log_var\n",
    "\n",
    "\n",
    "class CNNDecoder(nn.Module):\n",
    "    \"\"\" CNNベースのデコーダ \"\"\"\n",
    "    def __init__(self, z_dim, h_dim=128, indim = (19, 19), c_init = 2, indim_deconv=8):\n",
    "        super(CNNDecoder, self).__init__()\n",
    "        self.fc1 = nn.Linear(z_dim, h_dim)\n",
    "        self.fc2 = nn.Linear(h_dim, indim_deconv * indim[0] * indim[1])\n",
    "\n",
    "        self.deconv1 = nn.ConvTranspose2d(indim_deconv, 4, kernel_size=3, stride=1, padding=1)\n",
    "        self.deconv2 = nn.ConvTranspose2d(4, 4, kernel_size=3, stride=1, padding=1)\n",
    "        self.deconv3 = nn.ConvTranspose2d(4, 2, kernel_size=3, stride=1, padding=1)\n",
    "        self.deconv4 = nn.ConvTranspose2d(2, c_init, kernel_size=3, stride=1, padding=1)\n",
    "\n",
    "    def forward(self, z, indim = (19, 19), indim_deconv=8):\n",
    "        z = F.relu(self.fc1(z))\n",
    "        z = F.relu(self.fc2(z))\n",
    "        # z.size(0)はバッチサイズ\n",
    "        z = z.view(z.size(0), indim_deconv, indim[0], indim[1])\n",
    "        z = F.relu(self.deconv1(z))\n",
    "        z = F.relu(self.deconv2(z))\n",
    "        z = F.relu(self.deconv3(z))\n",
    "        reconstruction = torch.sigmoid(self.deconv4(z))\n",
    "        return reconstruction\n",
    "\n",
    "\n",
    "class VAE_CNN(nn.Module):\n",
    "    \"\"\" CNNベースのVAE \"\"\"\n",
    "    def __init__(self, z_dim=64, h_dim=128):\n",
    "        super(VAE_CNN, self).__init__()\n",
    "        self.encoder = CNNEncoder(z_dim, h_dim)\n",
    "        self.decoder = CNNDecoder(z_dim, h_dim)\n",
    "\n",
    "    def reparameterize(self, mean, log_var):\n",
    "        # log_varは実数全部とるがexpすることで正数のみ(STDは正数じゃないといけない)\n",
    "        std = torch.exp(0.5 * log_var)\n",
    "        eps = torch.randn_like(std)\n",
    "        return mean + eps * std\n",
    "\n",
    "    def forward(self, x):\n",
    "        mean, log_var = self.encoder(x)\n",
    "        z = self.reparameterize(mean, log_var)\n",
    "        return self.decoder(z), mean, log_var\n",
    "    \n",
    "\n",
    "    def loss(self, x):\n",
    "        # モデルのforwardパスを使用して、再構成されたデータ、平均、対数分散を取得\n",
    "        recon_x, mean, log_var = self.forward(x)\n",
    "\n",
    "        # 再構成誤差（バイナリクロスエントロピー）\n",
    "        # BCE = F.binary_cross_entropy(recon_x, x, reduction='sum')\n",
    "        BCE = F.binary_cross_entropy(recon_x, x, reduction='mean', size_average=False)\n",
    "\n",
    "        # KLダイバージェンス\n",
    "        # KLD = -0.5 * torch.sum(1 + log_var - mean.pow(2) - log_var.exp())\n",
    "        KLD = -0.5 * torch.mean(1 + log_var - mean.pow(2) - log_var.exp())\n",
    "\n",
    "        return KLD, BCE  # KLダイバージェンスと再構成誤差を返す\n"
   ]
  },
  {
   "cell_type": "markdown",
   "metadata": {},
   "source": [
    "学習"
   ]
  },
  {
   "cell_type": "code",
   "execution_count": 8,
   "metadata": {},
   "outputs": [
    {
     "name": "stderr",
     "output_type": "stream",
     "text": [
      "  0%|          | 0/26232 [00:00<?, ?it/s]/Users/keimy/anaconda3/envs/world_model/lib/python3.10/site-packages/torch/nn/_reduction.py:42: UserWarning: size_average and reduce args will be deprecated, please use reduction='sum' instead.\n",
      "  warnings.warn(warning.format(ret))\n",
      "  0%|          | 4/26232 [00:01<2:34:40,  2.83it/s] "
     ]
    },
    {
     "name": "stdout",
     "output_type": "stream",
     "text": [
      "0 batch: 300 * 0.00000 + 512\n"
     ]
    },
    {
     "name": "stderr",
     "output_type": "stream",
     "text": [
      "  2%|▏         | 505/26232 [00:19<15:01, 28.54it/s]"
     ]
    },
    {
     "name": "stdout",
     "output_type": "stream",
     "text": [
      "500 batch: 300 * 0.00266 + 241\n"
     ]
    },
    {
     "name": "stderr",
     "output_type": "stream",
     "text": [
      "  4%|▍         | 1006/26232 [00:36<15:03, 27.91it/s]"
     ]
    },
    {
     "name": "stdout",
     "output_type": "stream",
     "text": [
      "1000 batch: 300 * 0.00287 + 221\n"
     ]
    },
    {
     "name": "stderr",
     "output_type": "stream",
     "text": [
      "  6%|▌         | 1506/26232 [00:54<15:00, 27.45it/s]"
     ]
    },
    {
     "name": "stdout",
     "output_type": "stream",
     "text": [
      "1500 batch: 300 * 0.00296 + 218\n"
     ]
    },
    {
     "name": "stderr",
     "output_type": "stream",
     "text": [
      "  8%|▊         | 2004/26232 [01:13<14:40, 27.52it/s]"
     ]
    },
    {
     "name": "stdout",
     "output_type": "stream",
     "text": [
      "2000 batch: 300 * 0.00309 + 216\n"
     ]
    },
    {
     "name": "stderr",
     "output_type": "stream",
     "text": [
      " 10%|▉         | 2505/26232 [01:31<14:14, 27.75it/s]"
     ]
    },
    {
     "name": "stdout",
     "output_type": "stream",
     "text": [
      "2500 batch: 300 * 0.00317 + 216\n"
     ]
    },
    {
     "name": "stderr",
     "output_type": "stream",
     "text": [
      " 11%|█▏        | 3004/26232 [01:50<20:10, 19.18it/s]"
     ]
    },
    {
     "name": "stdout",
     "output_type": "stream",
     "text": [
      "3000 batch: 300 * 0.00321 + 207\n"
     ]
    },
    {
     "name": "stderr",
     "output_type": "stream",
     "text": [
      " 13%|█▎        | 3506/26232 [02:08<13:49, 27.39it/s]"
     ]
    },
    {
     "name": "stdout",
     "output_type": "stream",
     "text": [
      "3500 batch: 300 * 0.00329 + 205\n"
     ]
    },
    {
     "name": "stderr",
     "output_type": "stream",
     "text": [
      " 15%|█▌        | 4004/26232 [02:27<13:29, 27.48it/s]"
     ]
    },
    {
     "name": "stdout",
     "output_type": "stream",
     "text": [
      "4000 batch: 300 * 0.00334 + 201\n"
     ]
    },
    {
     "name": "stderr",
     "output_type": "stream",
     "text": [
      " 17%|█▋        | 4505/26232 [02:45<13:36, 26.62it/s]"
     ]
    },
    {
     "name": "stdout",
     "output_type": "stream",
     "text": [
      "4500 batch: 300 * 0.00339 + 205\n"
     ]
    },
    {
     "name": "stderr",
     "output_type": "stream",
     "text": [
      " 19%|█▉        | 5006/26232 [03:04<13:14, 26.72it/s]"
     ]
    },
    {
     "name": "stdout",
     "output_type": "stream",
     "text": [
      "5000 batch: 300 * 0.00345 + 199\n"
     ]
    },
    {
     "name": "stderr",
     "output_type": "stream",
     "text": [
      " 21%|██        | 5505/26232 [03:22<12:47, 27.02it/s]"
     ]
    },
    {
     "name": "stdout",
     "output_type": "stream",
     "text": [
      "5500 batch: 300 * 0.00350 + 206\n"
     ]
    },
    {
     "name": "stderr",
     "output_type": "stream",
     "text": [
      " 23%|██▎       | 6004/26232 [03:41<12:43, 26.50it/s]"
     ]
    },
    {
     "name": "stdout",
     "output_type": "stream",
     "text": [
      "6000 batch: 300 * 0.00353 + 202\n"
     ]
    },
    {
     "name": "stderr",
     "output_type": "stream",
     "text": [
      " 25%|██▍       | 6506/26232 [04:00<12:20, 26.65it/s]"
     ]
    },
    {
     "name": "stdout",
     "output_type": "stream",
     "text": [
      "6500 batch: 300 * 0.00356 + 197\n"
     ]
    },
    {
     "name": "stderr",
     "output_type": "stream",
     "text": [
      " 27%|██▋       | 7006/26232 [04:18<11:48, 27.14it/s]"
     ]
    },
    {
     "name": "stdout",
     "output_type": "stream",
     "text": [
      "7000 batch: 300 * 0.00355 + 198\n"
     ]
    },
    {
     "name": "stderr",
     "output_type": "stream",
     "text": [
      " 29%|██▊       | 7505/26232 [04:37<11:53, 26.23it/s]"
     ]
    },
    {
     "name": "stdout",
     "output_type": "stream",
     "text": [
      "7500 batch: 300 * 0.00359 + 201\n"
     ]
    },
    {
     "name": "stderr",
     "output_type": "stream",
     "text": [
      " 31%|███       | 8006/26232 [04:55<11:11, 27.13it/s]"
     ]
    },
    {
     "name": "stdout",
     "output_type": "stream",
     "text": [
      "8000 batch: 300 * 0.00361 + 197\n"
     ]
    },
    {
     "name": "stderr",
     "output_type": "stream",
     "text": [
      " 32%|███▏      | 8504/26232 [05:14<11:23, 25.93it/s]"
     ]
    },
    {
     "name": "stdout",
     "output_type": "stream",
     "text": [
      "8500 batch: 300 * 0.00361 + 195\n"
     ]
    },
    {
     "name": "stderr",
     "output_type": "stream",
     "text": [
      " 34%|███▍      | 9005/26232 [05:32<10:32, 27.22it/s]"
     ]
    },
    {
     "name": "stdout",
     "output_type": "stream",
     "text": [
      "9000 batch: 300 * 0.00364 + 200\n"
     ]
    },
    {
     "name": "stderr",
     "output_type": "stream",
     "text": [
      " 36%|███▌      | 9506/26232 [05:51<09:53, 28.20it/s]"
     ]
    },
    {
     "name": "stdout",
     "output_type": "stream",
     "text": [
      "9500 batch: 300 * 0.00365 + 194\n"
     ]
    },
    {
     "name": "stderr",
     "output_type": "stream",
     "text": [
      " 38%|███▊      | 10006/26232 [06:09<10:17, 26.28it/s]"
     ]
    },
    {
     "name": "stdout",
     "output_type": "stream",
     "text": [
      "10000 batch: 300 * 0.00362 + 196\n"
     ]
    },
    {
     "name": "stderr",
     "output_type": "stream",
     "text": [
      " 40%|████      | 10506/26232 [06:28<09:59, 26.23it/s]"
     ]
    },
    {
     "name": "stdout",
     "output_type": "stream",
     "text": [
      "10500 batch: 300 * 0.00364 + 197\n"
     ]
    },
    {
     "name": "stderr",
     "output_type": "stream",
     "text": [
      " 42%|████▏     | 11004/26232 [06:46<09:05, 27.93it/s]"
     ]
    },
    {
     "name": "stdout",
     "output_type": "stream",
     "text": [
      "11000 batch: 300 * 0.00367 + 202\n"
     ]
    },
    {
     "name": "stderr",
     "output_type": "stream",
     "text": [
      " 44%|████▍     | 11506/26232 [07:05<09:28, 25.91it/s]"
     ]
    },
    {
     "name": "stdout",
     "output_type": "stream",
     "text": [
      "11500 batch: 300 * 0.00365 + 196\n"
     ]
    },
    {
     "name": "stderr",
     "output_type": "stream",
     "text": [
      " 46%|████▌     | 12005/26232 [07:23<08:36, 27.54it/s]"
     ]
    },
    {
     "name": "stdout",
     "output_type": "stream",
     "text": [
      "12000 batch: 300 * 0.00369 + 198\n"
     ]
    },
    {
     "name": "stderr",
     "output_type": "stream",
     "text": [
      " 48%|████▊     | 12506/26232 [07:41<08:29, 26.95it/s]"
     ]
    },
    {
     "name": "stdout",
     "output_type": "stream",
     "text": [
      "12500 batch: 300 * 0.00368 + 197\n"
     ]
    },
    {
     "name": "stderr",
     "output_type": "stream",
     "text": [
      " 50%|████▉     | 13005/26232 [07:59<08:05, 27.27it/s]"
     ]
    },
    {
     "name": "stdout",
     "output_type": "stream",
     "text": [
      "13000 batch: 300 * 0.00369 + 203\n"
     ]
    },
    {
     "name": "stderr",
     "output_type": "stream",
     "text": [
      " 51%|█████▏    | 13505/26232 [08:18<07:28, 28.37it/s]"
     ]
    },
    {
     "name": "stdout",
     "output_type": "stream",
     "text": [
      "13500 batch: 300 * 0.00367 + 200\n"
     ]
    },
    {
     "name": "stderr",
     "output_type": "stream",
     "text": [
      " 53%|█████▎    | 14006/26232 [08:36<07:11, 28.31it/s]"
     ]
    },
    {
     "name": "stdout",
     "output_type": "stream",
     "text": [
      "14000 batch: 300 * 0.00367 + 197\n"
     ]
    },
    {
     "name": "stderr",
     "output_type": "stream",
     "text": [
      " 55%|█████▌    | 14505/26232 [08:54<06:47, 28.74it/s]"
     ]
    },
    {
     "name": "stdout",
     "output_type": "stream",
     "text": [
      "14500 batch: 300 * 0.00370 + 196\n"
     ]
    },
    {
     "name": "stderr",
     "output_type": "stream",
     "text": [
      " 57%|█████▋    | 15005/26232 [09:12<06:40, 28.02it/s]"
     ]
    },
    {
     "name": "stdout",
     "output_type": "stream",
     "text": [
      "15000 batch: 300 * 0.00372 + 194\n"
     ]
    },
    {
     "name": "stderr",
     "output_type": "stream",
     "text": [
      " 59%|█████▉    | 15505/26232 [09:30<06:24, 27.87it/s]"
     ]
    },
    {
     "name": "stdout",
     "output_type": "stream",
     "text": [
      "15500 batch: 300 * 0.00372 + 199\n"
     ]
    },
    {
     "name": "stderr",
     "output_type": "stream",
     "text": [
      " 61%|██████    | 16004/26232 [09:49<06:05, 27.98it/s]"
     ]
    },
    {
     "name": "stdout",
     "output_type": "stream",
     "text": [
      "16000 batch: 300 * 0.00370 + 192\n"
     ]
    },
    {
     "name": "stderr",
     "output_type": "stream",
     "text": [
      " 63%|██████▎   | 16505/26232 [10:07<05:52, 27.58it/s]"
     ]
    },
    {
     "name": "stdout",
     "output_type": "stream",
     "text": [
      "16500 batch: 300 * 0.00371 + 194\n"
     ]
    },
    {
     "name": "stderr",
     "output_type": "stream",
     "text": [
      " 65%|██████▍   | 17005/26232 [10:25<05:33, 27.71it/s]"
     ]
    },
    {
     "name": "stdout",
     "output_type": "stream",
     "text": [
      "17000 batch: 300 * 0.00368 + 198\n"
     ]
    },
    {
     "name": "stderr",
     "output_type": "stream",
     "text": [
      " 67%|██████▋   | 17505/26232 [10:43<05:12, 27.92it/s]"
     ]
    },
    {
     "name": "stdout",
     "output_type": "stream",
     "text": [
      "17500 batch: 300 * 0.00374 + 195\n"
     ]
    },
    {
     "name": "stderr",
     "output_type": "stream",
     "text": [
      " 69%|██████▊   | 18005/26232 [11:01<04:51, 28.23it/s]"
     ]
    },
    {
     "name": "stdout",
     "output_type": "stream",
     "text": [
      "18000 batch: 300 * 0.00373 + 192\n"
     ]
    },
    {
     "name": "stderr",
     "output_type": "stream",
     "text": [
      " 71%|███████   | 18506/26232 [11:20<04:44, 27.12it/s]"
     ]
    },
    {
     "name": "stdout",
     "output_type": "stream",
     "text": [
      "18500 batch: 300 * 0.00373 + 195\n"
     ]
    },
    {
     "name": "stderr",
     "output_type": "stream",
     "text": [
      " 72%|███████▏  | 19006/26232 [11:38<04:13, 28.45it/s]"
     ]
    },
    {
     "name": "stdout",
     "output_type": "stream",
     "text": [
      "19000 batch: 300 * 0.00372 + 196\n"
     ]
    },
    {
     "name": "stderr",
     "output_type": "stream",
     "text": [
      " 74%|███████▍  | 19504/26232 [11:56<04:03, 27.66it/s]"
     ]
    },
    {
     "name": "stdout",
     "output_type": "stream",
     "text": [
      "19500 batch: 300 * 0.00372 + 197\n"
     ]
    },
    {
     "name": "stderr",
     "output_type": "stream",
     "text": [
      " 76%|███████▋  | 20005/26232 [12:14<03:47, 27.41it/s]"
     ]
    },
    {
     "name": "stdout",
     "output_type": "stream",
     "text": [
      "20000 batch: 300 * 0.00376 + 189\n"
     ]
    },
    {
     "name": "stderr",
     "output_type": "stream",
     "text": [
      " 78%|███████▊  | 20505/26232 [12:32<03:25, 27.86it/s]"
     ]
    },
    {
     "name": "stdout",
     "output_type": "stream",
     "text": [
      "20500 batch: 300 * 0.00373 + 192\n"
     ]
    },
    {
     "name": "stderr",
     "output_type": "stream",
     "text": [
      " 80%|████████  | 21004/26232 [12:51<03:11, 27.24it/s]"
     ]
    },
    {
     "name": "stdout",
     "output_type": "stream",
     "text": [
      "21000 batch: 300 * 0.00374 + 199\n"
     ]
    },
    {
     "name": "stderr",
     "output_type": "stream",
     "text": [
      " 82%|████████▏ | 21504/26232 [13:09<02:50, 27.81it/s]"
     ]
    },
    {
     "name": "stdout",
     "output_type": "stream",
     "text": [
      "21500 batch: 300 * 0.00375 + 196\n"
     ]
    },
    {
     "name": "stderr",
     "output_type": "stream",
     "text": [
      " 84%|████████▍ | 22006/26232 [13:27<02:34, 27.30it/s]"
     ]
    },
    {
     "name": "stdout",
     "output_type": "stream",
     "text": [
      "22000 batch: 300 * 0.00374 + 196\n"
     ]
    },
    {
     "name": "stderr",
     "output_type": "stream",
     "text": [
      " 86%|████████▌ | 22503/26232 [13:44<02:10, 28.50it/s]"
     ]
    },
    {
     "name": "stdout",
     "output_type": "stream",
     "text": [
      "22500 batch: 300 * 0.00374 + 196\n"
     ]
    },
    {
     "name": "stderr",
     "output_type": "stream",
     "text": [
      " 88%|████████▊ | 23006/26232 [14:02<01:55, 27.88it/s]"
     ]
    },
    {
     "name": "stdout",
     "output_type": "stream",
     "text": [
      "23000 batch: 300 * 0.00375 + 196\n"
     ]
    },
    {
     "name": "stderr",
     "output_type": "stream",
     "text": [
      " 90%|████████▉ | 23506/26232 [14:21<01:35, 28.50it/s]"
     ]
    },
    {
     "name": "stdout",
     "output_type": "stream",
     "text": [
      "23500 batch: 300 * 0.00379 + 193\n"
     ]
    },
    {
     "name": "stderr",
     "output_type": "stream",
     "text": [
      " 92%|█████████▏| 24006/26232 [14:39<01:18, 28.19it/s]"
     ]
    },
    {
     "name": "stdout",
     "output_type": "stream",
     "text": [
      "24000 batch: 300 * 0.00376 + 193\n"
     ]
    },
    {
     "name": "stderr",
     "output_type": "stream",
     "text": [
      " 93%|█████████▎| 24506/26232 [14:57<01:01, 27.98it/s]"
     ]
    },
    {
     "name": "stdout",
     "output_type": "stream",
     "text": [
      "24500 batch: 300 * 0.00373 + 185\n"
     ]
    },
    {
     "name": "stderr",
     "output_type": "stream",
     "text": [
      " 95%|█████████▌| 25004/26232 [15:15<00:43, 28.17it/s]"
     ]
    },
    {
     "name": "stdout",
     "output_type": "stream",
     "text": [
      "25000 batch: 300 * 0.00375 + 193\n"
     ]
    },
    {
     "name": "stderr",
     "output_type": "stream",
     "text": [
      " 97%|█████████▋| 25506/26232 [15:33<00:25, 28.00it/s]"
     ]
    },
    {
     "name": "stdout",
     "output_type": "stream",
     "text": [
      "25500 batch: 300 * 0.00373 + 197\n"
     ]
    },
    {
     "name": "stderr",
     "output_type": "stream",
     "text": [
      " 99%|█████████▉| 26004/26232 [15:51<00:08, 27.41it/s]"
     ]
    },
    {
     "name": "stdout",
     "output_type": "stream",
     "text": [
      "26000 batch: 300 * 0.00376 + 195\n"
     ]
    },
    {
     "name": "stderr",
     "output_type": "stream",
     "text": [
      "100%|██████████| 26232/26232 [16:01<00:00, 27.28it/s]\n",
      "100%|██████████| 6558/6558 [02:23<00:00, 45.62it/s]\n"
     ]
    }
   ],
   "source": [
    "z_dim = 32\n",
    "assert z_dim >= 2\n",
    "n_epochs = 1\n",
    "beta = 300\n",
    "\n",
    "device = \"mps\" if torch.backends.mps.is_available() else \"cpu\"\n",
    "# device = \"cpu\"\n",
    "\n",
    "model = VAE_CNN(z_dim = z_dim).to(device)\n",
    "optimizer = optim.Adam(model.parameters(), lr=0.001)\n",
    "\n",
    "\n",
    "for epoch in range(n_epochs):\n",
    "    losses = []\n",
    "    KL_losses = []\n",
    "    reconstruction_losses = []\n",
    "\n",
    "    model.train()\n",
    "    for i, (x, black_rank, white_rank, move) in enumerate(tqdm(train_loader)):\n",
    "        x = x.float().to(device)  # データ型をfloatに変換してからデバイスに送る\n",
    "\n",
    "        model.zero_grad()\n",
    "\n",
    "        # KL_loss, reconstruction_lossの各項の計算\n",
    "        KL_loss, reconstruction_loss = model.loss(x)\n",
    "\n",
    "        # エビデンス下界の最大化のためマイナス付きの各項の値を最小化するようにパラメータを更新\n",
    "        loss = beta * KL_loss + reconstruction_loss\n",
    "\n",
    "        loss.backward()\n",
    "        optimizer.step()\n",
    "\n",
    "        # 学習曲線用にlossを保存\n",
    "        # losses.append(loss.cpu().detach().numpy())\n",
    "        # KL_losses.append(KL_loss.cpu().detach().numpy())\n",
    "        # reconstruction_losses.append(reconstruction_loss.cpu().detach().numpy())\n",
    "\n",
    "        # ミニバッチごとに進捗を表示\n",
    "        if i%500 == 0: print(f\"{i} batch: {beta:.0f} * {KL_loss.item()/batch_size:.5f} + {reconstruction_loss.item()/batch_size:.0f}\")\n",
    "\n",
    "\n",
    "    losses_val = []\n",
    "    model.eval()\n",
    "    for x, black_rank, white_rank, move in tqdm(valid_loader):\n",
    "        x = x.float().to(device)  # ここでも同様にデータ型をfloatに変換\n",
    "        KL_loss, reconstruction_loss = model.loss(x)\n",
    "        loss = KL_loss + reconstruction_loss\n",
    "\n",
    "        # 学習曲線用にlossを保存\n",
    "        # losses_val.append(loss.cpu().detach().numpy())\n",
    "\n",
    "\n",
    "    # print('EPOCH: %d    Train Lower Bound: %lf (KL_loss: %lf. reconstruction_loss: %lf)    Valid Lower Bound: %lf' %\n",
    "        #   (epoch+1, np.average(losses), np.average(KL_losses), np.average(reconstruction_losses), np.average(losses_val)))\n"
   ]
  },
  {
   "cell_type": "markdown",
   "metadata": {},
   "source": [
    "学習すみモデルを保存"
   ]
  },
  {
   "cell_type": "code",
   "execution_count": 11,
   "metadata": {},
   "outputs": [],
   "source": [
    "import torch\n",
    "import datetime\n",
    "\n",
    "# 現在の時刻を取得\n",
    "current_time = datetime.datetime.now().strftime('%Y%m%d%H%M')\n",
    "\n",
    "# 保存するファイルのパスを設定\n",
    "save_path = f\"params/model_{current_time}.pth\"\n",
    "\n",
    "# モデルのパラメーターを保存\n",
    "torch.save(model.state_dict(), save_path)"
   ]
  },
  {
   "cell_type": "markdown",
   "metadata": {},
   "source": [
    "モデルを読み込み"
   ]
  },
  {
   "cell_type": "code",
   "execution_count": null,
   "metadata": {},
   "outputs": [],
   "source": [
    "# モデルを読み込む\n",
    "z_dim = 32\n",
    "device = \"mps\" if torch.backends.mps.is_available() else \"cpu\"\n",
    "save_path = \"params/model_202401112108.pth\"\n",
    "\n",
    "model = VAE_CNN(z_dim = z_dim).to(device)\n",
    "model.load_state_dict(torch.load(save_path))\n"
   ]
  },
  {
   "cell_type": "markdown",
   "metadata": {},
   "source": [
    "# 再構成moveを可視化"
   ]
  },
  {
   "cell_type": "code",
   "execution_count": 20,
   "metadata": {},
   "outputs": [
    {
     "name": "stderr",
     "output_type": "stream",
     "text": [
      "100%|██████████| 32/32 [00:16<00:00,  1.92it/s]\n",
      "100%|██████████| 32/32 [00:12<00:00,  2.60it/s]\n",
      "100%|██████████| 32/32 [00:07<00:00,  4.47it/s]\n",
      "100%|██████████| 32/32 [00:16<00:00,  1.99it/s]\n",
      "100%|██████████| 32/32 [00:15<00:00,  2.04it/s]\n",
      "100%|██████████| 32/32 [00:10<00:00,  3.01it/s]\n",
      "100%|██████████| 32/32 [00:08<00:00,  3.57it/s]\n",
      "100%|██████████| 32/32 [00:21<00:00,  1.50it/s]\n",
      "100%|██████████| 32/32 [00:13<00:00,  2.41it/s]\n",
      "100%|██████████| 32/32 [00:05<00:00,  6.21it/s]\n",
      "100%|██████████| 10/10 [02:10<00:00, 13.07s/it]\n"
     ]
    }
   ],
   "source": [
    "from src.board import visualize_matrix\n",
    "\n",
    "def threshold(arr, th=0.28):\n",
    "    arr[arr >= th] = 1\n",
    "    arr[arr < th] = 0\n",
    "    return arr\n",
    "\n",
    "def visualize_y(y, figname=None):\n",
    "    black_matrix, white_matrix = y.squeeze()\n",
    "    black_matrix_2 = black_matrix * ((black_matrix - white_matrix)>0).astype(int)\n",
    "    white_matrix_2 = white_matrix * ((white_matrix - black_matrix)>0).astype(int)\n",
    "\n",
    "    black_matrix_2 = threshold(black_matrix_2)\n",
    "    white_matrix_2 = threshold(white_matrix_2)\n",
    "\n",
    "    visualize_matrix(black_matrix_2, white_matrix_2, figname=figname)  \n",
    "    return 0\n",
    "\n",
    "def visualize_x(x, figname=None):\n",
    "    black_matrix, white_matrix = x.squeeze()\n",
    "    visualize_matrix(black_matrix, white_matrix, figname=figname)\n",
    "    return 0\n",
    "\n",
    "\n",
    "model.eval()\n",
    "for i in tqdm(range(10)):\n",
    "    x, black_rank, white_rank, move = valid_dataset[i]\n",
    "    x = torch.from_numpy(x).float()\n",
    "    x = x.unsqueeze(0)\n",
    "    x = x.to(device)\n",
    "\n",
    "    y, z_mu, z_logvar = model(x)\n",
    "\n",
    "    # オリジナル画像\n",
    "    visualize_x(x, figname=f\"move_{i}/GT_{i}_\")\n",
    "\n",
    "    # 再構成画像\n",
    "    y = y.cpu().detach().numpy()\n",
    "    visualize_y(y, figname=f\"move_{i}/RECON_{i}_\")\n",
    "\n",
    "    # zをずらした再構成画像\n",
    "    for z_eigen in tqdm(range(z_dim)):\n",
    "        # if z_eigen > 5: break\n",
    "\n",
    "        z_mu_2 = z_mu.clone().detach()\n",
    "        for idx, val in enumerate(np.linspace(-2, 2, 5)):\n",
    "\n",
    "            z_mu_2[0, z_eigen] = val\n",
    "\n",
    "            y = model.decoder(z_mu_2)\n",
    "            y = y.cpu().detach().numpy()\n",
    "\n",
    "            # 再構成画像\n",
    "            visualize_y(y, figname=f\"move_{i}/RECON_{i}_z_eigen_{z_eigen}_idx_{idx+1}\")\n"
   ]
  },
  {
   "cell_type": "markdown",
   "metadata": {},
   "source": [
    "# 潜在空間の可視化"
   ]
  },
  {
   "cell_type": "code",
   "execution_count": 27,
   "metadata": {},
   "outputs": [
    {
     "name": "stderr",
     "output_type": "stream",
     "text": [
      "  0%|          | 5001/6715159 [00:05<1:56:01, 963.87it/s] \n"
     ]
    },
    {
     "data": {
      "image/png": "[encoded data removed]",
      "text/plain": [
       "<Figure size 500x500 with 2 Axes>"
      ]
     },
     "metadata": {},
     "output_type": "display_data"
    }
   ],
   "source": [
    "from sklearn.manifold import TSNE\n",
    "from sklearn.decomposition import PCA\n",
    "from tqdm import tqdm\n",
    "\n",
    "def reparameterize(mean, log_var):\n",
    "    # log_varは実数全部とるがexpすることで正数のみ(STDは正数じゃないといけない)\n",
    "    std = torch.exp(0.5 * log_var)\n",
    "    eps = torch.randn_like(std)\n",
    "    return mean + eps * std\n",
    "\n",
    "model.eval()\n",
    "\n",
    "z_list = []\n",
    "labels = []\n",
    "label_name = \"gap\"\n",
    "for i, (x, black_rank, white_rank, move) in enumerate(tqdm(valid_dataset)):\n",
    "    if i > 5000: break\n",
    "    if move < 150: continue\n",
    "\n",
    "    rank = (black_rank + white_rank) / 2\n",
    "    gap = abs(black_rank - white_rank)\n",
    "    label = move if label_name==\"move\" else rank if label_name==\"rank\" else gap\n",
    "    labels.append(label)\n",
    "\n",
    "    x = torch.from_numpy(x).float()\n",
    "    x = x.unsqueeze(0)\n",
    "    x = x.to(device)\n",
    "    y, z_mu, z_logvar = model(x)\n",
    "    # z = reparameterize(z_mu, z_logvar)\n",
    "    z = z_mu\n",
    "    z_list.append(z.cpu().detach().numpy()[0])\n",
    "\n",
    "z_val = np.stack(z_list)\n",
    "\n",
    "# 'TSNE' または 'PCA'\n",
    "REDUC = 'TSNE' \n",
    "if z_dim > 2:\n",
    "    if REDUC == \"TSNE\":\n",
    "        z_reduc = TSNE(n_components=2).fit_transform(z_val).T\n",
    "    elif REDUC == \"PCA\":\n",
    "        z_reduc = PCA(n_components=2).fit_transform(z_val).T\n",
    "    else:\n",
    "        raise ValueError(\"Please choose dimensionality reduction method from TSNE or PCA.\")\n",
    "elif z_dim == 2:\n",
    "    z_reduc = z_val.T\n",
    "else:\n",
    "    raise ValueError(\"z dimensionality must be larger or equal to 2.\")\n",
    "\n",
    "\n",
    "\n",
    "plt.figure(figsize=(5,5))\n",
    "\n",
    "# 色スケールいろいろためす\n",
    "# cmap = plt.cm.hot\n",
    "cmap = plt.cm.coolwarm\n",
    "vmin, vmax = min(labels), max(labels)\n",
    "colors = [cmap((label - vmin) / (vmax - vmin)) for label in labels]\n",
    "plt.scatter(*z_reduc, s=0.7, c=colors)\n",
    "\n",
    "# 凡例\n",
    "# for i in range(len(colors)): plt.scatter([],[], c=colors[i], label=i)\n",
    "# plt.legend()\n",
    "\n",
    "# 凡例の代わりにカラーバー\n",
    "sm = plt.cm.ScalarMappable(cmap=cmap, norm=plt.Normalize(vmin=vmin, vmax=vmax))\n",
    "plt.colorbar(sm, ax=plt.gca())  # 現在の軸にカラーバーを追加\n",
    "\n",
    "plt.title(f\"z_plots_per_{label_name}: z_dim={z_dim}\")\n",
    "plt.savefig(f\"figures/z_plots_per_{label_name}.png\")"
   ]
  },
  {
   "cell_type": "code",
   "execution_count": 25,
   "metadata": {},
   "outputs": [
    {
     "data": {
      "image/png": "[encoded data removed]",
      "text/plain": [
       "<Figure size 3000x1500 with 32 Axes>"
      ]
     },
     "metadata": {},
     "output_type": "display_data"
    }
   ],
   "source": [
    "# z_dim の定義\n",
    "z_dim = 32\n",
    "\n",
    "# 8x8のサブプロットを作成\n",
    "fig, axes = plt.subplots(4, 8, figsize=(30, 15))\n",
    "\n",
    "# 各eigenベクトルに対してヒストグラムを描画\n",
    "for i in range(z_dim):\n",
    "    row, col = divmod(i, 8)  # サブプロットの行と列を計算\n",
    "    ax = axes[row, col]\n",
    "    z_per_eigen = z_val[:, i]\n",
    "    vmin, vmax = min(z_per_eigen), max(z_per_eigen)\n",
    "    ax.hist(z_per_eigen, bins=50, range=(vmin, vmax))\n",
    "    ax.set_title(f\"eigen={i+1}\")\n",
    "\n",
    "plt.tight_layout()\n",
    "plt.savefig(f\"figures/z_hist.png\")\n",
    "# plt.show()\n",
    "\n"
   ]
  },
  {
   "cell_type": "code",
   "execution_count": null,
   "metadata": {},
   "outputs": [],
   "source": [
    "len(valid_dataset)"
   ]
  },
  {
   "cell_type": "markdown",
   "metadata": {},
   "source": [
    "Zをランダムサンプリング"
   ]
  },
  {
   "cell_type": "code",
   "execution_count": null,
   "metadata": {},
   "outputs": [],
   "source": [
    "from src.board import visualize_matrix\n",
    "\n",
    "# ランダムな潜在変数 z をサンプリング\n",
    "# ここでの z_dim は、モデルで使用されている潜在空間の次元数\n",
    "z = torch.randn(1, z_dim).to(device)\n",
    "\n",
    "# 学習済みのモデルの decoder 部分を使用して z を再構成\n",
    "with torch.no_grad():  # 勾配計算を行わない\n",
    "    model.eval()\n",
    "    y = model.decoder(z)\n",
    "\n",
    "y = y.cpu().detach().numpy()\n",
    "\n",
    "\n",
    "# yの閾値処理\n",
    "th = 0.25\n",
    "y[y >= th] = 1\n",
    "y[y < th] = 0\n",
    "\n",
    "print(\"z_dim:\", z_dim)\n",
    "# print(z)\n",
    "\n",
    "black_matrix, white_matrix = y.squeeze()\n",
    "visualize_matrix(black_matrix, white_matrix)\n"
   ]
  },
  {
   "cell_type": "code",
   "execution_count": null,
   "metadata": {},
   "outputs": [],
   "source": []
  },
  {
   "cell_type": "code",
   "execution_count": null,
   "metadata": {},
   "outputs": [],
   "source": []
  },
  {
   "cell_type": "code",
   "execution_count": null,
   "metadata": {},
   "outputs": [],
   "source": []
  }
 ],
 "metadata": {
  "kernelspec": {
   "display_name": "Python 3",
   "language": "python",
   "name": "python3"
  },
  "language_info": {
   "codemirror_mode": {
    "name": "ipython",
    "version": 3
   },
   "file_extension": ".py",
   "mimetype": "text/x-python",
   "name": "python",
   "nbconvert_exporter": "python",
   "pygments_lexer": "ipython3",
   "version": "3.10.13"
  },
  "orig_nbformat": 4
 },
 "nbformat": 4,
 "nbformat_minor": 2
}
