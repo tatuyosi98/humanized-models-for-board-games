{
 "cells": [
  {
   "cell_type": "markdown",
   "metadata": {},
   "source": [
    "# ライブラリ読み込み"
   ]
  },
  {
   "cell_type": "code",
   "execution_count": 3,
   "metadata": {},
   "outputs": [
    {
     "name": "stdout",
     "output_type": "stream",
     "text": [
      "/Users/keimy/git/humanized-models-for-board-games/igo\n"
     ]
    },
    {
     "data": {
      "text/plain": [
       "'/Users/keimy/git/humanized-models-for-board-games/igo'"
      ]
     },
     "execution_count": 3,
     "metadata": {},
     "output_type": "execute_result"
    }
   ],
   "source": [
    "import numpy as np\n",
    "import pandas as pd; pd.set_option('display.max_columns', None)\n",
    "import matplotlib.pyplot as plt\n",
    "\n",
    "# utility\n",
    "import time\n",
    "import copy as cp\n",
    "from tqdm import tqdm\n",
    "from collections import defaultdict\n",
    "import glob\n",
    "import os\n",
    "import sys\n",
    "from sys import stderr\n",
    "\n",
    "# 乱数\n",
    "rng = np.random.RandomState(1234)\n",
    "random_state = 42\n",
    "\n",
    "# pytorch\n",
    "# conda install pytorch torchvision -c pytorch\n",
    "import torch\n",
    "import torch.nn as nn\n",
    "import torch.optim as optim\n",
    "import torch.autograd as autograd\n",
    "import torch.nn.functional as F\n",
    "from torchvision import datasets, transforms, models\n",
    "\n",
    "# 囲碁ライブラリ\n",
    "from sgfmill import sgf\n",
    "from sgfmill import boards\n",
    "\n",
    "# ルートに移動\n",
    "%cd /Users/keimy/git/humanized-models-for-board-games/igo\n",
    "%pwd\n"
   ]
  },
  {
   "cell_type": "markdown",
   "metadata": {},
   "source": [
    "# visualize by sgfmill"
   ]
  },
  {
   "cell_type": "code",
   "execution_count": 10,
   "metadata": {},
   "outputs": [
    {
     "data": {
      "text/plain": [
       "180944"
      ]
     },
     "execution_count": 10,
     "metadata": {},
     "output_type": "execute_result"
    }
   ],
   "source": [
    "folders = glob.glob(f\"datasets/*\")\n",
    "files = []\n",
    "for folder in folders:\n",
    "    files += glob.glob(f\"{folder}/*.sgf\")\n",
    "    # files.extend(glob.glob(f\"{folder}/*.SGF\"))\n",
    "\n",
    "len(files)"
   ]
  },
  {
   "cell_type": "code",
   "execution_count": 11,
   "metadata": {},
   "outputs": [
    {
     "data": {
      "image/png": "[encoded data removed]",
      "text/plain": [
       "<Figure size 640x480 with 1 Axes>"
      ]
     },
     "metadata": {},
     "output_type": "display_data"
    }
   ],
   "source": [
    "from src.board import visualize_board_at_move, get_board_at_move\n",
    "\n",
    "with open(files[124], \"r\") as file:\n",
    "    game = sgf.Sgf_game.from_string(file.read())\n",
    "    visualize_board_at_move(game, 1)"
   ]
  },
  {
   "cell_type": "code",
   "execution_count": 12,
   "metadata": {},
   "outputs": [
    {
     "data": {
      "text/plain": [
       "19"
      ]
     },
     "execution_count": 12,
     "metadata": {},
     "output_type": "execute_result"
    }
   ],
   "source": [
    "# 19路盤\n",
    "game.get_size()"
   ]
  },
  {
   "cell_type": "code",
   "execution_count": 35,
   "metadata": {},
   "outputs": [
    {
     "name": "stdout",
     "output_type": "stream",
     "text": [
      "Black player's rank: b'6d'\n",
      "White player's rank: b'7d'\n"
     ]
    }
   ],
   "source": [
    "# レーティングの取得\n",
    "root_node = game.get_root()\n",
    "\n",
    "# プロパティが存在するかどうかを確認してから取得\n",
    "black_rank = root_node.get_raw_property_map().get(\"BR\", [None])[0]\n",
    "white_rank = root_node.get_raw_property_map().get(\"WR\", [None])[0]\n",
    "\n",
    "# 結果の表示（オプション）\n",
    "print(f\"Black player's rank: {black_rank}\")\n",
    "print(f\"White player's rank: {white_rank}\")\n"
   ]
  },
  {
   "cell_type": "code",
   "execution_count": 70,
   "metadata": {},
   "outputs": [],
   "source": [
    "def extract_digit_from_bytes(tmp):\n",
    "    # バイト文字列を文字列に変換\n",
    "    tmp_str = tmp.decode('utf-8') if tmp is not None else ''\n",
    "\n",
    "    # 'd'が含まれる場合のみ、数字を抽出してint型に変換\n",
    "    if 'd' in tmp_str:\n",
    "        digits_str = ''.join([ch for ch in tmp_str if ch.isdigit()])\n",
    "        return int(digits_str) if digits_str else None\n",
    "    else:\n",
    "        return None\n",
    "\n",
    "# テスト\n",
    "# test_bytes = [b'7d', b'6d', b'8d', b'5d', b'9d', b'4d', b'3d', b'2d', None, b'1d',\n",
    "#               b'1k', b'1p', b'2k', b'4k', b'6k', b'3k', b'5k', b'9k', b'10k', b'7k',\n",
    "#               b'8k', b'5p', b'11k', b'12k', b'3p', b'7p', b'13k', b'15k', b'17k', b'14k',\n",
    "#               b'16k', b'18k', b'20k', b'21k', b'8p', b'9p', b'22k', b'30k', b'19k', b'27k',\n",
    "#               b'23k', b'2p', b'24k', b'26k', b'25k', b'29k', b'6p', b'28k']\n",
    "\n",
    "# for byte in test_bytes:\n",
    "#     print(f\"{byte}: {extract_digit_from_bytes(byte)}\")\n",
    "\n"
   ]
  },
  {
   "cell_type": "markdown",
   "metadata": {},
   "source": [
    "# preprocess data"
   ]
  },
  {
   "cell_type": "code",
   "execution_count": 79,
   "metadata": {},
   "outputs": [
    {
     "data": {
      "text/plain": [
       "179689"
      ]
     },
     "execution_count": 79,
     "metadata": {},
     "output_type": "execute_result"
    }
   ],
   "source": [
    "folders = glob.glob(f\"datasets/*\")\n",
    "files = []\n",
    "for folder in folders:\n",
    "    files += glob.glob(f\"{folder}/*.sgf\")\n",
    "    # files.extend(glob.glob(f\"{folder}/*.SGF\"))\n",
    "\n",
    "len(files)"
   ]
  },
  {
   "cell_type": "code",
   "execution_count": 88,
   "metadata": {},
   "outputs": [
    {
     "name": "stderr",
     "output_type": "stream",
     "text": [
      "100%|██████████| 179689/179689 [8:50:47<00:00,  5.64it/s]  \n"
     ]
    }
   ],
   "source": [
    "from src.board import visualize_board_at_move, get_board_at_move\n",
    "\n",
    "\n",
    "arrays_at_move = []\n",
    "\n",
    "for file in tqdm(files):\n",
    "    with open(file, \"r\") as file:\n",
    "        game = sgf.Sgf_game.from_string(file.read())\n",
    "        root_node = game.get_root()\n",
    "\n",
    "        black_rank = root_node.get_raw_property_map().get(\"BR\", [None])[0]\n",
    "        white_rank = root_node.get_raw_property_map().get(\"WR\", [None])[0]\n",
    "\n",
    "        black_rank = extract_digit_from_bytes(black_rank)\n",
    "        white_rank = extract_digit_from_bytes(white_rank)\n",
    "\n",
    "        if black_rank is None or white_rank is None:\n",
    "            continue\n",
    "\n",
    "        # ゲームの手数 50手以上を集める\n",
    "        last = len(game.get_main_sequence()) - 1\n",
    "        n_max = min(100, len(game.get_main_sequence()) - 1)\n",
    "        n_min = min(50, n_max-1)\n",
    "        # for i in range(n_min, n_max):\n",
    "        for i in range(last):\n",
    "            try:\n",
    "                black_matrix, white_matrix = get_board_at_move(game, i)\n",
    "                array_at_move = (i, black_rank, white_rank, np.array(black_matrix), np.array(white_matrix))\n",
    "                arrays_at_move.append(array_at_move)    \n",
    "            except: ValueError\n"
   ]
  },
  {
   "cell_type": "code",
   "execution_count": 89,
   "metadata": {},
   "outputs": [],
   "source": [
    "# ゲーム番号、盤面rootなどは割愛\n",
    "\n",
    "dtype = [('move', int), ('black_rank', int), ('white_rank', int), ('black_matrix', float, (19, 19)), ('white_matrix', float, (19, 19))]\n",
    "arrays_at_move = np.array(arrays_at_move, dtype=dtype)\n",
    "\n",
    "# moveを保存\n",
    "# np.save('./preprocess/arrays_at_move.npy', arrays_at_move)\n",
    "np.savez_compressed('./preprocess/arrays_at_move.npz', arrays_at_move)\n"
   ]
  },
  {
   "cell_type": "markdown",
   "metadata": {},
   "source": [
    "# Loading Data"
   ]
  },
  {
   "cell_type": "code",
   "execution_count": 85,
   "metadata": {},
   "outputs": [],
   "source": [
    "# numpyファイルを呼び出す\n",
    "arrays_at_move2 = np.load('./preprocess/arrays_at_move.npy', allow_pickle=True)\n"
   ]
  },
  {
   "cell_type": "code",
   "execution_count": null,
   "metadata": {},
   "outputs": [],
   "source": []
  },
  {
   "cell_type": "markdown",
   "metadata": {},
   "source": [
    "# Pyaq\n",
    "https://github.com/ymgaq/Pyaq/tree/master"
   ]
  },
  {
   "cell_type": "code",
   "execution_count": null,
   "metadata": {},
   "outputs": [],
   "source": []
  },
  {
   "cell_type": "code",
   "execution_count": null,
   "metadata": {},
   "outputs": [],
   "source": []
  }
 ],
 "metadata": {
  "kernelspec": {
   "display_name": "Python 3",
   "language": "python",
   "name": "python3"
  },
  "language_info": {
   "codemirror_mode": {
    "name": "ipython",
    "version": 3
   },
   "file_extension": ".py",
   "mimetype": "text/x-python",
   "name": "python",
   "nbconvert_exporter": "python",
   "pygments_lexer": "ipython3",
   "version": "3.10.13"
  },
  "orig_nbformat": 4
 },
 "nbformat": 4,
 "nbformat_minor": 2
}
