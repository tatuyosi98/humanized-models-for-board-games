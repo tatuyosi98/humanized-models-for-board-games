{
 "cells": [
  {
   "cell_type": "markdown",
   "metadata": {},
   "source": [
    "# ライブラリ読み込み"
   ]
  },
  {
   "cell_type": "code",
   "execution_count": 11,
   "metadata": {},
   "outputs": [],
   "source": [
    "import numpy as np\n",
    "import pandas as pd; pd.set_option('display.max_columns', None)\n",
    "# import matplotlib.pyplot as plt\n",
    "\n",
    "# utility\n",
    "import time\n",
    "import copy as cp\n",
    "from tqdm import tqdm\n",
    "from collections import defaultdict\n",
    "import glob\n",
    "from sys import stderr\n",
    "\n",
    "# 乱数\n",
    "rng = np.random.RandomState(1234)\n",
    "random_state = 42\n",
    "\n",
    "# pytorch\n",
    "# conda install pytorch torchvision -c pytorch\n",
    "import torch\n",
    "import torch.nn as nn\n",
    "import torch.optim as optim\n",
    "import torch.autograd as autograd\n",
    "import torch.nn.functional as F\n",
    "from torchvision import datasets, transforms, models\n",
    "\n",
    "# 囲碁ライブラリ　ローカル\n",
    "from board import *\n"
   ]
  },
  {
   "cell_type": "markdown",
   "metadata": {},
   "source": [
    "# sgfのためのツール\n",
    "https://github.com/ymgaq/Pyaq/tree/master"
   ]
  },
  {
   "cell_type": "code",
   "execution_count": 12,
   "metadata": {},
   "outputs": [],
   "source": [
    "class sgf_data(object):\n",
    "\n",
    "    def __init__(self):\n",
    "        self.size = BSIZE\n",
    "        self.komi = KOMI\n",
    "        self.handicap = 0\n",
    "        self.result = 0\n",
    "        self.history = []\n",
    "        self.move_cnt = 0\n",
    "\n",
    "    def sgf2ev(self, v_sgf):\n",
    "        if len(v_sgf) != 2:\n",
    "            return (self.size + 2) ** 2\n",
    "        labels = \"abcdefghijklmnopqrs\"\n",
    "        x = labels.find(v_sgf[0]) + 1\n",
    "        y = labels.find(v_sgf[1]) + 1\n",
    "        return x + (self.size + 1 - y) * (self.size + 2)\n",
    "\n",
    "    def import_file(self, file_path):\n",
    "        f = open(file_path)\n",
    "        lines = f.readlines()\n",
    "        for line in lines:\n",
    "            str = line.rstrip(\"\\n\")\n",
    "            while len(str) > 3:\n",
    "                open_br = str.find(\"[\")\n",
    "                close_br = str.find(\"]\")\n",
    "                if open_br < 0 or close_br < 0:\n",
    "                    break\n",
    "                elif close_br == 0:\n",
    "                    str = str[close_br + 1:]\n",
    "                    continue\n",
    "\n",
    "                key = str[0:open_br].lstrip(\";\")\n",
    "                val = str[open_br + 1:close_br]\n",
    "\n",
    "                if key == \"SZ\":\n",
    "                    self.size = int(val)\n",
    "                elif key == \"KM\":\n",
    "                    self.komi = float(val)\n",
    "                elif key == \"HA\":\n",
    "                    self.handicap = int(val)\n",
    "                elif key == \"RE\":\n",
    "                    if val.find(\"B\") >= 0:\n",
    "                        self.result = 1\n",
    "                    elif val.find(\"W\") >= 0:\n",
    "                        self.result = -1\n",
    "                    else:\n",
    "                        self.result = 0\n",
    "                elif key == \"B\" or key == \"W\":\n",
    "                    self.history.append(self.sgf2ev(val))\n",
    "                    self.move_cnt += 1\n",
    "\n",
    "                str = str[close_br + 1:]\n",
    "        if self.result == 0 and len(self.history) >= 2:\n",
    "            pass_ = (self.size + 2) ** 2\n",
    "            if self.history[-1] != pass_ or self.history[-2] != pass_:\n",
    "                self.result = 1 if len(self.history) % 2 == 1 else -1\n",
    "\n",
    "\n",
    "def import_sgf(dir_path):\n",
    "    dir_path += \"/*.sgf\"\n",
    "    file_list = glob.glob(dir_path)\n",
    "    sd_list = []\n",
    "    # b = Board()\n",
    "    for f in file_list:\n",
    "        sd_list.append(sgf_data())\n",
    "        sd_list[-1].import_file(f)\n",
    "\n",
    "#         b.clear()\n",
    "#         for v in sd_list[-1].history:\n",
    "#             err = b.play(v, not_fill_eye=False)\n",
    "#             if err:\n",
    "#                 stderr.write(\"file %d\\n\" % len(sd_list))\n",
    "#                 b.showboard()\n",
    "#                 stderr.write(\"move=(%d,%d)\\n\" % ev2xy(v))\n",
    "#                 raw_input()\n",
    "\n",
    "#         if len(sd_list) % 5000 == 0:\n",
    "#             stderr.write(\".\")\n",
    "\n",
    "    return sd_list\n",
    "\n",
    "\n",
    "def sgf2feed(sgf_list):\n",
    "    total_cnt = 0\n",
    "    for s in sgf_list:\n",
    "        total_cnt += s.move_cnt\n",
    "\n",
    "    feature = np.zeros((total_cnt, BVCNT, 7), dtype=np.uint8)\n",
    "    move = np.zeros((total_cnt, BVCNT + 1), dtype=np.uint8)\n",
    "    result = np.zeros((total_cnt), dtype=np.int8)\n",
    "\n",
    "    train_idx = 0\n",
    "    b = Board()\n",
    "    for s in sgf_list:\n",
    "        if s.size != BSIZE or s.handicap != 0:\n",
    "            continue\n",
    "        b.clear()\n",
    "        for v in s.history:\n",
    "            feature[train_idx] = b.feature()\n",
    "            move[train_idx, ev2rv(v)] = 1\n",
    "            result[train_idx] = s.result * (2 * b.turn - 1)\n",
    "\n",
    "            b.play(v, False)\n",
    "            train_idx += 1\n",
    "\n",
    "    return feature, move, result"
   ]
  },
  {
   "cell_type": "code",
   "execution_count": 32,
   "metadata": {},
   "outputs": [],
   "source": [
    "sgf_list = import_sgf(\"../datasets/kgs201904\")\n",
    "feeds = sgf2feed(sgf_list)"
   ]
  },
  {
   "cell_type": "code",
   "execution_count": 42,
   "metadata": {},
   "outputs": [
    {
     "data": {
      "text/plain": [
       "((234973, 81, 7), (234973, 82), (234973,))"
      ]
     },
     "execution_count": 42,
     "metadata": {},
     "output_type": "execute_result"
    }
   ],
   "source": [
    "# feedsは３要素のリスト\n",
    "feeds[0].shape, feeds[1].shape, feeds[2].shape"
   ]
  },
  {
   "cell_type": "code",
   "execution_count": null,
   "metadata": {},
   "outputs": [],
   "source": []
  },
  {
   "cell_type": "code",
   "execution_count": null,
   "metadata": {},
   "outputs": [],
   "source": []
  },
  {
   "cell_type": "code",
   "execution_count": null,
   "metadata": {},
   "outputs": [],
   "source": []
  }
 ],
 "metadata": {
  "kernelspec": {
   "display_name": "Python 3",
   "language": "python",
   "name": "python3"
  },
  "language_info": {
   "codemirror_mode": {
    "name": "ipython",
    "version": 3
   },
   "file_extension": ".py",
   "mimetype": "text/x-python",
   "name": "python",
   "nbconvert_exporter": "python",
   "pygments_lexer": "ipython3",
   "version": "3.10.13"
  },
  "orig_nbformat": 4
 },
 "nbformat": 4,
 "nbformat_minor": 2
}
