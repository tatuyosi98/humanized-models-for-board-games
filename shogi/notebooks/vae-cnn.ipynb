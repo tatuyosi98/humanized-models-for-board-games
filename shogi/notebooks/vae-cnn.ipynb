{
 "cells": [
  {
   "cell_type": "code",
   "execution_count": 1,
   "metadata": {},
   "outputs": [
    {
     "name": "stderr",
     "output_type": "stream",
     "text": [
      "/tmp/ipykernel_1328188/410104050.py:19: DeprecationWarning: Importing display from IPython.core.display is deprecated since IPython 7.14, please import from IPython display\n",
      "  from IPython.core.display import Image, display\n"
     ]
    }
   ],
   "source": [
    "import torch\n",
    "import torch.nn as nn\n",
    "import torch.nn.functional as F\n",
    "from torch.autograd import Variable\n",
    "\n",
    "import torchvision\n",
    "from torchvision import datasets\n",
    "from torchvision import transforms\n",
    "from torchvision.utils import save_image\n",
    "# from torchsummary import summary\n",
    "\n",
    "# from pushover import notify\n",
    "# from utils import makegif\n",
    "from random import randint\n",
    "\n",
    "from tqdm import tqdm\n",
    "\n",
    "from IPython.display import Image\n",
    "from IPython.core.display import Image, display\n",
    "\n",
    "%load_ext autoreload\n",
    "%autoreload 2"
   ]
  },
  {
   "cell_type": "code",
   "execution_count": 2,
   "metadata": {},
   "outputs": [
    {
     "name": "stdout",
     "output_type": "stream",
     "text": [
      "Reading training data\n",
      "[([ 88, 164,  73,  33,  12, 215,  87,  33, 126, 142,  77,  33,  44, 175,  66, 120,  20, 194, 171,  16, 158,  77,  33,  44, 215,  95,  33,  62, 142,  73,  33,  12], 0, 5417, 0, 0)]\n",
      "tensor([[0., 0., 0., 0., 0., 0., 1., 0., 0.],\n",
      "        [0., 0., 0., 0., 0., 0., 1., 0., 0.],\n",
      "        [0., 0., 0., 0., 0., 0., 1., 0., 0.],\n",
      "        [0., 0., 0., 0., 0., 0., 1., 0., 0.],\n",
      "        [0., 0., 0., 0., 0., 0., 1., 0., 0.],\n",
      "        [0., 0., 0., 0., 0., 0., 1., 0., 0.],\n",
      "        [0., 0., 0., 0., 0., 0., 1., 0., 0.],\n",
      "        [0., 0., 0., 0., 0., 0., 1., 0., 0.],\n",
      "        [0., 0., 0., 0., 0., 0., 1., 0., 0.]], device='cuda:0')\n",
      "lnsgkgsnl/1r5b1/ppppppppp/9/9/9/PPPPPPPPP/1B5R1/LNSGKGSNL b - 1\n"
     ]
    },
    {
     "data": {
      "image/svg+xml": [
       "<svg xmlns=\"http://www.w3.org/2000/svg\" version=\"1.1\" xmlns:xlink=\"http://www.w3.org/1999/xlink\" width=\"230.0\" height=\"192.0\" viewBox=\"0 0 230 192\"><defs><g id=\"black-pawn\"><text font-family=\"serif\" font-size=\"17\" text-anchor=\"middle\" x=\"10.5\" y=\"16.5\">&#27497;</text></g><g id=\"black-lance\"><text font-family=\"serif\" font-size=\"17\" text-anchor=\"middle\" x=\"10.5\" y=\"16.5\">&#39321;</text></g><g id=\"black-knight\"><text font-family=\"serif\" font-size=\"17\" text-anchor=\"middle\" x=\"10.5\" y=\"16.5\">&#26690;</text></g><g id=\"black-silver\"><text font-family=\"serif\" font-size=\"17\" text-anchor=\"middle\" x=\"10.5\" y=\"16.5\">&#37504;</text></g><g id=\"black-gold\"><text font-family=\"serif\" font-size=\"17\" text-anchor=\"middle\" x=\"10.5\" y=\"16.5\">&#37329;</text></g><g id=\"black-bishop\"><text font-family=\"serif\" font-size=\"17\" text-anchor=\"middle\" x=\"10.5\" y=\"16.5\">&#35282;</text></g><g id=\"black-rook\"><text font-family=\"serif\" font-size=\"17\" text-anchor=\"middle\" x=\"10.5\" y=\"16.5\">&#39131;</text></g><g id=\"black-king\"><text font-family=\"serif\" font-size=\"17\" text-anchor=\"middle\" x=\"10.5\" y=\"16.5\">&#29579;</text></g><g id=\"black-pro-pawn\"><text font-family=\"serif\" font-size=\"17\" text-anchor=\"middle\" x=\"10.5\" y=\"16.5\">&#12392;</text></g><g id=\"black-pro-lance\" transform=\"scale(1.0, 0.5)\"><text font-family=\"serif\" font-size=\"17\" text-anchor=\"middle\" x=\"10.5\" y=\"18\">&#25104;</text><text font-family=\"serif\" font-size=\"17\" text-anchor=\"middle\" x=\"10.5\" y=\"34\">&#39321;</text></g><g id=\"black-pro-knight\" transform=\"scale(1.0, 0.5)\"><text font-family=\"serif\" font-size=\"17\" text-anchor=\"middle\" x=\"10.5\" y=\"18\">&#25104;</text><text font-family=\"serif\" font-size=\"17\" text-anchor=\"middle\" x=\"10.5\" y=\"34\">&#26690;</text></g><g id=\"black-pro-silver\" transform=\"scale(1.0, 0.5)\"><text font-family=\"serif\" font-size=\"17\" text-anchor=\"middle\" x=\"10.5\" y=\"18\">&#25104;</text><text font-family=\"serif\" font-size=\"17\" text-anchor=\"middle\" x=\"10.5\" y=\"34\">&#37504;</text></g><g id=\"black-horse\"><text font-family=\"serif\" font-size=\"17\" text-anchor=\"middle\" x=\"10.5\" y=\"16.5\">&#39340;</text></g><g id=\"black-dragon\"><text font-family=\"serif\" font-size=\"17\" text-anchor=\"middle\" x=\"10.5\" y=\"16.5\">&#40845;</text></g><g id=\"white-pawn\" transform=\"rotate(180)\"><text font-family=\"serif\" font-size=\"17\" text-anchor=\"middle\" x=\"-10.5\" y=\"-3.5\">&#27497;</text></g><g id=\"white-lance\" transform=\"rotate(180)\"><text font-family=\"serif\" font-size=\"17\" text-anchor=\"middle\" x=\"-10.5\" y=\"-3.5\">&#39321;</text></g><g id=\"white-knight\" transform=\"rotate(180)\"><text font-family=\"serif\" font-size=\"17\" text-anchor=\"middle\" x=\"-10.5\" y=\"-3.5\">&#26690;</text></g><g id=\"white-silver\" transform=\"rotate(180)\"><text font-family=\"serif\" font-size=\"17\" text-anchor=\"middle\" x=\"-10.5\" y=\"-3.5\">&#37504;</text></g><g id=\"white-gold\" transform=\"rotate(180)\"><text font-family=\"serif\" font-size=\"17\" text-anchor=\"middle\" x=\"-10.5\" y=\"-3.5\">&#37329;</text></g><g id=\"white-bishop\" transform=\"rotate(180)\"><text font-family=\"serif\" font-size=\"17\" text-anchor=\"middle\" x=\"-10.5\" y=\"-3.5\">&#35282;</text></g><g id=\"white-rook\" transform=\"rotate(180)\"><text font-family=\"serif\" font-size=\"17\" text-anchor=\"middle\" x=\"-10.5\" y=\"-3.5\">&#39131;</text></g><g id=\"white-king\" transform=\"rotate(180)\"><text font-family=\"serif\" font-size=\"17\" text-anchor=\"middle\" x=\"-10.5\" y=\"-3.5\">&#29579;</text></g><g id=\"white-pro-pawn\" transform=\"rotate(180)\"><text font-family=\"serif\" font-size=\"17\" text-anchor=\"middle\" x=\"-10.5\" y=\"-3.5\">&#12392;</text></g><g id=\"white-pro-lance\" transform=\"scale(1.0, 0.5) rotate(180)\"><text font-family=\"serif\" font-size=\"17\" text-anchor=\"middle\" x=\"-10.5\" y=\"-22\">&#25104;</text><text font-family=\"serif\" font-size=\"17\" text-anchor=\"middle\" x=\"-10.5\" y=\"-6\">&#39321;</text></g><g id=\"white-pro-knight\" transform=\"scale(1.0, 0.5) rotate(180)\"><text font-family=\"serif\" font-size=\"17\" text-anchor=\"middle\" x=\"-10.5\" y=\"-22\">&#25104;</text><text font-family=\"serif\" font-size=\"17\" text-anchor=\"middle\" x=\"-10.5\" y=\"-6\">&#26690;</text></g><g id=\"white-pro-silver\" transform=\"scale(1.0, 0.5) rotate(180)\"><text font-family=\"serif\" font-size=\"17\" text-anchor=\"middle\" x=\"-10.5\" y=\"-22\">&#25104;</text><text font-family=\"serif\" font-size=\"17\" text-anchor=\"middle\" x=\"-10.5\" y=\"-6\">&#37504;</text></g><g id=\"white-horse\" transform=\"rotate(180)\"><text font-family=\"serif\" font-size=\"17\" text-anchor=\"middle\" x=\"-10.5\" y=\"-3.5\">&#39340;</text></g><g id=\"white-dragon\" transform=\"rotate(180)\"><text font-family=\"serif\" font-size=\"17\" text-anchor=\"middle\" x=\"-10.5\" y=\"-3.5\">&#40845;</text></g></defs><g stroke=\"black\"><rect x=\"20\" y=\"10\" width=\"181\" height=\"181\" fill=\"none\" stroke-width=\"1.5\" /><line x1=\"20.5\" y1=\"30.5\" x2=\"200.5\" y2=\"30.5\" stroke-width=\"1.0\" /><line x1=\"20.5\" y1=\"50.5\" x2=\"200.5\" y2=\"50.5\" stroke-width=\"1.0\" /><line x1=\"20.5\" y1=\"70.5\" x2=\"200.5\" y2=\"70.5\" stroke-width=\"1.0\" /><line x1=\"20.5\" y1=\"90.5\" x2=\"200.5\" y2=\"90.5\" stroke-width=\"1.0\" /><line x1=\"20.5\" y1=\"110.5\" x2=\"200.5\" y2=\"110.5\" stroke-width=\"1.0\" /><line x1=\"20.5\" y1=\"130.5\" x2=\"200.5\" y2=\"130.5\" stroke-width=\"1.0\" /><line x1=\"20.5\" y1=\"150.5\" x2=\"200.5\" y2=\"150.5\" stroke-width=\"1.0\" /><line x1=\"20.5\" y1=\"170.5\" x2=\"200.5\" y2=\"170.5\" stroke-width=\"1.0\" /><line x1=\"40.5\" y1=\"10.5\" x2=\"40.5\" y2=\"190.5\" stroke-width=\"1.0\" /><line x1=\"60.5\" y1=\"10.5\" x2=\"60.5\" y2=\"190.5\" stroke-width=\"1.0\" /><line x1=\"80.5\" y1=\"10.5\" x2=\"80.5\" y2=\"190.5\" stroke-width=\"1.0\" /><line x1=\"100.5\" y1=\"10.5\" x2=\"100.5\" y2=\"190.5\" stroke-width=\"1.0\" /><line x1=\"120.5\" y1=\"10.5\" x2=\"120.5\" y2=\"190.5\" stroke-width=\"1.0\" /><line x1=\"140.5\" y1=\"10.5\" x2=\"140.5\" y2=\"190.5\" stroke-width=\"1.0\" /><line x1=\"160.5\" y1=\"10.5\" x2=\"160.5\" y2=\"190.5\" stroke-width=\"1.0\" /><line x1=\"180.5\" y1=\"10.5\" x2=\"180.5\" y2=\"190.5\" stroke-width=\"1.0\" /></g><g><text font-family=\"serif\" text-anchor=\"middle\" font-size=\"9\" x=\"30.5\" y=\"8\">9</text><text font-family=\"serif\" text-anchor=\"middle\" font-size=\"9\" x=\"50.5\" y=\"8\">8</text><text font-family=\"serif\" text-anchor=\"middle\" font-size=\"9\" x=\"70.5\" y=\"8\">7</text><text font-family=\"serif\" text-anchor=\"middle\" font-size=\"9\" x=\"90.5\" y=\"8\">6</text><text font-family=\"serif\" text-anchor=\"middle\" font-size=\"9\" x=\"110.5\" y=\"8\">5</text><text font-family=\"serif\" text-anchor=\"middle\" font-size=\"9\" x=\"130.5\" y=\"8\">4</text><text font-family=\"serif\" text-anchor=\"middle\" font-size=\"9\" x=\"150.5\" y=\"8\">3</text><text font-family=\"serif\" text-anchor=\"middle\" font-size=\"9\" x=\"170.5\" y=\"8\">2</text><text font-family=\"serif\" text-anchor=\"middle\" font-size=\"9\" x=\"190.5\" y=\"8\">1</text><text font-family=\"serif\" font-size=\"9\" x=\"203.5\" y=\"23\">&#19968;</text><text font-family=\"serif\" font-size=\"9\" x=\"203.5\" y=\"43\">&#20108;</text><text font-family=\"serif\" font-size=\"9\" x=\"203.5\" y=\"63\">&#19977;</text><text font-family=\"serif\" font-size=\"9\" x=\"203.5\" y=\"83\">&#22235;</text><text font-family=\"serif\" font-size=\"9\" x=\"203.5\" y=\"103\">&#20116;</text><text font-family=\"serif\" font-size=\"9\" x=\"203.5\" y=\"123\">&#20845;</text><text font-family=\"serif\" font-size=\"9\" x=\"203.5\" y=\"143\">&#19971;</text><text font-family=\"serif\" font-size=\"9\" x=\"203.5\" y=\"163\">&#20843;</text><text font-family=\"serif\" font-size=\"9\" x=\"203.5\" y=\"183\">&#20061;</text></g><use xlink:href=\"#white-lance\" x=\"180.5\" y=\"10.5\" /><use xlink:href=\"#white-pawn\" x=\"180.5\" y=\"50.5\" /><use xlink:href=\"#black-pawn\" x=\"180.5\" y=\"130.5\" /><use xlink:href=\"#black-lance\" x=\"180.5\" y=\"170.5\" /><use xlink:href=\"#white-knight\" x=\"160.5\" y=\"10.5\" /><use xlink:href=\"#white-bishop\" x=\"160.5\" y=\"30.5\" /><use xlink:href=\"#white-pawn\" x=\"160.5\" y=\"50.5\" /><use xlink:href=\"#black-pawn\" x=\"160.5\" y=\"130.5\" /><use xlink:href=\"#black-rook\" x=\"160.5\" y=\"150.5\" /><use xlink:href=\"#black-knight\" x=\"160.5\" y=\"170.5\" /><use xlink:href=\"#white-silver\" x=\"140.5\" y=\"10.5\" /><use xlink:href=\"#white-pawn\" x=\"140.5\" y=\"50.5\" /><use xlink:href=\"#black-pawn\" x=\"140.5\" y=\"130.5\" /><use xlink:href=\"#black-silver\" x=\"140.5\" y=\"170.5\" /><use xlink:href=\"#white-gold\" x=\"120.5\" y=\"10.5\" /><use xlink:href=\"#white-pawn\" x=\"120.5\" y=\"50.5\" /><use xlink:href=\"#black-pawn\" x=\"120.5\" y=\"130.5\" /><use xlink:href=\"#black-gold\" x=\"120.5\" y=\"170.5\" /><use xlink:href=\"#white-king\" x=\"100.5\" y=\"10.5\" /><use xlink:href=\"#white-pawn\" x=\"100.5\" y=\"50.5\" /><use xlink:href=\"#black-pawn\" x=\"100.5\" y=\"130.5\" /><use xlink:href=\"#black-king\" x=\"100.5\" y=\"170.5\" /><use xlink:href=\"#white-gold\" x=\"80.5\" y=\"10.5\" /><use xlink:href=\"#white-pawn\" x=\"80.5\" y=\"50.5\" /><use xlink:href=\"#black-pawn\" x=\"80.5\" y=\"130.5\" /><use xlink:href=\"#black-gold\" x=\"80.5\" y=\"170.5\" /><use xlink:href=\"#white-silver\" x=\"60.5\" y=\"10.5\" /><use xlink:href=\"#white-pawn\" x=\"60.5\" y=\"50.5\" /><use xlink:href=\"#black-pawn\" x=\"60.5\" y=\"130.5\" /><use xlink:href=\"#black-silver\" x=\"60.5\" y=\"170.5\" /><use xlink:href=\"#white-knight\" x=\"40.5\" y=\"10.5\" /><use xlink:href=\"#white-rook\" x=\"40.5\" y=\"30.5\" /><use xlink:href=\"#white-pawn\" x=\"40.5\" y=\"50.5\" /><use xlink:href=\"#black-pawn\" x=\"40.5\" y=\"130.5\" /><use xlink:href=\"#black-bishop\" x=\"40.5\" y=\"150.5\" /><use xlink:href=\"#black-knight\" x=\"40.5\" y=\"170.5\" /><use xlink:href=\"#white-lance\" x=\"20.5\" y=\"10.5\" /><use xlink:href=\"#white-pawn\" x=\"20.5\" y=\"50.5\" /><use xlink:href=\"#black-pawn\" x=\"20.5\" y=\"130.5\" /><use xlink:href=\"#black-lance\" x=\"20.5\" y=\"170.5\" /><text font-family=\"serif\" font-size=\"14\" x=\"214\" y=\"176\">&#25163;</text><text font-family=\"serif\" font-size=\"14\" x=\"214\" y=\"162\">&#20808;</text><text font-family=\"serif\" font-size=\"14\" x=\"214\" y=\"148\">&#9751;</text><text font-family=\"serif\" font-size=\"14\" x=\"-16\" y=\"-24\" transform=\"rotate(180)\">&#25163;</text><text font-family=\"serif\" font-size=\"14\" x=\"-16\" y=\"-38\" transform=\"rotate(180)\">&#24460;</text><text font-family=\"serif\" font-size=\"14\" x=\"-16\" y=\"-52\" transform=\"rotate(180)\">&#9750;</text></svg>"
      ],
      "text/plain": [
       "'  9  8  7  6  5  4  3  2  1\n",
       "P1-KY-KE-GI-KI-OU-KI-GI-KE-KY\n",
       "P2 * -HI *  *  *  *  * -KA * \n",
       "P3-FU-FU-FU-FU-FU-FU-FU-FU-FU\n",
       "P4 *  *  *  *  *  *  *  *  * \n",
       "P5 *  *  *  *  *  *  *  *  * \n",
       "P6 *  *  *  *  *  *  *  *  * \n",
       "P7+FU+FU+FU+FU+FU+FU+FU+FU+FU\n",
       "P8 * +KA *  *  *  *  * +HI * \n",
       "P9+KY+KE+GI+KI+OU+KI+GI+KE+KY\n",
       "+"
      ]
     },
     "metadata": {},
     "output_type": "display_data"
    }
   ],
   "source": [
    "import logging\n",
    "\n",
    "import torch\n",
    "\n",
    "import cshogi\n",
    "\n",
    "import sys\n",
    "sys.path.append(\"../scripts\")\n",
    "\n",
    "from dataloader import HcpeDataLoader\n",
    "from features import feature_to_sfen\n",
    "\n",
    "batch_size = 1024\n",
    "device = torch.device(f\"cuda:0\")\n",
    "\n",
    "\n",
    "print(\"Reading training data\")\n",
    "train_dataloader = HcpeDataLoader(files=\"../preprocessed_data/train.hcpe\",\n",
    "                                  batch_size=batch_size,\n",
    "                                  device=device, \n",
    "                                  shuffle=True)\n",
    "\n",
    "\n",
    "\"\"\"\n",
    "print(\"Reading test data\")\n",
    "test_dataloader = HcpeDataLoader(files=\"../preprocessed_data/train.hcpe\",\n",
    "                                 batch_size=batch_size,\n",
    "                                 device=device)\n",
    "\"\"\"\n",
    "\"\"\"\n",
    "test_dataloader = HcpeDataLoader(files=\"../preprocessed_data/initial_position.hcpe\",\n",
    "                                 batch_size=1,\n",
    "                                 device=device)\n",
    "\"\"\"\n",
    "\n",
    "mini_batch_data = train_dataloader.data[:1]\n",
    "\n",
    "print(mini_batch_data)\n",
    "\n",
    "features, move_label, result = train_dataloader.mini_batch(mini_batch_data)\n",
    "print(features[0][0])\n",
    "sfen = feature_to_sfen(features[0])\n",
    "board = cshogi.Board(sfen)\n",
    "display(board)"
   ]
  },
  {
   "cell_type": "code",
   "execution_count": null,
   "metadata": {},
   "outputs": [],
   "source": []
  },
  {
   "cell_type": "code",
   "execution_count": 3,
   "metadata": {},
   "outputs": [
    {
     "data": {
      "text/plain": [
       "torch.Size([1024, 104, 9, 9])"
      ]
     },
     "execution_count": 3,
     "metadata": {},
     "output_type": "execute_result"
    }
   ],
   "source": [
    "features.shape"
   ]
  },
  {
   "cell_type": "code",
   "execution_count": 4,
   "metadata": {},
   "outputs": [
    {
     "data": {
      "text/plain": [
       "device(type='cuda')"
      ]
     },
     "execution_count": 4,
     "metadata": {},
     "output_type": "execute_result"
    }
   ],
   "source": [
    "# Device configuration\n",
    "device = torch.device('cuda' if torch.cuda.is_available() else 'cpu')\n",
    "device"
   ]
  },
  {
   "cell_type": "code",
   "execution_count": 5,
   "metadata": {},
   "outputs": [],
   "source": [
    "bs = batch_size"
   ]
  },
  {
   "cell_type": "code",
   "execution_count": 6,
   "metadata": {},
   "outputs": [
    {
     "data": {
      "text/plain": [
       "\"\\n# Load Data\\ndataset = datasets.ImageFolder(root='./rollouts', transform=transforms.Compose([\\n    transforms.Resize(64),\\n    transforms.ToTensor(), \\n]))\\ndataloader = torch.utils.data.DataLoader(dataset, batch_size=bs, shuffle=True)\\nlen(dataset.imgs), len(dataloader)\\n\""
      ]
     },
     "execution_count": 6,
     "metadata": {},
     "output_type": "execute_result"
    }
   ],
   "source": [
    "\"\"\"\n",
    "# Load Data\n",
    "dataset = datasets.ImageFolder(root='./rollouts', transform=transforms.Compose([\n",
    "    transforms.Resize(64),\n",
    "    transforms.ToTensor(), \n",
    "]))\n",
    "dataloader = torch.utils.data.DataLoader(dataset, batch_size=bs, shuffle=True)\n",
    "len(dataset.imgs), len(dataloader)\n",
    "\"\"\""
   ]
  },
  {
   "cell_type": "code",
   "execution_count": 7,
   "metadata": {},
   "outputs": [
    {
     "data": {
      "text/plain": [
       "\"\\n# Fixed input for debugging\\nfixed_x, _ = next(iter(dataloader))\\nsave_image(fixed_x, 'real_image.png')\\n\\nImage('real_image.png')\\n\""
      ]
     },
     "execution_count": 7,
     "metadata": {},
     "output_type": "execute_result"
    }
   ],
   "source": [
    "\"\"\"\n",
    "# Fixed input for debugging\n",
    "fixed_x, _ = next(iter(dataloader))\n",
    "save_image(fixed_x, 'real_image.png')\n",
    "\n",
    "Image('real_image.png')\n",
    "\"\"\""
   ]
  },
  {
   "cell_type": "code",
   "execution_count": 8,
   "metadata": {},
   "outputs": [],
   "source": [
    "class Flatten(nn.Module):\n",
    "    def forward(self, input):\n",
    "        # print(\"Flatten shape\", input.shape)\n",
    "        return input.view(input.size(0), -1)"
   ]
  },
  {
   "cell_type": "code",
   "execution_count": 9,
   "metadata": {},
   "outputs": [],
   "source": [
    "class UnFlatten(nn.Module):\n",
    "    # def forward(self, input, size=1024):\n",
    "    def forward(self, input, size=8424):\n",
    "        # return input.view(input.size(0), size, 1, 1)\n",
    "        # print(input.shape)\n",
    "        # print(input.size(0))\n",
    "        return input.view(input.size(0), size//81, 9, 9)"
   ]
  },
  {
   "cell_type": "code",
   "execution_count": 10,
   "metadata": {},
   "outputs": [],
   "source": [
    "class VAE(nn.Module):\n",
    "    # def __init__(self, channels=3, h_dim=1024, z_dim=32):\n",
    "    def __init__(self, channels=3, h_dim=8424, z_dim=32):\n",
    "        super(VAE, self).__init__()\n",
    "        self.encoder = nn.Sequential(\n",
    "            # nn.Conv2d(image_channels, 32, kernel_size=4, stride=2),\n",
    "            nn.Conv2d(channels, channels, kernel_size=3, padding=1, bias=False),\n",
    "            nn.ReLU(),\n",
    "            # nn.Conv2d(32, 64, kernel_size=3),\n",
    "            nn.Conv2d(channels, channels, kernel_size=3, padding=1, bias=False),\n",
    "            nn.ReLU(),\n",
    "            # nn.Conv2d(64, 128, kernel_size=4, stride=2),\n",
    "            nn.Conv2d(channels, channels, kernel_size=3, padding=1, bias=False),\n",
    "            nn.ReLU(),\n",
    "            # nn.Conv2d(128, 256, kernel_size=4, stride=2),\n",
    "            nn.Conv2d(channels, channels, kernel_size=3, padding=1, bias=False),\n",
    "            nn.ReLU(),\n",
    "            Flatten()\n",
    "        )\n",
    "        \n",
    "        self.fc1 = nn.Linear(h_dim, z_dim)\n",
    "        self.fc2 = nn.Linear(h_dim, z_dim)\n",
    "        self.fc3 = nn.Linear(z_dim, h_dim)\n",
    "        \n",
    "        self.decoder = nn.Sequential(\n",
    "            UnFlatten(),\n",
    "            # nn.ConvTranspose2d(h_dim, 128, kernel_size=5, stride=2),\n",
    "            nn.ConvTranspose2d(h_dim//81, channels, kernel_size=3, padding=1, bias=False),\n",
    "            nn.ReLU(),\n",
    "            # nn.ConvTranspose2d(128, 64, kernel_size=5, stride=2),\n",
    "            nn.ConvTranspose2d(channels, channels, kernel_size=3, padding=1, bias=False),\n",
    "            nn.ReLU(),\n",
    "            # nn.ConvTranspose2d(64, 32, kernel_size=6, stride=2),\n",
    "            nn.ConvTranspose2d(channels, channels, kernel_size=3, padding=1, bias=False),\n",
    "            nn.ReLU(),\n",
    "            # nn.ConvTranspose2d(32, image_channels, kernel_size=6, stride=2),\n",
    "            nn.ConvTranspose2d(channels, channels, kernel_size=3, padding=1, bias=False),\n",
    "            nn.Sigmoid(),\n",
    "        )\n",
    "        \n",
    "    def reparameterize(self, mu, logvar):\n",
    "        std = logvar.mul(0.5).exp_()\n",
    "        # return torch.normal(mu, std)\n",
    "        \n",
    "        # esp = torch.randn(*mu.size())\n",
    "        esp = torch.randn(*mu.size()).to(device)\n",
    "        # print(\"mu\", mu)\n",
    "        # print(\"std\", std)\n",
    "        # print(\"esp\", esp)\n",
    "\n",
    "        z = mu + std * esp\n",
    "        return z\n",
    "    \n",
    "    def bottleneck(self, h):\n",
    "        mu, logvar = self.fc1(h), self.fc2(h)\n",
    "        z = self.reparameterize(mu, logvar)\n",
    "        return z, mu, logvar\n",
    "\n",
    "    def encode(self, x):\n",
    "        h = self.encoder(x)\n",
    "        z, mu, logvar = self.bottleneck(h)\n",
    "        return z, mu, logvar\n",
    "\n",
    "    def decode(self, z):\n",
    "        z = self.fc3(z)\n",
    "        z = self.decoder(z)\n",
    "        return z\n",
    "\n",
    "    def forward(self, x):\n",
    "        z, mu, logvar = self.encode(x)\n",
    "        z = self.decode(z)\n",
    "        return z, mu, logvar"
   ]
  },
  {
   "cell_type": "code",
   "execution_count": 11,
   "metadata": {},
   "outputs": [],
   "source": [
    "# image_channels = fixed_x.size(1)\n",
    "channels = features.size(1)"
   ]
  },
  {
   "cell_type": "code",
   "execution_count": 12,
   "metadata": {},
   "outputs": [],
   "source": [
    "model = VAE(channels=channels).to(device)\n",
    "# model.load_state_dict(torch.load('vae.torch', map_location='cpu'))"
   ]
  },
  {
   "cell_type": "code",
   "execution_count": 13,
   "metadata": {},
   "outputs": [],
   "source": [
    "# optimizer = torch.optim.Adam(vae.parameters(), lr=1e-3)\n",
    "optimizer = torch.optim.Adam(model.parameters(), lr=1e-3)"
   ]
  },
  {
   "cell_type": "code",
   "execution_count": 14,
   "metadata": {},
   "outputs": [],
   "source": [
    "def loss_fn(recon_x, x, mu, logvar):\n",
    "    BCE = F.binary_cross_entropy(recon_x, x, size_average=False)\n",
    "    # BCE = F.mse_loss(recon_x, x, size_average=False)\n",
    "\n",
    "    # see Appendix B from VAE paper:\n",
    "    # Kingma and Welling. Auto-Encoding Variational Bayes. ICLR, 2014\n",
    "    # 0.5 * sum(1 + log(sigma^2) - mu^2 - sigma^2)\n",
    "    KLD = -0.5 * torch.mean(1 + logvar - mu.pow(2) - logvar.exp())\n",
    "    beta = 250\n",
    "\n",
    "    return BCE + beta * KLD, BCE, KLD"
   ]
  },
  {
   "cell_type": "code",
   "execution_count": 15,
   "metadata": {},
   "outputs": [],
   "source": [
    "# epochs = 50\n",
    "epochs = 1"
   ]
  },
  {
   "cell_type": "code",
   "execution_count": 16,
   "metadata": {},
   "outputs": [
    {
     "name": "stderr",
     "output_type": "stream",
     "text": [
      "  0%|          | 0/245219048 [00:00<?, ?it/s]"
     ]
    },
    {
     "name": "stderr",
     "output_type": "stream",
     "text": [
      "/home/ogawa/.pyenv/versions/miniconda3-latest/envs/world-models-for-board-games/lib/python3.10/site-packages/torch/nn/_reduction.py:42: UserWarning: size_average and reduce args will be deprecated, please use reduction='sum' instead.\n",
      "  warnings.warn(warning.format(ret))\n",
      "  0%|          | 1003/245219048 [01:07<3214:24:02, 21.19it/s]"
     ]
    },
    {
     "name": "stdout",
     "output_type": "stream",
     "text": [
      "Epoch[1/1] Loss: 411.207 409.558 0.007\n"
     ]
    },
    {
     "name": "stderr",
     "output_type": "stream",
     "text": [
      "  0%|          | 2002/245219048 [01:54<3241:33:45, 21.01it/s]"
     ]
    },
    {
     "name": "stdout",
     "output_type": "stream",
     "text": [
      "Epoch[1/1] Loss: 253.052 251.283 0.007\n"
     ]
    },
    {
     "name": "stderr",
     "output_type": "stream",
     "text": [
      "  0%|          | 3004/245219048 [02:42<3192:36:15, 21.34it/s]"
     ]
    },
    {
     "name": "stdout",
     "output_type": "stream",
     "text": [
      "Epoch[1/1] Loss: 113.939 112.670 0.005\n"
     ]
    },
    {
     "name": "stderr",
     "output_type": "stream",
     "text": [
      "  0%|          | 4003/245219048 [03:29<3225:38:54, 21.12it/s]"
     ]
    },
    {
     "name": "stdout",
     "output_type": "stream",
     "text": [
      "Epoch[1/1] Loss: 213.116 211.021 0.008\n"
     ]
    },
    {
     "name": "stderr",
     "output_type": "stream",
     "text": [
      "  0%|          | 5002/245219048 [04:16<3203:04:55, 21.27it/s]"
     ]
    },
    {
     "name": "stdout",
     "output_type": "stream",
     "text": [
      "Epoch[1/1] Loss: 109.003 107.626 0.006\n"
     ]
    },
    {
     "name": "stderr",
     "output_type": "stream",
     "text": [
      "  0%|          | 6004/245219048 [05:04<3262:50:23, 20.88it/s]"
     ]
    },
    {
     "name": "stdout",
     "output_type": "stream",
     "text": [
      "Epoch[1/1] Loss: 72.138 70.994 0.005\n"
     ]
    },
    {
     "name": "stderr",
     "output_type": "stream",
     "text": [
      "  0%|          | 7003/245219048 [05:51<3175:45:08, 21.45it/s]"
     ]
    },
    {
     "name": "stdout",
     "output_type": "stream",
     "text": [
      "Epoch[1/1] Loss: 76.380 75.220 0.005\n"
     ]
    },
    {
     "name": "stderr",
     "output_type": "stream",
     "text": [
      "  0%|          | 8002/245219048 [06:38<3244:19:46, 20.99it/s]"
     ]
    },
    {
     "name": "stdout",
     "output_type": "stream",
     "text": [
      "Epoch[1/1] Loss: 85.436 84.288 0.005\n"
     ]
    },
    {
     "name": "stderr",
     "output_type": "stream",
     "text": [
      "  0%|          | 9004/245219048 [07:26<3265:21:17, 20.86it/s]"
     ]
    },
    {
     "name": "stdout",
     "output_type": "stream",
     "text": [
      "Epoch[1/1] Loss: 61.268 60.201 0.004\n"
     ]
    },
    {
     "name": "stderr",
     "output_type": "stream",
     "text": [
      "  0%|          | 10003/245219048 [08:14<3279:49:13, 20.77it/s]"
     ]
    },
    {
     "name": "stdout",
     "output_type": "stream",
     "text": [
      "Epoch[1/1] Loss: 57.194 56.208 0.004\n"
     ]
    },
    {
     "name": "stderr",
     "output_type": "stream",
     "text": [
      "  0%|          | 11002/245219048 [09:02<3232:06:01, 21.07it/s]"
     ]
    },
    {
     "name": "stdout",
     "output_type": "stream",
     "text": [
      "Epoch[1/1] Loss: 54.755 53.668 0.004\n"
     ]
    },
    {
     "name": "stderr",
     "output_type": "stream",
     "text": [
      "  0%|          | 12004/245219048 [09:50<3280:33:45, 20.76it/s]"
     ]
    },
    {
     "name": "stdout",
     "output_type": "stream",
     "text": [
      "Epoch[1/1] Loss: 91.173 89.990 0.005\n"
     ]
    },
    {
     "name": "stderr",
     "output_type": "stream",
     "text": [
      "  0%|          | 13003/245219048 [10:37<3249:55:35, 20.96it/s]"
     ]
    },
    {
     "name": "stdout",
     "output_type": "stream",
     "text": [
      "Epoch[1/1] Loss: 43.881 42.918 0.004\n"
     ]
    },
    {
     "name": "stderr",
     "output_type": "stream",
     "text": [
      "  0%|          | 14002/245219048 [11:25<3229:39:22, 21.09it/s]"
     ]
    },
    {
     "name": "stdout",
     "output_type": "stream",
     "text": [
      "Epoch[1/1] Loss: 44.032 43.055 0.004\n"
     ]
    },
    {
     "name": "stderr",
     "output_type": "stream",
     "text": [
      "  0%|          | 15004/245219048 [12:13<3254:19:39, 20.93it/s]"
     ]
    },
    {
     "name": "stdout",
     "output_type": "stream",
     "text": [
      "Epoch[1/1] Loss: 41.040 40.116 0.004\n"
     ]
    },
    {
     "name": "stderr",
     "output_type": "stream",
     "text": [
      "  0%|          | 16003/245219048 [13:00<3174:48:05, 21.45it/s]"
     ]
    },
    {
     "name": "stdout",
     "output_type": "stream",
     "text": [
      "Epoch[1/1] Loss: 42.074 41.137 0.004\n"
     ]
    },
    {
     "name": "stderr",
     "output_type": "stream",
     "text": [
      "  0%|          | 17002/245219048 [13:48<3232:05:53, 21.07it/s]"
     ]
    },
    {
     "name": "stdout",
     "output_type": "stream",
     "text": [
      "Epoch[1/1] Loss: 66.274 65.088 0.005\n"
     ]
    },
    {
     "name": "stderr",
     "output_type": "stream",
     "text": [
      "  0%|          | 18004/245219048 [14:35<3207:22:57, 21.24it/s]"
     ]
    },
    {
     "name": "stdout",
     "output_type": "stream",
     "text": [
      "Epoch[1/1] Loss: 39.904 38.924 0.004\n"
     ]
    },
    {
     "name": "stderr",
     "output_type": "stream",
     "text": [
      "  0%|          | 19003/245219048 [15:23<3195:23:53, 21.32it/s]"
     ]
    },
    {
     "name": "stdout",
     "output_type": "stream",
     "text": [
      "Epoch[1/1] Loss: 59.957 58.800 0.005\n"
     ]
    },
    {
     "name": "stderr",
     "output_type": "stream",
     "text": [
      "  0%|          | 20002/245219048 [16:10<3199:31:30, 21.29it/s]"
     ]
    },
    {
     "name": "stdout",
     "output_type": "stream",
     "text": [
      "Epoch[1/1] Loss: 36.275 35.295 0.004\n"
     ]
    },
    {
     "name": "stderr",
     "output_type": "stream",
     "text": [
      "  0%|          | 21004/245219048 [16:57<3215:06:16, 21.18it/s]"
     ]
    },
    {
     "name": "stdout",
     "output_type": "stream",
     "text": [
      "Epoch[1/1] Loss: 62.829 61.746 0.004\n"
     ]
    },
    {
     "name": "stderr",
     "output_type": "stream",
     "text": [
      "  0%|          | 22003/245219048 [17:44<3243:28:35, 21.00it/s]"
     ]
    },
    {
     "name": "stdout",
     "output_type": "stream",
     "text": [
      "Epoch[1/1] Loss: 34.399 33.464 0.004\n"
     ]
    },
    {
     "name": "stderr",
     "output_type": "stream",
     "text": [
      "  0%|          | 23002/245219048 [18:32<3218:58:45, 21.16it/s]"
     ]
    },
    {
     "name": "stdout",
     "output_type": "stream",
     "text": [
      "Epoch[1/1] Loss: 64.866 63.937 0.004\n"
     ]
    },
    {
     "name": "stderr",
     "output_type": "stream",
     "text": [
      "  0%|          | 24004/245219048 [19:20<3218:44:29, 21.16it/s]"
     ]
    },
    {
     "name": "stdout",
     "output_type": "stream",
     "text": [
      "Epoch[1/1] Loss: 32.991 32.040 0.004\n"
     ]
    },
    {
     "name": "stderr",
     "output_type": "stream",
     "text": [
      "  0%|          | 25003/245219048 [20:08<3206:14:41, 21.24it/s]"
     ]
    },
    {
     "name": "stdout",
     "output_type": "stream",
     "text": [
      "Epoch[1/1] Loss: 30.183 29.237 0.004\n"
     ]
    },
    {
     "name": "stderr",
     "output_type": "stream",
     "text": [
      "  0%|          | 26002/245219048 [20:55<3257:59:42, 20.91it/s]"
     ]
    },
    {
     "name": "stdout",
     "output_type": "stream",
     "text": [
      "Epoch[1/1] Loss: 30.205 29.260 0.004\n"
     ]
    },
    {
     "name": "stderr",
     "output_type": "stream",
     "text": [
      "  0%|          | 27004/245219048 [21:43<3223:43:11, 21.13it/s]"
     ]
    },
    {
     "name": "stdout",
     "output_type": "stream",
     "text": [
      "Epoch[1/1] Loss: 27.424 26.484 0.004\n"
     ]
    },
    {
     "name": "stderr",
     "output_type": "stream",
     "text": [
      "  0%|          | 28003/245219048 [22:31<3331:03:51, 20.45it/s]"
     ]
    },
    {
     "name": "stdout",
     "output_type": "stream",
     "text": [
      "Epoch[1/1] Loss: 29.420 28.453 0.004\n"
     ]
    },
    {
     "name": "stderr",
     "output_type": "stream",
     "text": [
      "  0%|          | 29002/245219048 [23:18<3112:40:13, 21.88it/s]"
     ]
    },
    {
     "name": "stdout",
     "output_type": "stream",
     "text": [
      "Epoch[1/1] Loss: 28.588 27.651 0.004\n"
     ]
    },
    {
     "name": "stderr",
     "output_type": "stream",
     "text": [
      "  0%|          | 30004/245219048 [24:06<3207:48:29, 21.23it/s]"
     ]
    },
    {
     "name": "stdout",
     "output_type": "stream",
     "text": [
      "Epoch[1/1] Loss: 30.517 29.541 0.004\n"
     ]
    },
    {
     "name": "stderr",
     "output_type": "stream",
     "text": [
      "  0%|          | 31003/245219048 [24:53<3215:47:49, 21.18it/s]"
     ]
    },
    {
     "name": "stdout",
     "output_type": "stream",
     "text": [
      "Epoch[1/1] Loss: 37.017 36.007 0.004\n"
     ]
    },
    {
     "name": "stderr",
     "output_type": "stream",
     "text": [
      "  0%|          | 32002/245219048 [25:40<3229:26:54, 21.09it/s]"
     ]
    },
    {
     "name": "stdout",
     "output_type": "stream",
     "text": [
      "Epoch[1/1] Loss: 26.354 25.400 0.004\n"
     ]
    },
    {
     "name": "stderr",
     "output_type": "stream",
     "text": [
      "  0%|          | 33004/245219048 [26:28<3283:15:23, 20.74it/s]"
     ]
    },
    {
     "name": "stdout",
     "output_type": "stream",
     "text": [
      "Epoch[1/1] Loss: 49.647 48.628 0.004\n"
     ]
    },
    {
     "name": "stderr",
     "output_type": "stream",
     "text": [
      "  0%|          | 34003/245219048 [27:16<3250:17:31, 20.95it/s]"
     ]
    },
    {
     "name": "stdout",
     "output_type": "stream",
     "text": [
      "Epoch[1/1] Loss: 28.931 27.954 0.004\n"
     ]
    },
    {
     "name": "stderr",
     "output_type": "stream",
     "text": [
      "  0%|          | 35003/245219048 [28:04<3204:24:21, 21.25it/s]"
     ]
    },
    {
     "name": "stdout",
     "output_type": "stream",
     "text": [
      "Epoch[1/1] Loss: 30.056 29.055 0.004\n"
     ]
    },
    {
     "name": "stderr",
     "output_type": "stream",
     "text": [
      "  0%|          | 36002/245219048 [28:52<3238:34:17, 21.03it/s]"
     ]
    },
    {
     "name": "stdout",
     "output_type": "stream",
     "text": [
      "Epoch[1/1] Loss: 52.523 51.563 0.004\n"
     ]
    },
    {
     "name": "stderr",
     "output_type": "stream",
     "text": [
      "  0%|          | 37004/245219048 [29:39<3264:40:58, 20.86it/s]"
     ]
    },
    {
     "name": "stdout",
     "output_type": "stream",
     "text": [
      "Epoch[1/1] Loss: 62.556 61.508 0.004\n"
     ]
    },
    {
     "name": "stderr",
     "output_type": "stream",
     "text": [
      "  0%|          | 38003/245219048 [30:26<3177:02:47, 21.44it/s]"
     ]
    },
    {
     "name": "stdout",
     "output_type": "stream",
     "text": [
      "Epoch[1/1] Loss: 26.844 25.875 0.004\n"
     ]
    },
    {
     "name": "stderr",
     "output_type": "stream",
     "text": [
      "  0%|          | 39002/245219048 [31:14<3216:37:18, 21.17it/s]"
     ]
    },
    {
     "name": "stdout",
     "output_type": "stream",
     "text": [
      "Epoch[1/1] Loss: 25.030 24.078 0.004\n"
     ]
    },
    {
     "name": "stderr",
     "output_type": "stream",
     "text": [
      "  0%|          | 40004/245219048 [32:01<3274:17:52, 20.80it/s]"
     ]
    },
    {
     "name": "stdout",
     "output_type": "stream",
     "text": [
      "Epoch[1/1] Loss: 26.769 25.774 0.004\n"
     ]
    },
    {
     "name": "stderr",
     "output_type": "stream",
     "text": [
      "  0%|          | 41003/245219048 [32:49<3216:05:06, 21.18it/s]"
     ]
    },
    {
     "name": "stdout",
     "output_type": "stream",
     "text": [
      "Epoch[1/1] Loss: 24.406 23.456 0.004\n"
     ]
    },
    {
     "name": "stderr",
     "output_type": "stream",
     "text": [
      "  0%|          | 42002/245219048 [33:36<3283:00:55, 20.74it/s]"
     ]
    },
    {
     "name": "stdout",
     "output_type": "stream",
     "text": [
      "Epoch[1/1] Loss: 24.320 23.348 0.004\n"
     ]
    },
    {
     "name": "stderr",
     "output_type": "stream",
     "text": [
      "  0%|          | 43004/245219048 [34:24<3247:45:11, 20.97it/s]"
     ]
    },
    {
     "name": "stdout",
     "output_type": "stream",
     "text": [
      "Epoch[1/1] Loss: 23.865 22.914 0.004\n"
     ]
    },
    {
     "name": "stderr",
     "output_type": "stream",
     "text": [
      "  0%|          | 44003/245219048 [35:12<3257:06:25, 20.91it/s]"
     ]
    },
    {
     "name": "stdout",
     "output_type": "stream",
     "text": [
      "Epoch[1/1] Loss: 41.298 40.185 0.004\n"
     ]
    },
    {
     "name": "stderr",
     "output_type": "stream",
     "text": [
      "  0%|          | 45002/245219048 [36:00<3270:50:46, 20.82it/s]"
     ]
    },
    {
     "name": "stdout",
     "output_type": "stream",
     "text": [
      "Epoch[1/1] Loss: 23.297 22.320 0.004\n"
     ]
    },
    {
     "name": "stderr",
     "output_type": "stream",
     "text": [
      "  0%|          | 46004/245219048 [36:48<3216:49:33, 21.17it/s]"
     ]
    },
    {
     "name": "stdout",
     "output_type": "stream",
     "text": [
      "Epoch[1/1] Loss: 21.959 21.002 0.004\n"
     ]
    },
    {
     "name": "stderr",
     "output_type": "stream",
     "text": [
      "  0%|          | 47003/245219048 [37:35<3248:21:55, 20.97it/s]"
     ]
    },
    {
     "name": "stdout",
     "output_type": "stream",
     "text": [
      "Epoch[1/1] Loss: 39.405 38.402 0.004\n"
     ]
    },
    {
     "name": "stderr",
     "output_type": "stream",
     "text": [
      "  0%|          | 48002/245219048 [38:23<3278:44:59, 20.77it/s]"
     ]
    },
    {
     "name": "stdout",
     "output_type": "stream",
     "text": [
      "Epoch[1/1] Loss: 22.517 21.537 0.004\n"
     ]
    },
    {
     "name": "stderr",
     "output_type": "stream",
     "text": [
      "  0%|          | 49004/245219048 [39:11<3200:00:02, 21.28it/s]"
     ]
    },
    {
     "name": "stdout",
     "output_type": "stream",
     "text": [
      "Epoch[1/1] Loss: 22.446 21.477 0.004\n"
     ]
    },
    {
     "name": "stderr",
     "output_type": "stream",
     "text": [
      "  0%|          | 50003/245219048 [39:58<3195:37:19, 21.31it/s]"
     ]
    },
    {
     "name": "stdout",
     "output_type": "stream",
     "text": [
      "Epoch[1/1] Loss: 21.623 20.635 0.004\n"
     ]
    },
    {
     "name": "stderr",
     "output_type": "stream",
     "text": [
      "  0%|          | 51002/245219048 [40:45<3239:29:47, 21.02it/s]"
     ]
    },
    {
     "name": "stdout",
     "output_type": "stream",
     "text": [
      "Epoch[1/1] Loss: 21.192 20.218 0.004\n"
     ]
    },
    {
     "name": "stderr",
     "output_type": "stream",
     "text": [
      "  0%|          | 52004/245219048 [41:33<3223:02:45, 21.13it/s]"
     ]
    },
    {
     "name": "stdout",
     "output_type": "stream",
     "text": [
      "Epoch[1/1] Loss: 21.418 20.433 0.004\n"
     ]
    },
    {
     "name": "stderr",
     "output_type": "stream",
     "text": [
      "  0%|          | 53003/245219048 [42:20<3200:59:34, 21.28it/s]"
     ]
    },
    {
     "name": "stdout",
     "output_type": "stream",
     "text": [
      "Epoch[1/1] Loss: 23.761 22.712 0.004\n"
     ]
    },
    {
     "name": "stderr",
     "output_type": "stream",
     "text": [
      "  0%|          | 54002/245219048 [43:07<3245:34:52, 20.98it/s]"
     ]
    },
    {
     "name": "stdout",
     "output_type": "stream",
     "text": [
      "Epoch[1/1] Loss: 26.764 25.748 0.004\n"
     ]
    },
    {
     "name": "stderr",
     "output_type": "stream",
     "text": [
      "  0%|          | 55004/245219048 [43:54<3229:22:03, 21.09it/s]"
     ]
    },
    {
     "name": "stdout",
     "output_type": "stream",
     "text": [
      "Epoch[1/1] Loss: 48.582 47.514 0.004\n"
     ]
    },
    {
     "name": "stderr",
     "output_type": "stream",
     "text": [
      "  0%|          | 56003/245219048 [44:41<3194:15:00, 21.32it/s]"
     ]
    },
    {
     "name": "stdout",
     "output_type": "stream",
     "text": [
      "Epoch[1/1] Loss: 34.748 33.728 0.004\n"
     ]
    },
    {
     "name": "stderr",
     "output_type": "stream",
     "text": [
      "  0%|          | 57002/245219048 [45:29<3266:27:31, 20.85it/s]"
     ]
    },
    {
     "name": "stdout",
     "output_type": "stream",
     "text": [
      "Epoch[1/1] Loss: 44.397 43.270 0.005\n"
     ]
    },
    {
     "name": "stderr",
     "output_type": "stream",
     "text": [
      "  0%|          | 58004/245219048 [46:16<3275:53:22, 20.79it/s]"
     ]
    },
    {
     "name": "stdout",
     "output_type": "stream",
     "text": [
      "Epoch[1/1] Loss: 41.554 40.517 0.004\n"
     ]
    },
    {
     "name": "stderr",
     "output_type": "stream",
     "text": [
      "  0%|          | 59003/245219048 [47:04<3243:57:08, 20.99it/s]"
     ]
    },
    {
     "name": "stdout",
     "output_type": "stream",
     "text": [
      "Epoch[1/1] Loss: 41.024 40.011 0.004\n"
     ]
    },
    {
     "name": "stderr",
     "output_type": "stream",
     "text": [
      "  0%|          | 60002/245219048 [47:51<3262:25:30, 20.87it/s]"
     ]
    },
    {
     "name": "stdout",
     "output_type": "stream",
     "text": [
      "Epoch[1/1] Loss: 27.088 25.997 0.004\n"
     ]
    },
    {
     "name": "stderr",
     "output_type": "stream",
     "text": [
      "  0%|          | 61004/245219048 [48:39<3275:34:36, 20.79it/s]"
     ]
    },
    {
     "name": "stdout",
     "output_type": "stream",
     "text": [
      "Epoch[1/1] Loss: 19.955 18.932 0.004\n"
     ]
    },
    {
     "name": "stderr",
     "output_type": "stream",
     "text": [
      "  0%|          | 62003/245219048 [49:26<3211:30:37, 21.20it/s]"
     ]
    },
    {
     "name": "stdout",
     "output_type": "stream",
     "text": [
      "Epoch[1/1] Loss: 21.900 20.834 0.004\n"
     ]
    },
    {
     "name": "stderr",
     "output_type": "stream",
     "text": [
      "  0%|          | 63002/245219048 [50:13<3237:31:52, 21.03it/s]"
     ]
    },
    {
     "name": "stdout",
     "output_type": "stream",
     "text": [
      "Epoch[1/1] Loss: 18.156 17.121 0.004\n"
     ]
    },
    {
     "name": "stderr",
     "output_type": "stream",
     "text": [
      "  0%|          | 64004/245219048 [51:01<3198:05:19, 21.29it/s]"
     ]
    },
    {
     "name": "stdout",
     "output_type": "stream",
     "text": [
      "Epoch[1/1] Loss: 20.058 19.027 0.004\n"
     ]
    },
    {
     "name": "stderr",
     "output_type": "stream",
     "text": [
      "  0%|          | 65003/245219048 [51:49<3165:13:33, 21.51it/s]"
     ]
    },
    {
     "name": "stdout",
     "output_type": "stream",
     "text": [
      "Epoch[1/1] Loss: 71.702 70.592 0.004\n"
     ]
    },
    {
     "name": "stderr",
     "output_type": "stream",
     "text": [
      "  0%|          | 66002/245219048 [52:37<3284:46:30, 20.73it/s]"
     ]
    },
    {
     "name": "stdout",
     "output_type": "stream",
     "text": [
      "Epoch[1/1] Loss: 19.279 18.219 0.004\n"
     ]
    },
    {
     "name": "stderr",
     "output_type": "stream",
     "text": [
      "  0%|          | 67004/245219048 [53:25<3262:49:42, 20.87it/s]"
     ]
    },
    {
     "name": "stdout",
     "output_type": "stream",
     "text": [
      "Epoch[1/1] Loss: 18.325 17.289 0.004\n"
     ]
    },
    {
     "name": "stderr",
     "output_type": "stream",
     "text": [
      "  0%|          | 68003/245219048 [54:13<3225:41:46, 21.11it/s]"
     ]
    },
    {
     "name": "stdout",
     "output_type": "stream",
     "text": [
      "Epoch[1/1] Loss: 27.322 26.212 0.004\n"
     ]
    },
    {
     "name": "stderr",
     "output_type": "stream",
     "text": [
      "  0%|          | 69002/245219048 [55:00<3287:41:56, 20.71it/s]"
     ]
    },
    {
     "name": "stdout",
     "output_type": "stream",
     "text": [
      "Epoch[1/1] Loss: 19.966 18.886 0.004\n"
     ]
    },
    {
     "name": "stderr",
     "output_type": "stream",
     "text": [
      "  0%|          | 70004/245219048 [55:48<3283:10:02, 20.74it/s]"
     ]
    },
    {
     "name": "stdout",
     "output_type": "stream",
     "text": [
      "Epoch[1/1] Loss: 40.078 38.924 0.005\n"
     ]
    },
    {
     "name": "stderr",
     "output_type": "stream",
     "text": [
      "  0%|          | 71003/245219048 [56:36<3145:09:59, 21.65it/s]"
     ]
    },
    {
     "name": "stdout",
     "output_type": "stream",
     "text": [
      "Epoch[1/1] Loss: 18.227 17.166 0.004\n"
     ]
    },
    {
     "name": "stderr",
     "output_type": "stream",
     "text": [
      "  0%|          | 72002/245219048 [57:23<3269:52:25, 20.83it/s]"
     ]
    },
    {
     "name": "stdout",
     "output_type": "stream",
     "text": [
      "Epoch[1/1] Loss: 18.303 17.265 0.004\n"
     ]
    },
    {
     "name": "stderr",
     "output_type": "stream",
     "text": [
      "  0%|          | 73004/245219048 [58:11<3264:46:47, 20.86it/s]"
     ]
    },
    {
     "name": "stdout",
     "output_type": "stream",
     "text": [
      "Epoch[1/1] Loss: 18.606 17.557 0.004\n"
     ]
    },
    {
     "name": "stderr",
     "output_type": "stream",
     "text": [
      "  0%|          | 74003/245219048 [58:59<3247:21:06, 20.97it/s]"
     ]
    },
    {
     "name": "stdout",
     "output_type": "stream",
     "text": [
      "Epoch[1/1] Loss: 18.013 16.963 0.004\n"
     ]
    },
    {
     "name": "stderr",
     "output_type": "stream",
     "text": [
      "  0%|          | 75002/245219048 [59:46<3204:16:49, 21.25it/s]"
     ]
    },
    {
     "name": "stdout",
     "output_type": "stream",
     "text": [
      "Epoch[1/1] Loss: 21.048 19.938 0.004\n"
     ]
    },
    {
     "name": "stderr",
     "output_type": "stream",
     "text": [
      "  0%|          | 76004/245219048 [1:00:34<3225:13:59, 21.11it/s]"
     ]
    },
    {
     "name": "stdout",
     "output_type": "stream",
     "text": [
      "Epoch[1/1] Loss: 19.872 18.807 0.004\n"
     ]
    },
    {
     "name": "stderr",
     "output_type": "stream",
     "text": [
      "  0%|          | 77003/245219048 [1:01:22<3230:37:56, 21.08it/s]"
     ]
    },
    {
     "name": "stdout",
     "output_type": "stream",
     "text": [
      "Epoch[1/1] Loss: 17.230 16.164 0.004\n"
     ]
    },
    {
     "name": "stderr",
     "output_type": "stream",
     "text": [
      "  0%|          | 78002/245219048 [1:02:09<3221:31:15, 21.14it/s]"
     ]
    },
    {
     "name": "stdout",
     "output_type": "stream",
     "text": [
      "Epoch[1/1] Loss: 20.051 18.964 0.004\n"
     ]
    },
    {
     "name": "stderr",
     "output_type": "stream",
     "text": [
      "  0%|          | 79004/245219048 [1:02:57<3268:49:48, 20.83it/s]"
     ]
    },
    {
     "name": "stdout",
     "output_type": "stream",
     "text": [
      "Epoch[1/1] Loss: 18.420 17.351 0.004\n"
     ]
    },
    {
     "name": "stderr",
     "output_type": "stream",
     "text": [
      "  0%|          | 80003/245219048 [1:03:44<3255:04:09, 20.92it/s]"
     ]
    },
    {
     "name": "stdout",
     "output_type": "stream",
     "text": [
      "Epoch[1/1] Loss: 17.234 16.181 0.004\n"
     ]
    },
    {
     "name": "stderr",
     "output_type": "stream",
     "text": [
      "  0%|          | 81002/245219048 [1:04:32<3256:35:54, 20.91it/s]"
     ]
    },
    {
     "name": "stdout",
     "output_type": "stream",
     "text": [
      "Epoch[1/1] Loss: 24.912 23.826 0.004\n"
     ]
    },
    {
     "name": "stderr",
     "output_type": "stream",
     "text": [
      "  0%|          | 82004/245219048 [1:05:20<3214:51:43, 21.18it/s]"
     ]
    },
    {
     "name": "stdout",
     "output_type": "stream",
     "text": [
      "Epoch[1/1] Loss: 23.800 22.742 0.004\n"
     ]
    },
    {
     "name": "stderr",
     "output_type": "stream",
     "text": [
      "  0%|          | 83003/245219048 [1:06:07<3225:35:18, 21.11it/s]"
     ]
    },
    {
     "name": "stdout",
     "output_type": "stream",
     "text": [
      "Epoch[1/1] Loss: 24.639 23.504 0.005\n"
     ]
    },
    {
     "name": "stderr",
     "output_type": "stream",
     "text": [
      "  0%|          | 84002/245219048 [1:06:54<3177:26:48, 21.43it/s]"
     ]
    },
    {
     "name": "stdout",
     "output_type": "stream",
     "text": [
      "Epoch[1/1] Loss: 18.099 17.006 0.004\n"
     ]
    },
    {
     "name": "stderr",
     "output_type": "stream",
     "text": [
      "  0%|          | 85004/245219048 [1:07:42<3253:36:04, 20.93it/s]"
     ]
    },
    {
     "name": "stdout",
     "output_type": "stream",
     "text": [
      "Epoch[1/1] Loss: 19.001 17.888 0.004\n"
     ]
    },
    {
     "name": "stderr",
     "output_type": "stream",
     "text": [
      "  0%|          | 86003/245219048 [1:08:30<3227:22:09, 21.10it/s]"
     ]
    },
    {
     "name": "stdout",
     "output_type": "stream",
     "text": [
      "Epoch[1/1] Loss: 17.066 15.985 0.004\n"
     ]
    },
    {
     "name": "stderr",
     "output_type": "stream",
     "text": [
      "  0%|          | 87002/245219048 [1:09:17<3262:36:51, 20.87it/s]"
     ]
    },
    {
     "name": "stdout",
     "output_type": "stream",
     "text": [
      "Epoch[1/1] Loss: 19.184 18.065 0.004\n"
     ]
    },
    {
     "name": "stderr",
     "output_type": "stream",
     "text": [
      "  0%|          | 88004/245219048 [1:10:05<3267:18:10, 20.84it/s]"
     ]
    },
    {
     "name": "stdout",
     "output_type": "stream",
     "text": [
      "Epoch[1/1] Loss: 16.939 15.878 0.004\n"
     ]
    },
    {
     "name": "stderr",
     "output_type": "stream",
     "text": [
      "  0%|          | 89003/245219048 [1:10:52<3198:57:51, 21.29it/s]"
     ]
    },
    {
     "name": "stdout",
     "output_type": "stream",
     "text": [
      "Epoch[1/1] Loss: 16.546 15.475 0.004\n"
     ]
    },
    {
     "name": "stderr",
     "output_type": "stream",
     "text": [
      "  0%|          | 90002/245219048 [1:11:40<3258:52:44, 20.89it/s]"
     ]
    },
    {
     "name": "stdout",
     "output_type": "stream",
     "text": [
      "Epoch[1/1] Loss: 18.010 16.885 0.005\n"
     ]
    },
    {
     "name": "stderr",
     "output_type": "stream",
     "text": [
      "  0%|          | 91004/245219048 [1:12:27<3284:31:02, 20.73it/s]"
     ]
    },
    {
     "name": "stdout",
     "output_type": "stream",
     "text": [
      "Epoch[1/1] Loss: 16.069 14.987 0.004\n"
     ]
    },
    {
     "name": "stderr",
     "output_type": "stream",
     "text": [
      "  0%|          | 92003/245219048 [1:13:15<3270:10:45, 20.82it/s]"
     ]
    },
    {
     "name": "stdout",
     "output_type": "stream",
     "text": [
      "Epoch[1/1] Loss: 17.627 16.550 0.004\n"
     ]
    },
    {
     "name": "stderr",
     "output_type": "stream",
     "text": [
      "  0%|          | 93002/245219048 [1:14:03<3265:48:47, 20.85it/s]"
     ]
    },
    {
     "name": "stdout",
     "output_type": "stream",
     "text": [
      "Epoch[1/1] Loss: 21.279 20.205 0.004\n"
     ]
    },
    {
     "name": "stderr",
     "output_type": "stream",
     "text": [
      "  0%|          | 94004/245219048 [1:14:51<3224:04:13, 21.12it/s]"
     ]
    },
    {
     "name": "stdout",
     "output_type": "stream",
     "text": [
      "Epoch[1/1] Loss: 16.794 15.703 0.004\n"
     ]
    },
    {
     "name": "stderr",
     "output_type": "stream",
     "text": [
      "  0%|          | 95003/245219048 [1:15:39<3237:26:41, 21.03it/s]"
     ]
    },
    {
     "name": "stdout",
     "output_type": "stream",
     "text": [
      "Epoch[1/1] Loss: 30.071 28.915 0.005\n"
     ]
    },
    {
     "name": "stderr",
     "output_type": "stream",
     "text": [
      "  0%|          | 96002/245219048 [1:16:26<3252:50:09, 20.93it/s]"
     ]
    },
    {
     "name": "stdout",
     "output_type": "stream",
     "text": [
      "Epoch[1/1] Loss: 16.965 15.846 0.004\n"
     ]
    },
    {
     "name": "stderr",
     "output_type": "stream",
     "text": [
      "  0%|          | 97004/245219048 [1:17:14<3260:21:14, 20.88it/s]"
     ]
    },
    {
     "name": "stdout",
     "output_type": "stream",
     "text": [
      "Epoch[1/1] Loss: 16.603 15.520 0.004\n"
     ]
    },
    {
     "name": "stderr",
     "output_type": "stream",
     "text": [
      "  0%|          | 98003/245219048 [1:18:02<3215:56:54, 21.17it/s]"
     ]
    },
    {
     "name": "stdout",
     "output_type": "stream",
     "text": [
      "Epoch[1/1] Loss: 15.783 14.699 0.004\n"
     ]
    },
    {
     "name": "stderr",
     "output_type": "stream",
     "text": [
      "  0%|          | 99002/245219048 [1:18:50<3283:16:07, 20.74it/s]"
     ]
    },
    {
     "name": "stdout",
     "output_type": "stream",
     "text": [
      "Epoch[1/1] Loss: 17.319 16.185 0.005\n"
     ]
    },
    {
     "name": "stderr",
     "output_type": "stream",
     "text": [
      "  0%|          | 100004/245219048 [1:19:39<3295:56:07, 20.66it/s]"
     ]
    },
    {
     "name": "stdout",
     "output_type": "stream",
     "text": [
      "Epoch[1/1] Loss: 15.787 14.682 0.004\n"
     ]
    },
    {
     "name": "stderr",
     "output_type": "stream",
     "text": [
      "  0%|          | 101003/245219048 [1:20:27<3270:37:26, 20.82it/s]"
     ]
    },
    {
     "name": "stdout",
     "output_type": "stream",
     "text": [
      "Epoch[1/1] Loss: 21.697 20.544 0.005\n"
     ]
    },
    {
     "name": "stderr",
     "output_type": "stream",
     "text": [
      "  0%|          | 102002/245219048 [1:21:14<3180:46:48, 21.41it/s]"
     ]
    },
    {
     "name": "stdout",
     "output_type": "stream",
     "text": [
      "Epoch[1/1] Loss: 17.085 15.986 0.004\n"
     ]
    },
    {
     "name": "stderr",
     "output_type": "stream",
     "text": [
      "  0%|          | 103004/245219048 [1:22:02<3266:03:06, 20.85it/s]"
     ]
    },
    {
     "name": "stdout",
     "output_type": "stream",
     "text": [
      "Epoch[1/1] Loss: 20.497 19.428 0.004\n"
     ]
    },
    {
     "name": "stderr",
     "output_type": "stream",
     "text": [
      "  0%|          | 104003/245219048 [1:22:50<3225:53:36, 21.11it/s]"
     ]
    },
    {
     "name": "stdout",
     "output_type": "stream",
     "text": [
      "Epoch[1/1] Loss: 22.733 21.565 0.005\n"
     ]
    },
    {
     "name": "stderr",
     "output_type": "stream",
     "text": [
      "  0%|          | 105002/245219048 [1:23:37<3260:47:36, 20.88it/s]"
     ]
    },
    {
     "name": "stdout",
     "output_type": "stream",
     "text": [
      "Epoch[1/1] Loss: 16.009 14.901 0.004\n"
     ]
    },
    {
     "name": "stderr",
     "output_type": "stream",
     "text": [
      "  0%|          | 106004/245219048 [1:24:25<3285:53:45, 20.72it/s]"
     ]
    },
    {
     "name": "stdout",
     "output_type": "stream",
     "text": [
      "Epoch[1/1] Loss: 16.115 15.016 0.004\n"
     ]
    },
    {
     "name": "stderr",
     "output_type": "stream",
     "text": [
      "  0%|          | 107003/245219048 [1:25:13<3206:45:50, 21.23it/s]"
     ]
    },
    {
     "name": "stdout",
     "output_type": "stream",
     "text": [
      "Epoch[1/1] Loss: 14.879 13.785 0.004\n"
     ]
    },
    {
     "name": "stderr",
     "output_type": "stream",
     "text": [
      "  0%|          | 108002/245219048 [1:26:01<3271:15:43, 20.81it/s]"
     ]
    },
    {
     "name": "stdout",
     "output_type": "stream",
     "text": [
      "Epoch[1/1] Loss: 17.318 16.182 0.005\n"
     ]
    },
    {
     "name": "stderr",
     "output_type": "stream",
     "text": [
      "  0%|          | 109004/245219048 [1:26:49<3257:41:11, 20.90it/s]"
     ]
    },
    {
     "name": "stdout",
     "output_type": "stream",
     "text": [
      "Epoch[1/1] Loss: 17.730 16.627 0.004\n"
     ]
    },
    {
     "name": "stderr",
     "output_type": "stream",
     "text": [
      "  0%|          | 110003/245219048 [1:27:37<3256:23:37, 20.91it/s]"
     ]
    },
    {
     "name": "stdout",
     "output_type": "stream",
     "text": [
      "Epoch[1/1] Loss: 84.810 83.851 0.004\n"
     ]
    },
    {
     "name": "stderr",
     "output_type": "stream",
     "text": [
      "  0%|          | 111002/245219048 [1:28:24<3236:29:59, 21.04it/s]"
     ]
    },
    {
     "name": "stdout",
     "output_type": "stream",
     "text": [
      "Epoch[1/1] Loss: 15.767 14.631 0.005\n"
     ]
    },
    {
     "name": "stderr",
     "output_type": "stream",
     "text": [
      "  0%|          | 112004/245219048 [1:29:12<3266:53:54, 20.84it/s]"
     ]
    },
    {
     "name": "stdout",
     "output_type": "stream",
     "text": [
      "Epoch[1/1] Loss: 15.807 14.684 0.004\n"
     ]
    },
    {
     "name": "stderr",
     "output_type": "stream",
     "text": [
      "  0%|          | 113003/245219048 [1:30:00<3231:50:53, 21.07it/s]"
     ]
    },
    {
     "name": "stdout",
     "output_type": "stream",
     "text": [
      "Epoch[1/1] Loss: 15.181 14.070 0.004\n"
     ]
    },
    {
     "name": "stderr",
     "output_type": "stream",
     "text": [
      "  0%|          | 114002/245219048 [1:30:48<3157:53:30, 21.56it/s]"
     ]
    },
    {
     "name": "stdout",
     "output_type": "stream",
     "text": [
      "Epoch[1/1] Loss: 18.436 17.274 0.005\n"
     ]
    },
    {
     "name": "stderr",
     "output_type": "stream",
     "text": [
      "  0%|          | 115004/245219048 [1:31:36<3328:13:59, 20.46it/s]"
     ]
    },
    {
     "name": "stdout",
     "output_type": "stream",
     "text": [
      "Epoch[1/1] Loss: 14.576 13.457 0.004\n"
     ]
    },
    {
     "name": "stderr",
     "output_type": "stream",
     "text": [
      "  0%|          | 116003/245219048 [1:32:24<3257:53:07, 20.90it/s]"
     ]
    },
    {
     "name": "stdout",
     "output_type": "stream",
     "text": [
      "Epoch[1/1] Loss: 15.343 14.235 0.004\n"
     ]
    },
    {
     "name": "stderr",
     "output_type": "stream",
     "text": [
      "  0%|          | 117002/245219048 [1:33:12<3305:15:48, 20.60it/s]"
     ]
    },
    {
     "name": "stdout",
     "output_type": "stream",
     "text": [
      "Epoch[1/1] Loss: 15.717 14.575 0.005\n"
     ]
    },
    {
     "name": "stderr",
     "output_type": "stream",
     "text": [
      "  0%|          | 118004/245219048 [1:34:01<3327:41:56, 20.46it/s]"
     ]
    },
    {
     "name": "stdout",
     "output_type": "stream",
     "text": [
      "Epoch[1/1] Loss: 15.783 14.672 0.004\n"
     ]
    },
    {
     "name": "stderr",
     "output_type": "stream",
     "text": [
      "  0%|          | 119003/245219048 [1:34:49<3206:57:13, 21.23it/s]"
     ]
    },
    {
     "name": "stdout",
     "output_type": "stream",
     "text": [
      "Epoch[1/1] Loss: 16.321 15.193 0.005\n"
     ]
    },
    {
     "name": "stderr",
     "output_type": "stream",
     "text": [
      "  0%|          | 120002/245219048 [1:35:37<3286:37:32, 20.72it/s]"
     ]
    },
    {
     "name": "stdout",
     "output_type": "stream",
     "text": [
      "Epoch[1/1] Loss: 14.971 13.869 0.004\n"
     ]
    },
    {
     "name": "stderr",
     "output_type": "stream",
     "text": [
      "  0%|          | 121004/245219048 [1:36:25<3281:54:37, 20.74it/s]"
     ]
    },
    {
     "name": "stdout",
     "output_type": "stream",
     "text": [
      "Epoch[1/1] Loss: 24.427 23.258 0.005\n"
     ]
    },
    {
     "name": "stderr",
     "output_type": "stream",
     "text": [
      "  0%|          | 122003/245219048 [1:37:13<3237:14:53, 21.03it/s]"
     ]
    },
    {
     "name": "stdout",
     "output_type": "stream",
     "text": [
      "Epoch[1/1] Loss: 15.828 14.694 0.005\n"
     ]
    },
    {
     "name": "stderr",
     "output_type": "stream",
     "text": [
      "  0%|          | 123002/245219048 [1:38:01<3319:19:17, 20.51it/s]"
     ]
    },
    {
     "name": "stdout",
     "output_type": "stream",
     "text": [
      "Epoch[1/1] Loss: 16.866 15.750 0.004\n"
     ]
    },
    {
     "name": "stderr",
     "output_type": "stream",
     "text": [
      "  0%|          | 124004/245219048 [1:38:50<3260:40:49, 20.88it/s]"
     ]
    },
    {
     "name": "stdout",
     "output_type": "stream",
     "text": [
      "Epoch[1/1] Loss: 18.597 17.444 0.005\n"
     ]
    },
    {
     "name": "stderr",
     "output_type": "stream",
     "text": [
      "  0%|          | 125003/245219048 [1:39:37<3271:56:18, 20.81it/s]"
     ]
    },
    {
     "name": "stdout",
     "output_type": "stream",
     "text": [
      "Epoch[1/1] Loss: 15.525 14.363 0.005\n"
     ]
    },
    {
     "name": "stderr",
     "output_type": "stream",
     "text": [
      "  0%|          | 126002/245219048 [1:40:25<3243:19:26, 20.99it/s]"
     ]
    },
    {
     "name": "stdout",
     "output_type": "stream",
     "text": [
      "Epoch[1/1] Loss: 14.200 13.063 0.005\n"
     ]
    },
    {
     "name": "stderr",
     "output_type": "stream",
     "text": [
      "  0%|          | 127004/245219048 [1:41:13<3286:41:23, 20.71it/s]"
     ]
    },
    {
     "name": "stdout",
     "output_type": "stream",
     "text": [
      "Epoch[1/1] Loss: 15.985 14.853 0.005\n"
     ]
    },
    {
     "name": "stderr",
     "output_type": "stream",
     "text": [
      "  0%|          | 128003/245219048 [1:42:01<3272:38:42, 20.80it/s]"
     ]
    },
    {
     "name": "stdout",
     "output_type": "stream",
     "text": [
      "Epoch[1/1] Loss: 15.254 14.140 0.004\n"
     ]
    },
    {
     "name": "stderr",
     "output_type": "stream",
     "text": [
      "  0%|          | 129002/245219048 [1:42:50<3275:28:51, 20.78it/s]"
     ]
    },
    {
     "name": "stdout",
     "output_type": "stream",
     "text": [
      "Epoch[1/1] Loss: 16.620 15.476 0.005\n"
     ]
    },
    {
     "name": "stderr",
     "output_type": "stream",
     "text": [
      "  0%|          | 130004/245219048 [1:43:37<3253:50:29, 20.92it/s]"
     ]
    },
    {
     "name": "stdout",
     "output_type": "stream",
     "text": [
      "Epoch[1/1] Loss: 14.787 13.647 0.005\n"
     ]
    },
    {
     "name": "stderr",
     "output_type": "stream",
     "text": [
      "  0%|          | 131003/245219048 [1:44:25<3218:36:39, 21.15it/s]"
     ]
    },
    {
     "name": "stdout",
     "output_type": "stream",
     "text": [
      "Epoch[1/1] Loss: 14.668 13.560 0.004\n"
     ]
    },
    {
     "name": "stderr",
     "output_type": "stream",
     "text": [
      "  0%|          | 132002/245219048 [1:45:13<3244:02:08, 20.99it/s]"
     ]
    },
    {
     "name": "stdout",
     "output_type": "stream",
     "text": [
      "Epoch[1/1] Loss: 17.634 16.488 0.005\n"
     ]
    },
    {
     "name": "stderr",
     "output_type": "stream",
     "text": [
      "  0%|          | 133004/245219048 [1:46:01<3225:04:24, 21.11it/s]"
     ]
    },
    {
     "name": "stdout",
     "output_type": "stream",
     "text": [
      "Epoch[1/1] Loss: 14.896 13.764 0.005\n"
     ]
    },
    {
     "name": "stderr",
     "output_type": "stream",
     "text": [
      "  0%|          | 134003/245219048 [1:46:48<3237:03:49, 21.03it/s]"
     ]
    },
    {
     "name": "stdout",
     "output_type": "stream",
     "text": [
      "Epoch[1/1] Loss: 25.975 24.777 0.005\n"
     ]
    },
    {
     "name": "stderr",
     "output_type": "stream",
     "text": [
      "  0%|          | 135002/245219048 [1:47:36<3301:15:21, 20.62it/s]"
     ]
    },
    {
     "name": "stdout",
     "output_type": "stream",
     "text": [
      "Epoch[1/1] Loss: 15.793 14.636 0.005\n"
     ]
    },
    {
     "name": "stderr",
     "output_type": "stream",
     "text": [
      "  0%|          | 136004/245219048 [1:48:23<3257:35:06, 20.90it/s]"
     ]
    },
    {
     "name": "stdout",
     "output_type": "stream",
     "text": [
      "Epoch[1/1] Loss: 21.869 20.663 0.005\n"
     ]
    },
    {
     "name": "stderr",
     "output_type": "stream",
     "text": [
      "  0%|          | 137003/245219048 [1:49:11<3205:54:34, 21.24it/s]"
     ]
    },
    {
     "name": "stdout",
     "output_type": "stream",
     "text": [
      "Epoch[1/1] Loss: 15.270 14.115 0.005\n"
     ]
    },
    {
     "name": "stderr",
     "output_type": "stream",
     "text": [
      "  0%|          | 138002/245219048 [1:49:58<3293:03:20, 20.67it/s]"
     ]
    },
    {
     "name": "stdout",
     "output_type": "stream",
     "text": [
      "Epoch[1/1] Loss: 15.392 14.255 0.005\n"
     ]
    },
    {
     "name": "stderr",
     "output_type": "stream",
     "text": [
      "  0%|          | 139004/245219048 [1:50:46<3218:38:35, 21.15it/s]"
     ]
    },
    {
     "name": "stdout",
     "output_type": "stream",
     "text": [
      "Epoch[1/1] Loss: 14.902 13.765 0.005\n"
     ]
    },
    {
     "name": "stderr",
     "output_type": "stream",
     "text": [
      "  0%|          | 140003/245219048 [1:51:34<3225:20:38, 21.11it/s]"
     ]
    },
    {
     "name": "stdout",
     "output_type": "stream",
     "text": [
      "Epoch[1/1] Loss: 15.654 14.496 0.005\n"
     ]
    },
    {
     "name": "stderr",
     "output_type": "stream",
     "text": [
      "  0%|          | 141003/245219048 [1:52:22<3035:34:33, 22.43it/s]"
     ]
    },
    {
     "name": "stdout",
     "output_type": "stream",
     "text": [
      "Epoch[1/1] Loss: 15.074 13.926 0.005\n"
     ]
    },
    {
     "name": "stderr",
     "output_type": "stream",
     "text": [
      "  0%|          | 142002/245219048 [1:53:09<3303:37:10, 20.61it/s]"
     ]
    },
    {
     "name": "stdout",
     "output_type": "stream",
     "text": [
      "Epoch[1/1] Loss: 100.541 99.466 0.004\n"
     ]
    },
    {
     "name": "stderr",
     "output_type": "stream",
     "text": [
      "  0%|          | 143004/245219048 [1:53:58<3257:51:10, 20.90it/s]"
     ]
    },
    {
     "name": "stdout",
     "output_type": "stream",
     "text": [
      "Epoch[1/1] Loss: 14.620 13.464 0.005\n"
     ]
    },
    {
     "name": "stderr",
     "output_type": "stream",
     "text": [
      "  0%|          | 144003/245219048 [1:54:46<3198:44:14, 21.28it/s]"
     ]
    },
    {
     "name": "stdout",
     "output_type": "stream",
     "text": [
      "Epoch[1/1] Loss: 13.917 12.788 0.005\n"
     ]
    },
    {
     "name": "stderr",
     "output_type": "stream",
     "text": [
      "  0%|          | 145002/245219048 [1:55:34<3334:44:05, 20.41it/s]"
     ]
    },
    {
     "name": "stdout",
     "output_type": "stream",
     "text": [
      "Epoch[1/1] Loss: 15.847 14.660 0.005\n"
     ]
    },
    {
     "name": "stderr",
     "output_type": "stream",
     "text": [
      "  0%|          | 146004/245219048 [1:56:22<3247:37:52, 20.96it/s]"
     ]
    },
    {
     "name": "stdout",
     "output_type": "stream",
     "text": [
      "Epoch[1/1] Loss: 14.326 13.185 0.005\n"
     ]
    },
    {
     "name": "stderr",
     "output_type": "stream",
     "text": [
      "  0%|          | 147003/245219048 [1:57:10<3329:52:50, 20.44it/s]"
     ]
    },
    {
     "name": "stdout",
     "output_type": "stream",
     "text": [
      "Epoch[1/1] Loss: 14.218 13.091 0.005\n"
     ]
    },
    {
     "name": "stderr",
     "output_type": "stream",
     "text": [
      "  0%|          | 148004/245219048 [1:57:59<3397:58:05, 20.03it/s]"
     ]
    },
    {
     "name": "stdout",
     "output_type": "stream",
     "text": [
      "Epoch[1/1] Loss: 14.308 13.177 0.005\n"
     ]
    },
    {
     "name": "stderr",
     "output_type": "stream",
     "text": [
      "  0%|          | 149003/245219048 [1:58:47<3306:07:44, 20.59it/s]"
     ]
    },
    {
     "name": "stdout",
     "output_type": "stream",
     "text": [
      "Epoch[1/1] Loss: 14.452 13.303 0.005\n"
     ]
    },
    {
     "name": "stderr",
     "output_type": "stream",
     "text": [
      "  0%|          | 150002/245219048 [1:59:36<3315:33:32, 20.53it/s]"
     ]
    },
    {
     "name": "stdout",
     "output_type": "stream",
     "text": [
      "Epoch[1/1] Loss: 13.829 12.682 0.005\n"
     ]
    },
    {
     "name": "stderr",
     "output_type": "stream",
     "text": [
      "  0%|          | 151004/245219048 [2:00:25<3225:12:52, 21.11it/s]"
     ]
    },
    {
     "name": "stdout",
     "output_type": "stream",
     "text": [
      "Epoch[1/1] Loss: 15.474 14.329 0.005\n"
     ]
    },
    {
     "name": "stderr",
     "output_type": "stream",
     "text": [
      "  0%|          | 152002/245219048 [2:01:14<3314:36:43, 20.54it/s]"
     ]
    },
    {
     "name": "stdout",
     "output_type": "stream",
     "text": [
      "Epoch[1/1] Loss: 15.194 14.038 0.005\n"
     ]
    },
    {
     "name": "stderr",
     "output_type": "stream",
     "text": [
      "  0%|          | 153004/245219048 [2:02:03<3332:17:26, 20.43it/s]"
     ]
    },
    {
     "name": "stdout",
     "output_type": "stream",
     "text": [
      "Epoch[1/1] Loss: 14.514 13.346 0.005\n"
     ]
    },
    {
     "name": "stderr",
     "output_type": "stream",
     "text": [
      "  0%|          | 154004/245219048 [2:02:52<3355:08:08, 20.29it/s]"
     ]
    },
    {
     "name": "stdout",
     "output_type": "stream",
     "text": [
      "Epoch[1/1] Loss: 14.398 13.252 0.005\n"
     ]
    },
    {
     "name": "stderr",
     "output_type": "stream",
     "text": [
      "  0%|          | 155002/245219048 [2:03:41<3366:44:03, 20.22it/s]"
     ]
    },
    {
     "name": "stdout",
     "output_type": "stream",
     "text": [
      "Epoch[1/1] Loss: 14.805 13.648 0.005\n"
     ]
    },
    {
     "name": "stderr",
     "output_type": "stream",
     "text": [
      "  0%|          | 156004/245219048 [2:04:30<3348:39:05, 20.33it/s]"
     ]
    },
    {
     "name": "stdout",
     "output_type": "stream",
     "text": [
      "Epoch[1/1] Loss: 14.454 13.320 0.005\n"
     ]
    },
    {
     "name": "stderr",
     "output_type": "stream",
     "text": [
      "  0%|          | 157003/245219048 [2:05:19<3315:31:33, 20.53it/s]"
     ]
    },
    {
     "name": "stdout",
     "output_type": "stream",
     "text": [
      "Epoch[1/1] Loss: 16.961 15.775 0.005\n"
     ]
    },
    {
     "name": "stderr",
     "output_type": "stream",
     "text": [
      "  0%|          | 158002/245219048 [2:06:08<3391:29:29, 20.07it/s]"
     ]
    },
    {
     "name": "stdout",
     "output_type": "stream",
     "text": [
      "Epoch[1/1] Loss: 13.758 12.610 0.005\n"
     ]
    },
    {
     "name": "stderr",
     "output_type": "stream",
     "text": [
      "  0%|          | 159004/245219048 [2:06:57<3317:14:26, 20.52it/s]"
     ]
    },
    {
     "name": "stdout",
     "output_type": "stream",
     "text": [
      "Epoch[1/1] Loss: 17.184 16.051 0.005\n"
     ]
    },
    {
     "name": "stderr",
     "output_type": "stream",
     "text": [
      "  0%|          | 160003/245219048 [2:07:45<3280:33:10, 20.75it/s]"
     ]
    },
    {
     "name": "stdout",
     "output_type": "stream",
     "text": [
      "Epoch[1/1] Loss: 14.497 13.314 0.005\n"
     ]
    },
    {
     "name": "stderr",
     "output_type": "stream",
     "text": [
      "  0%|          | 161003/245219048 [2:08:34<3318:24:53, 20.51it/s]"
     ]
    },
    {
     "name": "stdout",
     "output_type": "stream",
     "text": [
      "Epoch[1/1] Loss: 14.104 12.944 0.005\n"
     ]
    },
    {
     "name": "stderr",
     "output_type": "stream",
     "text": [
      "  0%|          | 162002/245219048 [2:09:23<3290:12:14, 20.69it/s]"
     ]
    },
    {
     "name": "stdout",
     "output_type": "stream",
     "text": [
      "Epoch[1/1] Loss: 13.670 12.527 0.005\n"
     ]
    },
    {
     "name": "stderr",
     "output_type": "stream",
     "text": [
      "  0%|          | 163003/245219048 [2:10:12<3303:51:59, 20.60it/s]"
     ]
    },
    {
     "name": "stdout",
     "output_type": "stream",
     "text": [
      "Epoch[1/1] Loss: 13.695 12.549 0.005\n"
     ]
    },
    {
     "name": "stderr",
     "output_type": "stream",
     "text": [
      "  0%|          | 164002/245219048 [2:11:00<3349:38:13, 20.32it/s]"
     ]
    },
    {
     "name": "stdout",
     "output_type": "stream",
     "text": [
      "Epoch[1/1] Loss: 13.472 12.315 0.005\n"
     ]
    },
    {
     "name": "stderr",
     "output_type": "stream",
     "text": [
      "  0%|          | 165004/245219048 [2:11:48<3316:05:55, 20.53it/s]"
     ]
    },
    {
     "name": "stdout",
     "output_type": "stream",
     "text": [
      "Epoch[1/1] Loss: 13.921 12.779 0.005\n"
     ]
    },
    {
     "name": "stderr",
     "output_type": "stream",
     "text": [
      "  0%|          | 166003/245219048 [2:12:37<3297:50:44, 20.64it/s]"
     ]
    },
    {
     "name": "stdout",
     "output_type": "stream",
     "text": [
      "Epoch[1/1] Loss: 15.628 14.443 0.005\n"
     ]
    },
    {
     "name": "stderr",
     "output_type": "stream",
     "text": [
      "  0%|          | 167002/245219048 [2:13:26<3289:49:48, 20.69it/s]"
     ]
    },
    {
     "name": "stdout",
     "output_type": "stream",
     "text": [
      "Epoch[1/1] Loss: 13.806 12.665 0.005\n"
     ]
    },
    {
     "name": "stderr",
     "output_type": "stream",
     "text": [
      "  0%|          | 168004/245219048 [2:14:14<3286:59:20, 20.71it/s]"
     ]
    },
    {
     "name": "stdout",
     "output_type": "stream",
     "text": [
      "Epoch[1/1] Loss: 22.361 21.143 0.005\n"
     ]
    },
    {
     "name": "stderr",
     "output_type": "stream",
     "text": [
      "  0%|          | 169003/245219048 [2:15:03<3228:48:49, 21.08it/s]"
     ]
    },
    {
     "name": "stdout",
     "output_type": "stream",
     "text": [
      "Epoch[1/1] Loss: 14.143 12.962 0.005\n"
     ]
    },
    {
     "name": "stderr",
     "output_type": "stream",
     "text": [
      "  0%|          | 170002/245219048 [2:15:51<3299:57:11, 20.63it/s]"
     ]
    },
    {
     "name": "stdout",
     "output_type": "stream",
     "text": [
      "Epoch[1/1] Loss: 14.374 13.201 0.005\n"
     ]
    },
    {
     "name": "stderr",
     "output_type": "stream",
     "text": [
      "  0%|          | 171004/245219048 [2:16:40<3319:13:03, 20.51it/s]"
     ]
    },
    {
     "name": "stdout",
     "output_type": "stream",
     "text": [
      "Epoch[1/1] Loss: 18.369 17.176 0.005\n"
     ]
    },
    {
     "name": "stderr",
     "output_type": "stream",
     "text": [
      "  0%|          | 172003/245219048 [2:17:28<3264:54:41, 20.85it/s]"
     ]
    },
    {
     "name": "stdout",
     "output_type": "stream",
     "text": [
      "Epoch[1/1] Loss: 13.314 12.166 0.005\n"
     ]
    },
    {
     "name": "stderr",
     "output_type": "stream",
     "text": [
      "  0%|          | 173002/245219048 [2:18:16<3287:22:12, 20.71it/s]"
     ]
    },
    {
     "name": "stdout",
     "output_type": "stream",
     "text": [
      "Epoch[1/1] Loss: 14.405 13.224 0.005\n"
     ]
    },
    {
     "name": "stderr",
     "output_type": "stream",
     "text": [
      "  0%|          | 174004/245219048 [2:19:04<3246:24:56, 20.97it/s]"
     ]
    },
    {
     "name": "stdout",
     "output_type": "stream",
     "text": [
      "Epoch[1/1] Loss: 17.073 15.902 0.005\n"
     ]
    },
    {
     "name": "stderr",
     "output_type": "stream",
     "text": [
      "  0%|          | 175003/245219048 [2:19:52<3252:19:16, 20.93it/s]"
     ]
    },
    {
     "name": "stdout",
     "output_type": "stream",
     "text": [
      "Epoch[1/1] Loss: 13.887 12.741 0.005\n"
     ]
    },
    {
     "name": "stderr",
     "output_type": "stream",
     "text": [
      "  0%|          | 176002/245219048 [2:20:40<3286:32:23, 20.71it/s]"
     ]
    },
    {
     "name": "stdout",
     "output_type": "stream",
     "text": [
      "Epoch[1/1] Loss: 13.377 12.237 0.005\n"
     ]
    },
    {
     "name": "stderr",
     "output_type": "stream",
     "text": [
      "  0%|          | 177003/245219048 [2:21:29<3304:58:56, 20.60it/s]"
     ]
    },
    {
     "name": "stdout",
     "output_type": "stream",
     "text": [
      "Epoch[1/1] Loss: 15.657 14.459 0.005\n"
     ]
    },
    {
     "name": "stderr",
     "output_type": "stream",
     "text": [
      "  0%|          | 178003/245219048 [2:22:18<3346:21:55, 20.34it/s]"
     ]
    },
    {
     "name": "stdout",
     "output_type": "stream",
     "text": [
      "Epoch[1/1] Loss: 13.791 12.635 0.005\n"
     ]
    },
    {
     "name": "stderr",
     "output_type": "stream",
     "text": [
      "  0%|          | 179004/245219048 [2:23:07<3311:04:50, 20.56it/s]"
     ]
    },
    {
     "name": "stdout",
     "output_type": "stream",
     "text": [
      "Epoch[1/1] Loss: 14.402 13.247 0.005\n"
     ]
    },
    {
     "name": "stderr",
     "output_type": "stream",
     "text": [
      "  0%|          | 180003/245219048 [2:23:56<3306:36:39, 20.58it/s]"
     ]
    },
    {
     "name": "stdout",
     "output_type": "stream",
     "text": [
      "Epoch[1/1] Loss: 13.260 12.089 0.005\n"
     ]
    },
    {
     "name": "stderr",
     "output_type": "stream",
     "text": [
      "  0%|          | 181004/245219048 [2:24:45<3319:14:46, 20.51it/s]"
     ]
    },
    {
     "name": "stdout",
     "output_type": "stream",
     "text": [
      "Epoch[1/1] Loss: 13.672 12.516 0.005\n"
     ]
    },
    {
     "name": "stderr",
     "output_type": "stream",
     "text": [
      "  0%|          | 182004/245219048 [2:25:34<3373:35:47, 20.18it/s]"
     ]
    },
    {
     "name": "stdout",
     "output_type": "stream",
     "text": [
      "Epoch[1/1] Loss: 21.272 20.074 0.005\n"
     ]
    },
    {
     "name": "stderr",
     "output_type": "stream",
     "text": [
      "  0%|          | 183003/245219048 [2:26:23<3264:12:44, 20.85it/s]"
     ]
    },
    {
     "name": "stdout",
     "output_type": "stream",
     "text": [
      "Epoch[1/1] Loss: 15.119 13.942 0.005\n"
     ]
    },
    {
     "name": "stderr",
     "output_type": "stream",
     "text": [
      "  0%|          | 184002/245219048 [2:27:11<3298:30:41, 20.64it/s]"
     ]
    },
    {
     "name": "stdout",
     "output_type": "stream",
     "text": [
      "Epoch[1/1] Loss: 14.364 13.192 0.005\n"
     ]
    },
    {
     "name": "stderr",
     "output_type": "stream",
     "text": [
      "  0%|          | 185004/245219048 [2:27:59<3351:21:57, 20.31it/s]"
     ]
    },
    {
     "name": "stdout",
     "output_type": "stream",
     "text": [
      "Epoch[1/1] Loss: 13.400 12.257 0.005\n"
     ]
    },
    {
     "name": "stderr",
     "output_type": "stream",
     "text": [
      "  0%|          | 186003/245219048 [2:28:48<3312:18:54, 20.55it/s]"
     ]
    },
    {
     "name": "stdout",
     "output_type": "stream",
     "text": [
      "Epoch[1/1] Loss: 14.082 12.904 0.005\n"
     ]
    },
    {
     "name": "stderr",
     "output_type": "stream",
     "text": [
      "  0%|          | 187002/245219048 [2:29:36<3336:04:18, 20.40it/s]"
     ]
    },
    {
     "name": "stdout",
     "output_type": "stream",
     "text": [
      "Epoch[1/1] Loss: 15.727 14.556 0.005\n"
     ]
    },
    {
     "name": "stderr",
     "output_type": "stream",
     "text": [
      "  0%|          | 188004/245219048 [2:30:25<3341:52:21, 20.37it/s]"
     ]
    },
    {
     "name": "stdout",
     "output_type": "stream",
     "text": [
      "Epoch[1/1] Loss: 13.714 12.571 0.005\n"
     ]
    },
    {
     "name": "stderr",
     "output_type": "stream",
     "text": [
      "  0%|          | 189003/245219048 [2:31:13<3249:13:20, 20.95it/s]"
     ]
    },
    {
     "name": "stdout",
     "output_type": "stream",
     "text": [
      "Epoch[1/1] Loss: 14.575 13.392 0.005\n"
     ]
    },
    {
     "name": "stderr",
     "output_type": "stream",
     "text": [
      "  0%|          | 190004/245219048 [2:32:02<3321:36:41, 20.49it/s]"
     ]
    },
    {
     "name": "stdout",
     "output_type": "stream",
     "text": [
      "Epoch[1/1] Loss: 731.528 730.387 0.005\n"
     ]
    },
    {
     "name": "stderr",
     "output_type": "stream",
     "text": [
      "  0%|          | 191003/245219048 [2:32:51<3331:24:57, 20.43it/s]"
     ]
    },
    {
     "name": "stdout",
     "output_type": "stream",
     "text": [
      "Epoch[1/1] Loss: 14.199 13.030 0.005\n"
     ]
    },
    {
     "name": "stderr",
     "output_type": "stream",
     "text": [
      "  0%|          | 192003/245219048 [2:33:40<3353:58:53, 20.29it/s]"
     ]
    },
    {
     "name": "stdout",
     "output_type": "stream",
     "text": [
      "Epoch[1/1] Loss: 14.714 13.549 0.005\n"
     ]
    },
    {
     "name": "stderr",
     "output_type": "stream",
     "text": [
      "  0%|          | 193003/245219048 [2:34:29<3306:03:53, 20.59it/s]"
     ]
    },
    {
     "name": "stdout",
     "output_type": "stream",
     "text": [
      "Epoch[1/1] Loss: 14.259 13.100 0.005\n"
     ]
    },
    {
     "name": "stderr",
     "output_type": "stream",
     "text": [
      "  0%|          | 194003/245219048 [2:35:17<3281:11:39, 20.74it/s]"
     ]
    },
    {
     "name": "stdout",
     "output_type": "stream",
     "text": [
      "Epoch[1/1] Loss: 16.221 15.040 0.005\n"
     ]
    },
    {
     "name": "stderr",
     "output_type": "stream",
     "text": [
      "  0%|          | 195002/245219048 [2:36:06<3368:58:11, 20.20it/s]"
     ]
    },
    {
     "name": "stdout",
     "output_type": "stream",
     "text": [
      "Epoch[1/1] Loss: 14.530 13.338 0.005\n"
     ]
    },
    {
     "name": "stderr",
     "output_type": "stream",
     "text": [
      "  0%|          | 196004/245219048 [2:36:55<3325:50:43, 20.46it/s]"
     ]
    },
    {
     "name": "stdout",
     "output_type": "stream",
     "text": [
      "Epoch[1/1] Loss: 14.435 13.262 0.005\n"
     ]
    },
    {
     "name": "stderr",
     "output_type": "stream",
     "text": [
      "  0%|          | 197002/245219048 [2:37:44<3393:26:16, 20.06it/s]"
     ]
    },
    {
     "name": "stdout",
     "output_type": "stream",
     "text": [
      "Epoch[1/1] Loss: 14.319 13.137 0.005\n"
     ]
    },
    {
     "name": "stderr",
     "output_type": "stream",
     "text": [
      "  0%|          | 198002/245219048 [2:38:33<3350:52:18, 20.31it/s]"
     ]
    },
    {
     "name": "stdout",
     "output_type": "stream",
     "text": [
      "Epoch[1/1] Loss: 14.070 12.889 0.005\n"
     ]
    },
    {
     "name": "stderr",
     "output_type": "stream",
     "text": [
      "  0%|          | 199003/245219048 [2:39:22<3354:09:11, 20.29it/s]"
     ]
    },
    {
     "name": "stdout",
     "output_type": "stream",
     "text": [
      "Epoch[1/1] Loss: 13.655 12.480 0.005\n"
     ]
    },
    {
     "name": "stderr",
     "output_type": "stream",
     "text": [
      "  0%|          | 200002/245219048 [2:40:11<3349:51:22, 20.32it/s]"
     ]
    },
    {
     "name": "stdout",
     "output_type": "stream",
     "text": [
      "Epoch[1/1] Loss: 14.018 12.842 0.005\n"
     ]
    },
    {
     "name": "stderr",
     "output_type": "stream",
     "text": [
      "  0%|          | 201004/245219048 [2:41:00<3259:49:02, 20.88it/s]"
     ]
    },
    {
     "name": "stdout",
     "output_type": "stream",
     "text": [
      "Epoch[1/1] Loss: 13.511 12.339 0.005\n"
     ]
    },
    {
     "name": "stderr",
     "output_type": "stream",
     "text": [
      "  0%|          | 202003/245219048 [2:41:49<3359:45:09, 20.26it/s]"
     ]
    },
    {
     "name": "stdout",
     "output_type": "stream",
     "text": [
      "Epoch[1/1] Loss: 12.917 11.752 0.005\n"
     ]
    },
    {
     "name": "stderr",
     "output_type": "stream",
     "text": [
      "  0%|          | 203003/245219048 [2:42:38<3342:46:53, 20.36it/s]"
     ]
    },
    {
     "name": "stdout",
     "output_type": "stream",
     "text": [
      "Epoch[1/1] Loss: 29.761 28.547 0.005\n"
     ]
    },
    {
     "name": "stderr",
     "output_type": "stream",
     "text": [
      "  0%|          | 204002/245219048 [2:43:27<3366:51:54, 20.21it/s]"
     ]
    },
    {
     "name": "stdout",
     "output_type": "stream",
     "text": [
      "Epoch[1/1] Loss: 13.900 12.735 0.005\n"
     ]
    },
    {
     "name": "stderr",
     "output_type": "stream",
     "text": [
      "  0%|          | 205004/245219048 [2:44:16<3333:31:35, 20.42it/s]"
     ]
    },
    {
     "name": "stdout",
     "output_type": "stream",
     "text": [
      "Epoch[1/1] Loss: 13.301 12.152 0.005\n"
     ]
    },
    {
     "name": "stderr",
     "output_type": "stream",
     "text": [
      "  0%|          | 206003/245219048 [2:45:05<3261:23:49, 20.87it/s]"
     ]
    },
    {
     "name": "stdout",
     "output_type": "stream",
     "text": [
      "Epoch[1/1] Loss: 13.756 12.578 0.005\n"
     ]
    },
    {
     "name": "stderr",
     "output_type": "stream",
     "text": [
      "  0%|          | 207004/245219048 [2:45:54<3322:25:42, 20.48it/s]"
     ]
    },
    {
     "name": "stdout",
     "output_type": "stream",
     "text": [
      "Epoch[1/1] Loss: 14.408 13.228 0.005\n"
     ]
    },
    {
     "name": "stderr",
     "output_type": "stream",
     "text": [
      "  0%|          | 208002/245219048 [2:46:43<3335:33:01, 20.40it/s]"
     ]
    },
    {
     "name": "stdout",
     "output_type": "stream",
     "text": [
      "Epoch[1/1] Loss: 13.562 12.397 0.005\n"
     ]
    },
    {
     "name": "stderr",
     "output_type": "stream",
     "text": [
      "  0%|          | 209004/245219048 [2:47:32<3347:52:34, 20.33it/s]"
     ]
    },
    {
     "name": "stdout",
     "output_type": "stream",
     "text": [
      "Epoch[1/1] Loss: 13.514 12.333 0.005\n"
     ]
    },
    {
     "name": "stderr",
     "output_type": "stream",
     "text": [
      "  0%|          | 210003/245219048 [2:48:20<3273:57:53, 20.79it/s]"
     ]
    },
    {
     "name": "stdout",
     "output_type": "stream",
     "text": [
      "Epoch[1/1] Loss: 16.959 15.781 0.005\n"
     ]
    },
    {
     "name": "stderr",
     "output_type": "stream",
     "text": [
      "  0%|          | 211004/245219048 [2:49:09<3389:46:23, 20.08it/s]"
     ]
    },
    {
     "name": "stdout",
     "output_type": "stream",
     "text": [
      "Epoch[1/1] Loss: 12.454 11.308 0.005\n"
     ]
    },
    {
     "name": "stderr",
     "output_type": "stream",
     "text": [
      "  0%|          | 212002/245219048 [2:49:58<3358:38:36, 20.26it/s]"
     ]
    },
    {
     "name": "stdout",
     "output_type": "stream",
     "text": [
      "Epoch[1/1] Loss: 15.132 13.963 0.005\n"
     ]
    },
    {
     "name": "stderr",
     "output_type": "stream",
     "text": [
      "  0%|          | 213003/245219048 [2:50:47<3329:13:33, 20.44it/s]"
     ]
    },
    {
     "name": "stdout",
     "output_type": "stream",
     "text": [
      "Epoch[1/1] Loss: 13.351 12.166 0.005\n"
     ]
    },
    {
     "name": "stderr",
     "output_type": "stream",
     "text": [
      "  0%|          | 214004/245219048 [2:51:36<3366:57:35, 20.21it/s]"
     ]
    },
    {
     "name": "stdout",
     "output_type": "stream",
     "text": [
      "Epoch[1/1] Loss: 14.028 12.861 0.005\n"
     ]
    },
    {
     "name": "stderr",
     "output_type": "stream",
     "text": [
      "  0%|          | 215004/245219048 [2:52:25<3290:23:19, 20.68it/s]"
     ]
    },
    {
     "name": "stdout",
     "output_type": "stream",
     "text": [
      "Epoch[1/1] Loss: 13.597 12.451 0.005\n"
     ]
    },
    {
     "name": "stderr",
     "output_type": "stream",
     "text": [
      "  0%|          | 216003/245219048 [2:53:12<3172:14:57, 21.45it/s]"
     ]
    },
    {
     "name": "stdout",
     "output_type": "stream",
     "text": [
      "Epoch[1/1] Loss: 14.276 13.115 0.005\n"
     ]
    },
    {
     "name": "stderr",
     "output_type": "stream",
     "text": [
      "  0%|          | 217002/245219048 [2:54:01<3212:19:52, 21.19it/s]"
     ]
    },
    {
     "name": "stdout",
     "output_type": "stream",
     "text": [
      "Epoch[1/1] Loss: 13.945 12.778 0.005\n"
     ]
    },
    {
     "name": "stderr",
     "output_type": "stream",
     "text": [
      "  0%|          | 218004/245219048 [2:54:49<3317:27:46, 20.51it/s]"
     ]
    },
    {
     "name": "stdout",
     "output_type": "stream",
     "text": [
      "Epoch[1/1] Loss: 13.705 12.548 0.005\n"
     ]
    },
    {
     "name": "stderr",
     "output_type": "stream",
     "text": [
      "  0%|          | 219002/245219048 [2:55:37<3365:37:30, 20.22it/s]"
     ]
    },
    {
     "name": "stdout",
     "output_type": "stream",
     "text": [
      "Epoch[1/1] Loss: 13.096 11.940 0.005\n"
     ]
    },
    {
     "name": "stderr",
     "output_type": "stream",
     "text": [
      "  0%|          | 220004/245219048 [2:56:27<3392:00:29, 20.06it/s]"
     ]
    },
    {
     "name": "stdout",
     "output_type": "stream",
     "text": [
      "Epoch[1/1] Loss: 13.678 12.504 0.005\n"
     ]
    },
    {
     "name": "stderr",
     "output_type": "stream",
     "text": [
      "  0%|          | 221004/245219048 [2:57:16<3369:18:49, 20.20it/s]"
     ]
    },
    {
     "name": "stdout",
     "output_type": "stream",
     "text": [
      "Epoch[1/1] Loss: 13.658 12.502 0.005\n"
     ]
    },
    {
     "name": "stderr",
     "output_type": "stream",
     "text": [
      "  0%|          | 222003/245219048 [2:58:05<3210:05:30, 21.20it/s]"
     ]
    },
    {
     "name": "stdout",
     "output_type": "stream",
     "text": [
      "Epoch[1/1] Loss: 13.303 12.150 0.005\n"
     ]
    },
    {
     "name": "stderr",
     "output_type": "stream",
     "text": [
      "  0%|          | 223002/245219048 [2:58:53<3388:42:19, 20.08it/s]"
     ]
    },
    {
     "name": "stdout",
     "output_type": "stream",
     "text": [
      "Epoch[1/1] Loss: 16.479 15.287 0.005\n"
     ]
    },
    {
     "name": "stderr",
     "output_type": "stream",
     "text": [
      "  0%|          | 224002/245219048 [2:59:42<3309:09:11, 20.57it/s]"
     ]
    },
    {
     "name": "stdout",
     "output_type": "stream",
     "text": [
      "Epoch[1/1] Loss: 12.735 11.564 0.005\n"
     ]
    },
    {
     "name": "stderr",
     "output_type": "stream",
     "text": [
      "  0%|          | 225004/245219048 [3:00:31<3184:13:53, 21.37it/s]"
     ]
    },
    {
     "name": "stdout",
     "output_type": "stream",
     "text": [
      "Epoch[1/1] Loss: 15.299 14.133 0.005\n"
     ]
    },
    {
     "name": "stderr",
     "output_type": "stream",
     "text": [
      "  0%|          | 226003/245219048 [3:01:20<3320:08:00, 20.50it/s]"
     ]
    },
    {
     "name": "stdout",
     "output_type": "stream",
     "text": [
      "Epoch[1/1] Loss: 13.880 12.712 0.005\n"
     ]
    },
    {
     "name": "stderr",
     "output_type": "stream",
     "text": [
      "  0%|          | 227002/245219048 [3:02:08<3388:30:19, 20.08it/s]"
     ]
    },
    {
     "name": "stdout",
     "output_type": "stream",
     "text": [
      "Epoch[1/1] Loss: 13.182 12.042 0.005\n"
     ]
    },
    {
     "name": "stderr",
     "output_type": "stream",
     "text": [
      "  0%|          | 228003/245219048 [3:02:57<3272:11:56, 20.80it/s]"
     ]
    },
    {
     "name": "stdout",
     "output_type": "stream",
     "text": [
      "Epoch[1/1] Loss: 13.907 12.717 0.005\n"
     ]
    },
    {
     "name": "stderr",
     "output_type": "stream",
     "text": [
      "  0%|          | 229003/245219048 [3:03:46<3323:11:22, 20.48it/s]"
     ]
    },
    {
     "name": "stdout",
     "output_type": "stream",
     "text": [
      "Epoch[1/1] Loss: 13.549 12.392 0.005\n"
     ]
    },
    {
     "name": "stderr",
     "output_type": "stream",
     "text": [
      "  0%|          | 230002/245219048 [3:04:35<3343:14:54, 20.36it/s]"
     ]
    },
    {
     "name": "stdout",
     "output_type": "stream",
     "text": [
      "Epoch[1/1] Loss: 14.418 13.254 0.005\n"
     ]
    },
    {
     "name": "stderr",
     "output_type": "stream",
     "text": [
      "  0%|          | 231004/245219048 [3:05:24<3384:06:09, 20.11it/s]"
     ]
    },
    {
     "name": "stdout",
     "output_type": "stream",
     "text": [
      "Epoch[1/1] Loss: 13.249 12.091 0.005\n"
     ]
    },
    {
     "name": "stderr",
     "output_type": "stream",
     "text": [
      "  0%|          | 232003/245219048 [3:06:13<3159:39:39, 21.54it/s]"
     ]
    },
    {
     "name": "stdout",
     "output_type": "stream",
     "text": [
      "Epoch[1/1] Loss: 13.902 12.751 0.005\n"
     ]
    },
    {
     "name": "stderr",
     "output_type": "stream",
     "text": [
      "  0%|          | 233004/245219048 [3:07:02<3391:31:02, 20.07it/s]"
     ]
    },
    {
     "name": "stdout",
     "output_type": "stream",
     "text": [
      "Epoch[1/1] Loss: 15.304 14.101 0.005\n"
     ]
    },
    {
     "name": "stderr",
     "output_type": "stream",
     "text": [
      "  0%|          | 234004/245219048 [3:07:51<3352:28:05, 20.30it/s]"
     ]
    },
    {
     "name": "stdout",
     "output_type": "stream",
     "text": [
      "Epoch[1/1] Loss: 15.131 13.938 0.005\n"
     ]
    },
    {
     "name": "stderr",
     "output_type": "stream",
     "text": [
      "  0%|          | 235002/245219048 [3:08:39<3326:32:45, 20.46it/s]"
     ]
    },
    {
     "name": "stdout",
     "output_type": "stream",
     "text": [
      "Epoch[1/1] Loss: 14.852 13.649 0.005\n"
     ]
    },
    {
     "name": "stderr",
     "output_type": "stream",
     "text": [
      "  0%|          | 236004/245219048 [3:09:28<3330:57:59, 20.43it/s]"
     ]
    },
    {
     "name": "stdout",
     "output_type": "stream",
     "text": [
      "Epoch[1/1] Loss: 13.771 12.595 0.005\n"
     ]
    },
    {
     "name": "stderr",
     "output_type": "stream",
     "text": [
      "  0%|          | 237003/245219048 [3:10:15<3293:40:57, 20.66it/s]"
     ]
    },
    {
     "name": "stdout",
     "output_type": "stream",
     "text": [
      "Epoch[1/1] Loss: 13.284 12.114 0.005\n"
     ]
    },
    {
     "name": "stderr",
     "output_type": "stream",
     "text": [
      "  0%|          | 238002/245219048 [3:11:03<3168:01:37, 21.48it/s]"
     ]
    },
    {
     "name": "stdout",
     "output_type": "stream",
     "text": [
      "Epoch[1/1] Loss: 13.412 12.244 0.005\n"
     ]
    },
    {
     "name": "stderr",
     "output_type": "stream",
     "text": [
      "  0%|          | 239004/245219048 [3:11:50<3211:17:44, 21.19it/s]"
     ]
    },
    {
     "name": "stdout",
     "output_type": "stream",
     "text": [
      "Epoch[1/1] Loss: 12.895 11.733 0.005\n"
     ]
    },
    {
     "name": "stderr",
     "output_type": "stream",
     "text": [
      "  0%|          | 239471/245219048 [3:12:12<3277:15:35, 20.76it/s]\n"
     ]
    }
   ],
   "source": [
    "for epoch in range(epochs):\n",
    "    # for idx, (images, _) in enumerate(dataloader):\n",
    "    # for idx, images in enumerate(features):\n",
    "    for idx, (images, move_label, result) in enumerate(tqdm(train_dataloader)):\n",
    "        # recon_images, mu, logvar = vae(images)\n",
    "        recon_images, mu, logvar = model(images)\n",
    "        # print(\"images\", images.shape)\n",
    "        # print(\"recon_imagets\", recon_images.shape)\n",
    "        loss, bce, kld = loss_fn(recon_images, images, mu, logvar)\n",
    "        optimizer.zero_grad()\n",
    "        loss.backward()\n",
    "        optimizer.step()\n",
    "\n",
    "        # print(loss.data.item())\n",
    "        # print(bce.data.item())\n",
    "        # print(kld.data.item())\n",
    "\n",
    "        # to_print = \"Epoch[{}/{}] Loss: {:.3f} {:.3f} {:.3f}\".format(epoch+1, \n",
    "        #                         # epochs, loss.data[0]/bs, bce.data[0]/bs, kld.data[0]/bs)\n",
    "        #                         epochs, loss.data.item()/bs, bce.data.item()/bs, kld.data.item()/bs)\n",
    "        # print(to_print)\n",
    "        if (idx + 1) % 1_000 == 0:\n",
    "            to_print = \"Epoch[{}/{}] Loss: {:.3f} {:.3f} {:.3f}\".format(epoch+1, \n",
    "                                  epochs, loss.data.item()/bs, bce.data.item()/bs, kld.data.item()/bs)\n",
    "            print(to_print)\n",
    "\n",
    "            if (idx + 1) % 300_000 == 0:\n",
    "                break\n",
    "\n",
    "# notify to android when finished training\n",
    "# notify(to_print, priority=1)\n",
    "\n",
    "torch.save(model.state_dict(), 'vae.torch')"
   ]
  },
  {
   "cell_type": "code",
   "execution_count": 21,
   "metadata": {},
   "outputs": [
    {
     "data": {
      "text/plain": [
       "torch.Size([1024, 104, 9, 9])"
      ]
     },
     "execution_count": 21,
     "metadata": {},
     "output_type": "execute_result"
    }
   ],
   "source": [
    "images.shape"
   ]
  },
  {
   "cell_type": "code",
   "execution_count": 22,
   "metadata": {},
   "outputs": [
    {
     "name": "stdout",
     "output_type": "stream",
     "text": [
      "l2g4l/1ks1S3r/1p2P1+Bpp/p1ppg1p2/5N1P1/P1PP2P2/1P2+ng2P/2K6/LNG1R3L b PPPNSSB 1\n"
     ]
    },
    {
     "data": {
      "image/svg+xml": [
       "<svg xmlns=\"http://www.w3.org/2000/svg\" version=\"1.1\" xmlns:xlink=\"http://www.w3.org/1999/xlink\" width=\"230.0\" height=\"192.0\" viewBox=\"0 0 230 192\"><defs><g id=\"black-pawn\"><text font-family=\"serif\" font-size=\"17\" text-anchor=\"middle\" x=\"10.5\" y=\"16.5\">&#27497;</text></g><g id=\"black-lance\"><text font-family=\"serif\" font-size=\"17\" text-anchor=\"middle\" x=\"10.5\" y=\"16.5\">&#39321;</text></g><g id=\"black-knight\"><text font-family=\"serif\" font-size=\"17\" text-anchor=\"middle\" x=\"10.5\" y=\"16.5\">&#26690;</text></g><g id=\"black-silver\"><text font-family=\"serif\" font-size=\"17\" text-anchor=\"middle\" x=\"10.5\" y=\"16.5\">&#37504;</text></g><g id=\"black-gold\"><text font-family=\"serif\" font-size=\"17\" text-anchor=\"middle\" x=\"10.5\" y=\"16.5\">&#37329;</text></g><g id=\"black-bishop\"><text font-family=\"serif\" font-size=\"17\" text-anchor=\"middle\" x=\"10.5\" y=\"16.5\">&#35282;</text></g><g id=\"black-rook\"><text font-family=\"serif\" font-size=\"17\" text-anchor=\"middle\" x=\"10.5\" y=\"16.5\">&#39131;</text></g><g id=\"black-king\"><text font-family=\"serif\" font-size=\"17\" text-anchor=\"middle\" x=\"10.5\" y=\"16.5\">&#29579;</text></g><g id=\"black-pro-pawn\"><text font-family=\"serif\" font-size=\"17\" text-anchor=\"middle\" x=\"10.5\" y=\"16.5\">&#12392;</text></g><g id=\"black-pro-lance\" transform=\"scale(1.0, 0.5)\"><text font-family=\"serif\" font-size=\"17\" text-anchor=\"middle\" x=\"10.5\" y=\"18\">&#25104;</text><text font-family=\"serif\" font-size=\"17\" text-anchor=\"middle\" x=\"10.5\" y=\"34\">&#39321;</text></g><g id=\"black-pro-knight\" transform=\"scale(1.0, 0.5)\"><text font-family=\"serif\" font-size=\"17\" text-anchor=\"middle\" x=\"10.5\" y=\"18\">&#25104;</text><text font-family=\"serif\" font-size=\"17\" text-anchor=\"middle\" x=\"10.5\" y=\"34\">&#26690;</text></g><g id=\"black-pro-silver\" transform=\"scale(1.0, 0.5)\"><text font-family=\"serif\" font-size=\"17\" text-anchor=\"middle\" x=\"10.5\" y=\"18\">&#25104;</text><text font-family=\"serif\" font-size=\"17\" text-anchor=\"middle\" x=\"10.5\" y=\"34\">&#37504;</text></g><g id=\"black-horse\"><text font-family=\"serif\" font-size=\"17\" text-anchor=\"middle\" x=\"10.5\" y=\"16.5\">&#39340;</text></g><g id=\"black-dragon\"><text font-family=\"serif\" font-size=\"17\" text-anchor=\"middle\" x=\"10.5\" y=\"16.5\">&#40845;</text></g><g id=\"white-pawn\" transform=\"rotate(180)\"><text font-family=\"serif\" font-size=\"17\" text-anchor=\"middle\" x=\"-10.5\" y=\"-3.5\">&#27497;</text></g><g id=\"white-lance\" transform=\"rotate(180)\"><text font-family=\"serif\" font-size=\"17\" text-anchor=\"middle\" x=\"-10.5\" y=\"-3.5\">&#39321;</text></g><g id=\"white-knight\" transform=\"rotate(180)\"><text font-family=\"serif\" font-size=\"17\" text-anchor=\"middle\" x=\"-10.5\" y=\"-3.5\">&#26690;</text></g><g id=\"white-silver\" transform=\"rotate(180)\"><text font-family=\"serif\" font-size=\"17\" text-anchor=\"middle\" x=\"-10.5\" y=\"-3.5\">&#37504;</text></g><g id=\"white-gold\" transform=\"rotate(180)\"><text font-family=\"serif\" font-size=\"17\" text-anchor=\"middle\" x=\"-10.5\" y=\"-3.5\">&#37329;</text></g><g id=\"white-bishop\" transform=\"rotate(180)\"><text font-family=\"serif\" font-size=\"17\" text-anchor=\"middle\" x=\"-10.5\" y=\"-3.5\">&#35282;</text></g><g id=\"white-rook\" transform=\"rotate(180)\"><text font-family=\"serif\" font-size=\"17\" text-anchor=\"middle\" x=\"-10.5\" y=\"-3.5\">&#39131;</text></g><g id=\"white-king\" transform=\"rotate(180)\"><text font-family=\"serif\" font-size=\"17\" text-anchor=\"middle\" x=\"-10.5\" y=\"-3.5\">&#29579;</text></g><g id=\"white-pro-pawn\" transform=\"rotate(180)\"><text font-family=\"serif\" font-size=\"17\" text-anchor=\"middle\" x=\"-10.5\" y=\"-3.5\">&#12392;</text></g><g id=\"white-pro-lance\" transform=\"scale(1.0, 0.5) rotate(180)\"><text font-family=\"serif\" font-size=\"17\" text-anchor=\"middle\" x=\"-10.5\" y=\"-22\">&#25104;</text><text font-family=\"serif\" font-size=\"17\" text-anchor=\"middle\" x=\"-10.5\" y=\"-6\">&#39321;</text></g><g id=\"white-pro-knight\" transform=\"scale(1.0, 0.5) rotate(180)\"><text font-family=\"serif\" font-size=\"17\" text-anchor=\"middle\" x=\"-10.5\" y=\"-22\">&#25104;</text><text font-family=\"serif\" font-size=\"17\" text-anchor=\"middle\" x=\"-10.5\" y=\"-6\">&#26690;</text></g><g id=\"white-pro-silver\" transform=\"scale(1.0, 0.5) rotate(180)\"><text font-family=\"serif\" font-size=\"17\" text-anchor=\"middle\" x=\"-10.5\" y=\"-22\">&#25104;</text><text font-family=\"serif\" font-size=\"17\" text-anchor=\"middle\" x=\"-10.5\" y=\"-6\">&#37504;</text></g><g id=\"white-horse\" transform=\"rotate(180)\"><text font-family=\"serif\" font-size=\"17\" text-anchor=\"middle\" x=\"-10.5\" y=\"-3.5\">&#39340;</text></g><g id=\"white-dragon\" transform=\"rotate(180)\"><text font-family=\"serif\" font-size=\"17\" text-anchor=\"middle\" x=\"-10.5\" y=\"-3.5\">&#40845;</text></g></defs><g stroke=\"black\"><rect x=\"20\" y=\"10\" width=\"181\" height=\"181\" fill=\"none\" stroke-width=\"1.5\" /><line x1=\"20.5\" y1=\"30.5\" x2=\"200.5\" y2=\"30.5\" stroke-width=\"1.0\" /><line x1=\"20.5\" y1=\"50.5\" x2=\"200.5\" y2=\"50.5\" stroke-width=\"1.0\" /><line x1=\"20.5\" y1=\"70.5\" x2=\"200.5\" y2=\"70.5\" stroke-width=\"1.0\" /><line x1=\"20.5\" y1=\"90.5\" x2=\"200.5\" y2=\"90.5\" stroke-width=\"1.0\" /><line x1=\"20.5\" y1=\"110.5\" x2=\"200.5\" y2=\"110.5\" stroke-width=\"1.0\" /><line x1=\"20.5\" y1=\"130.5\" x2=\"200.5\" y2=\"130.5\" stroke-width=\"1.0\" /><line x1=\"20.5\" y1=\"150.5\" x2=\"200.5\" y2=\"150.5\" stroke-width=\"1.0\" /><line x1=\"20.5\" y1=\"170.5\" x2=\"200.5\" y2=\"170.5\" stroke-width=\"1.0\" /><line x1=\"40.5\" y1=\"10.5\" x2=\"40.5\" y2=\"190.5\" stroke-width=\"1.0\" /><line x1=\"60.5\" y1=\"10.5\" x2=\"60.5\" y2=\"190.5\" stroke-width=\"1.0\" /><line x1=\"80.5\" y1=\"10.5\" x2=\"80.5\" y2=\"190.5\" stroke-width=\"1.0\" /><line x1=\"100.5\" y1=\"10.5\" x2=\"100.5\" y2=\"190.5\" stroke-width=\"1.0\" /><line x1=\"120.5\" y1=\"10.5\" x2=\"120.5\" y2=\"190.5\" stroke-width=\"1.0\" /><line x1=\"140.5\" y1=\"10.5\" x2=\"140.5\" y2=\"190.5\" stroke-width=\"1.0\" /><line x1=\"160.5\" y1=\"10.5\" x2=\"160.5\" y2=\"190.5\" stroke-width=\"1.0\" /><line x1=\"180.5\" y1=\"10.5\" x2=\"180.5\" y2=\"190.5\" stroke-width=\"1.0\" /></g><g><text font-family=\"serif\" text-anchor=\"middle\" font-size=\"9\" x=\"30.5\" y=\"8\">9</text><text font-family=\"serif\" text-anchor=\"middle\" font-size=\"9\" x=\"50.5\" y=\"8\">8</text><text font-family=\"serif\" text-anchor=\"middle\" font-size=\"9\" x=\"70.5\" y=\"8\">7</text><text font-family=\"serif\" text-anchor=\"middle\" font-size=\"9\" x=\"90.5\" y=\"8\">6</text><text font-family=\"serif\" text-anchor=\"middle\" font-size=\"9\" x=\"110.5\" y=\"8\">5</text><text font-family=\"serif\" text-anchor=\"middle\" font-size=\"9\" x=\"130.5\" y=\"8\">4</text><text font-family=\"serif\" text-anchor=\"middle\" font-size=\"9\" x=\"150.5\" y=\"8\">3</text><text font-family=\"serif\" text-anchor=\"middle\" font-size=\"9\" x=\"170.5\" y=\"8\">2</text><text font-family=\"serif\" text-anchor=\"middle\" font-size=\"9\" x=\"190.5\" y=\"8\">1</text><text font-family=\"serif\" font-size=\"9\" x=\"203.5\" y=\"23\">&#19968;</text><text font-family=\"serif\" font-size=\"9\" x=\"203.5\" y=\"43\">&#20108;</text><text font-family=\"serif\" font-size=\"9\" x=\"203.5\" y=\"63\">&#19977;</text><text font-family=\"serif\" font-size=\"9\" x=\"203.5\" y=\"83\">&#22235;</text><text font-family=\"serif\" font-size=\"9\" x=\"203.5\" y=\"103\">&#20116;</text><text font-family=\"serif\" font-size=\"9\" x=\"203.5\" y=\"123\">&#20845;</text><text font-family=\"serif\" font-size=\"9\" x=\"203.5\" y=\"143\">&#19971;</text><text font-family=\"serif\" font-size=\"9\" x=\"203.5\" y=\"163\">&#20843;</text><text font-family=\"serif\" font-size=\"9\" x=\"203.5\" y=\"183\">&#20061;</text></g><use xlink:href=\"#white-lance\" x=\"180.5\" y=\"10.5\" /><use xlink:href=\"#white-rook\" x=\"180.5\" y=\"30.5\" /><use xlink:href=\"#white-pawn\" x=\"180.5\" y=\"50.5\" /><use xlink:href=\"#black-pawn\" x=\"180.5\" y=\"130.5\" /><use xlink:href=\"#black-lance\" x=\"180.5\" y=\"170.5\" /><use xlink:href=\"#white-pawn\" x=\"160.5\" y=\"50.5\" /><use xlink:href=\"#black-pawn\" x=\"160.5\" y=\"90.5\" /><use xlink:href=\"#black-horse\" x=\"140.5\" y=\"50.5\" /><use xlink:href=\"#white-pawn\" x=\"140.5\" y=\"70.5\" /><use xlink:href=\"#black-pawn\" x=\"140.5\" y=\"110.5\" /><use xlink:href=\"#black-knight\" x=\"120.5\" y=\"90.5\" /><use xlink:href=\"#white-gold\" x=\"120.5\" y=\"130.5\" /><use xlink:href=\"#black-silver\" x=\"100.5\" y=\"30.5\" /><use xlink:href=\"#black-pawn\" x=\"100.5\" y=\"50.5\" /><use xlink:href=\"#white-gold\" x=\"100.5\" y=\"70.5\" /><use xlink:href=\"#white-pro-knight\" x=\"100.5\" y=\"130.5\" /><use xlink:href=\"#black-rook\" x=\"100.5\" y=\"170.5\" /><use xlink:href=\"#white-gold\" x=\"80.5\" y=\"10.5\" /><use xlink:href=\"#white-pawn\" x=\"80.5\" y=\"70.5\" /><use xlink:href=\"#black-pawn\" x=\"80.5\" y=\"110.5\" /><use xlink:href=\"#white-silver\" x=\"60.5\" y=\"30.5\" /><use xlink:href=\"#white-pawn\" x=\"60.5\" y=\"70.5\" /><use xlink:href=\"#black-pawn\" x=\"60.5\" y=\"110.5\" /><use xlink:href=\"#black-king\" x=\"60.5\" y=\"150.5\" /><use xlink:href=\"#black-gold\" x=\"60.5\" y=\"170.5\" /><use xlink:href=\"#white-king\" x=\"40.5\" y=\"30.5\" /><use xlink:href=\"#white-pawn\" x=\"40.5\" y=\"50.5\" /><use xlink:href=\"#black-pawn\" x=\"40.5\" y=\"130.5\" /><use xlink:href=\"#black-knight\" x=\"40.5\" y=\"170.5\" /><use xlink:href=\"#white-lance\" x=\"20.5\" y=\"10.5\" /><use xlink:href=\"#white-pawn\" x=\"20.5\" y=\"70.5\" /><use xlink:href=\"#black-pawn\" x=\"20.5\" y=\"110.5\" /><use xlink:href=\"#black-lance\" x=\"20.5\" y=\"170.5\" /><text font-family=\"serif\" font-size=\"14\" x=\"214\" y=\"190\">&#27497;</text><text font-family=\"serif\" font-size=\"14\" x=\"214\" y=\"176\">&#26690;</text><text font-family=\"serif\" font-size=\"14\" x=\"214\" y=\"162\">&#37504;</text><text font-family=\"serif\" font-size=\"14\" x=\"214\" y=\"148\">&#35282;</text><text font-family=\"serif\" font-size=\"14\" x=\"214\" y=\"120\">&#25163;</text><text font-family=\"serif\" font-size=\"14\" x=\"214\" y=\"106\">&#20808;</text><text font-family=\"serif\" font-size=\"14\" x=\"214\" y=\"92\">&#9751;</text><text font-family=\"serif\" font-size=\"14\" x=\"-16\" y=\"-24\" transform=\"rotate(180)\">&#25163;</text><text font-family=\"serif\" font-size=\"14\" x=\"-16\" y=\"-38\" transform=\"rotate(180)\">&#24460;</text><text font-family=\"serif\" font-size=\"14\" x=\"-16\" y=\"-52\" transform=\"rotate(180)\">&#9750;</text></svg>"
      ],
      "text/plain": [
       "'  9  8  7  6  5  4  3  2  1\n",
       "P1-KY *  * -KI *  *  *  * -KY\n",
       "P2 * -OU-GI * +GI *  *  * -HI\n",
       "P3 * -FU *  * +FU * +UM-FU-FU\n",
       "P4-FU * -FU-FU-KI * -FU *  * \n",
       "P5 *  *  *  *  * +KE * +FU * \n",
       "P6+FU * +FU+FU *  * +FU *  * \n",
       "P7 * +FU *  * -NK-KI *  * +FU\n",
       "P8 *  * +OU *  *  *  *  *  * \n",
       "P9+KY+KE+KI * +HI *  *  * +KY\n",
       "P+00FU\n",
       "P+00KE\n",
       "P+00GI\n",
       "P+00KA\n",
       "+"
      ]
     },
     "execution_count": 22,
     "metadata": {},
     "output_type": "execute_result"
    }
   ],
   "source": [
    "cshogi.Board(feature_to_sfen(images[0]))"
   ]
  },
  {
   "cell_type": "code",
   "execution_count": 25,
   "metadata": {},
   "outputs": [
    {
     "name": "stdout",
     "output_type": "stream",
     "text": [
      "l2gr3l/1ks5r/1p3+P+Bpp/p1pp2p2/7P1/P1PP2P2/1P2gg2P/2KS5/LNG5L b PPPNSSB 1\n"
     ]
    },
    {
     "data": {
      "image/svg+xml": [
       "<svg xmlns=\"http://www.w3.org/2000/svg\" version=\"1.1\" xmlns:xlink=\"http://www.w3.org/1999/xlink\" width=\"230.0\" height=\"192.0\" viewBox=\"0 0 230 192\"><defs><g id=\"black-pawn\"><text font-family=\"serif\" font-size=\"17\" text-anchor=\"middle\" x=\"10.5\" y=\"16.5\">&#27497;</text></g><g id=\"black-lance\"><text font-family=\"serif\" font-size=\"17\" text-anchor=\"middle\" x=\"10.5\" y=\"16.5\">&#39321;</text></g><g id=\"black-knight\"><text font-family=\"serif\" font-size=\"17\" text-anchor=\"middle\" x=\"10.5\" y=\"16.5\">&#26690;</text></g><g id=\"black-silver\"><text font-family=\"serif\" font-size=\"17\" text-anchor=\"middle\" x=\"10.5\" y=\"16.5\">&#37504;</text></g><g id=\"black-gold\"><text font-family=\"serif\" font-size=\"17\" text-anchor=\"middle\" x=\"10.5\" y=\"16.5\">&#37329;</text></g><g id=\"black-bishop\"><text font-family=\"serif\" font-size=\"17\" text-anchor=\"middle\" x=\"10.5\" y=\"16.5\">&#35282;</text></g><g id=\"black-rook\"><text font-family=\"serif\" font-size=\"17\" text-anchor=\"middle\" x=\"10.5\" y=\"16.5\">&#39131;</text></g><g id=\"black-king\"><text font-family=\"serif\" font-size=\"17\" text-anchor=\"middle\" x=\"10.5\" y=\"16.5\">&#29579;</text></g><g id=\"black-pro-pawn\"><text font-family=\"serif\" font-size=\"17\" text-anchor=\"middle\" x=\"10.5\" y=\"16.5\">&#12392;</text></g><g id=\"black-pro-lance\" transform=\"scale(1.0, 0.5)\"><text font-family=\"serif\" font-size=\"17\" text-anchor=\"middle\" x=\"10.5\" y=\"18\">&#25104;</text><text font-family=\"serif\" font-size=\"17\" text-anchor=\"middle\" x=\"10.5\" y=\"34\">&#39321;</text></g><g id=\"black-pro-knight\" transform=\"scale(1.0, 0.5)\"><text font-family=\"serif\" font-size=\"17\" text-anchor=\"middle\" x=\"10.5\" y=\"18\">&#25104;</text><text font-family=\"serif\" font-size=\"17\" text-anchor=\"middle\" x=\"10.5\" y=\"34\">&#26690;</text></g><g id=\"black-pro-silver\" transform=\"scale(1.0, 0.5)\"><text font-family=\"serif\" font-size=\"17\" text-anchor=\"middle\" x=\"10.5\" y=\"18\">&#25104;</text><text font-family=\"serif\" font-size=\"17\" text-anchor=\"middle\" x=\"10.5\" y=\"34\">&#37504;</text></g><g id=\"black-horse\"><text font-family=\"serif\" font-size=\"17\" text-anchor=\"middle\" x=\"10.5\" y=\"16.5\">&#39340;</text></g><g id=\"black-dragon\"><text font-family=\"serif\" font-size=\"17\" text-anchor=\"middle\" x=\"10.5\" y=\"16.5\">&#40845;</text></g><g id=\"white-pawn\" transform=\"rotate(180)\"><text font-family=\"serif\" font-size=\"17\" text-anchor=\"middle\" x=\"-10.5\" y=\"-3.5\">&#27497;</text></g><g id=\"white-lance\" transform=\"rotate(180)\"><text font-family=\"serif\" font-size=\"17\" text-anchor=\"middle\" x=\"-10.5\" y=\"-3.5\">&#39321;</text></g><g id=\"white-knight\" transform=\"rotate(180)\"><text font-family=\"serif\" font-size=\"17\" text-anchor=\"middle\" x=\"-10.5\" y=\"-3.5\">&#26690;</text></g><g id=\"white-silver\" transform=\"rotate(180)\"><text font-family=\"serif\" font-size=\"17\" text-anchor=\"middle\" x=\"-10.5\" y=\"-3.5\">&#37504;</text></g><g id=\"white-gold\" transform=\"rotate(180)\"><text font-family=\"serif\" font-size=\"17\" text-anchor=\"middle\" x=\"-10.5\" y=\"-3.5\">&#37329;</text></g><g id=\"white-bishop\" transform=\"rotate(180)\"><text font-family=\"serif\" font-size=\"17\" text-anchor=\"middle\" x=\"-10.5\" y=\"-3.5\">&#35282;</text></g><g id=\"white-rook\" transform=\"rotate(180)\"><text font-family=\"serif\" font-size=\"17\" text-anchor=\"middle\" x=\"-10.5\" y=\"-3.5\">&#39131;</text></g><g id=\"white-king\" transform=\"rotate(180)\"><text font-family=\"serif\" font-size=\"17\" text-anchor=\"middle\" x=\"-10.5\" y=\"-3.5\">&#29579;</text></g><g id=\"white-pro-pawn\" transform=\"rotate(180)\"><text font-family=\"serif\" font-size=\"17\" text-anchor=\"middle\" x=\"-10.5\" y=\"-3.5\">&#12392;</text></g><g id=\"white-pro-lance\" transform=\"scale(1.0, 0.5) rotate(180)\"><text font-family=\"serif\" font-size=\"17\" text-anchor=\"middle\" x=\"-10.5\" y=\"-22\">&#25104;</text><text font-family=\"serif\" font-size=\"17\" text-anchor=\"middle\" x=\"-10.5\" y=\"-6\">&#39321;</text></g><g id=\"white-pro-knight\" transform=\"scale(1.0, 0.5) rotate(180)\"><text font-family=\"serif\" font-size=\"17\" text-anchor=\"middle\" x=\"-10.5\" y=\"-22\">&#25104;</text><text font-family=\"serif\" font-size=\"17\" text-anchor=\"middle\" x=\"-10.5\" y=\"-6\">&#26690;</text></g><g id=\"white-pro-silver\" transform=\"scale(1.0, 0.5) rotate(180)\"><text font-family=\"serif\" font-size=\"17\" text-anchor=\"middle\" x=\"-10.5\" y=\"-22\">&#25104;</text><text font-family=\"serif\" font-size=\"17\" text-anchor=\"middle\" x=\"-10.5\" y=\"-6\">&#37504;</text></g><g id=\"white-horse\" transform=\"rotate(180)\"><text font-family=\"serif\" font-size=\"17\" text-anchor=\"middle\" x=\"-10.5\" y=\"-3.5\">&#39340;</text></g><g id=\"white-dragon\" transform=\"rotate(180)\"><text font-family=\"serif\" font-size=\"17\" text-anchor=\"middle\" x=\"-10.5\" y=\"-3.5\">&#40845;</text></g></defs><g stroke=\"black\"><rect x=\"20\" y=\"10\" width=\"181\" height=\"181\" fill=\"none\" stroke-width=\"1.5\" /><line x1=\"20.5\" y1=\"30.5\" x2=\"200.5\" y2=\"30.5\" stroke-width=\"1.0\" /><line x1=\"20.5\" y1=\"50.5\" x2=\"200.5\" y2=\"50.5\" stroke-width=\"1.0\" /><line x1=\"20.5\" y1=\"70.5\" x2=\"200.5\" y2=\"70.5\" stroke-width=\"1.0\" /><line x1=\"20.5\" y1=\"90.5\" x2=\"200.5\" y2=\"90.5\" stroke-width=\"1.0\" /><line x1=\"20.5\" y1=\"110.5\" x2=\"200.5\" y2=\"110.5\" stroke-width=\"1.0\" /><line x1=\"20.5\" y1=\"130.5\" x2=\"200.5\" y2=\"130.5\" stroke-width=\"1.0\" /><line x1=\"20.5\" y1=\"150.5\" x2=\"200.5\" y2=\"150.5\" stroke-width=\"1.0\" /><line x1=\"20.5\" y1=\"170.5\" x2=\"200.5\" y2=\"170.5\" stroke-width=\"1.0\" /><line x1=\"40.5\" y1=\"10.5\" x2=\"40.5\" y2=\"190.5\" stroke-width=\"1.0\" /><line x1=\"60.5\" y1=\"10.5\" x2=\"60.5\" y2=\"190.5\" stroke-width=\"1.0\" /><line x1=\"80.5\" y1=\"10.5\" x2=\"80.5\" y2=\"190.5\" stroke-width=\"1.0\" /><line x1=\"100.5\" y1=\"10.5\" x2=\"100.5\" y2=\"190.5\" stroke-width=\"1.0\" /><line x1=\"120.5\" y1=\"10.5\" x2=\"120.5\" y2=\"190.5\" stroke-width=\"1.0\" /><line x1=\"140.5\" y1=\"10.5\" x2=\"140.5\" y2=\"190.5\" stroke-width=\"1.0\" /><line x1=\"160.5\" y1=\"10.5\" x2=\"160.5\" y2=\"190.5\" stroke-width=\"1.0\" /><line x1=\"180.5\" y1=\"10.5\" x2=\"180.5\" y2=\"190.5\" stroke-width=\"1.0\" /></g><g><text font-family=\"serif\" text-anchor=\"middle\" font-size=\"9\" x=\"30.5\" y=\"8\">9</text><text font-family=\"serif\" text-anchor=\"middle\" font-size=\"9\" x=\"50.5\" y=\"8\">8</text><text font-family=\"serif\" text-anchor=\"middle\" font-size=\"9\" x=\"70.5\" y=\"8\">7</text><text font-family=\"serif\" text-anchor=\"middle\" font-size=\"9\" x=\"90.5\" y=\"8\">6</text><text font-family=\"serif\" text-anchor=\"middle\" font-size=\"9\" x=\"110.5\" y=\"8\">5</text><text font-family=\"serif\" text-anchor=\"middle\" font-size=\"9\" x=\"130.5\" y=\"8\">4</text><text font-family=\"serif\" text-anchor=\"middle\" font-size=\"9\" x=\"150.5\" y=\"8\">3</text><text font-family=\"serif\" text-anchor=\"middle\" font-size=\"9\" x=\"170.5\" y=\"8\">2</text><text font-family=\"serif\" text-anchor=\"middle\" font-size=\"9\" x=\"190.5\" y=\"8\">1</text><text font-family=\"serif\" font-size=\"9\" x=\"203.5\" y=\"23\">&#19968;</text><text font-family=\"serif\" font-size=\"9\" x=\"203.5\" y=\"43\">&#20108;</text><text font-family=\"serif\" font-size=\"9\" x=\"203.5\" y=\"63\">&#19977;</text><text font-family=\"serif\" font-size=\"9\" x=\"203.5\" y=\"83\">&#22235;</text><text font-family=\"serif\" font-size=\"9\" x=\"203.5\" y=\"103\">&#20116;</text><text font-family=\"serif\" font-size=\"9\" x=\"203.5\" y=\"123\">&#20845;</text><text font-family=\"serif\" font-size=\"9\" x=\"203.5\" y=\"143\">&#19971;</text><text font-family=\"serif\" font-size=\"9\" x=\"203.5\" y=\"163\">&#20843;</text><text font-family=\"serif\" font-size=\"9\" x=\"203.5\" y=\"183\">&#20061;</text></g><use xlink:href=\"#white-lance\" x=\"180.5\" y=\"10.5\" /><use xlink:href=\"#white-rook\" x=\"180.5\" y=\"30.5\" /><use xlink:href=\"#white-pawn\" x=\"180.5\" y=\"50.5\" /><use xlink:href=\"#black-pawn\" x=\"180.5\" y=\"130.5\" /><use xlink:href=\"#black-lance\" x=\"180.5\" y=\"170.5\" /><use xlink:href=\"#white-pawn\" x=\"160.5\" y=\"50.5\" /><use xlink:href=\"#black-pawn\" x=\"160.5\" y=\"90.5\" /><use xlink:href=\"#black-horse\" x=\"140.5\" y=\"50.5\" /><use xlink:href=\"#white-pawn\" x=\"140.5\" y=\"70.5\" /><use xlink:href=\"#black-pawn\" x=\"140.5\" y=\"110.5\" /><use xlink:href=\"#black-pro-pawn\" x=\"120.5\" y=\"50.5\" /><use xlink:href=\"#white-gold\" x=\"120.5\" y=\"130.5\" /><use xlink:href=\"#white-rook\" x=\"100.5\" y=\"10.5\" /><use xlink:href=\"#white-gold\" x=\"100.5\" y=\"130.5\" /><use xlink:href=\"#white-gold\" x=\"80.5\" y=\"10.5\" /><use xlink:href=\"#white-pawn\" x=\"80.5\" y=\"70.5\" /><use xlink:href=\"#black-pawn\" x=\"80.5\" y=\"110.5\" /><use xlink:href=\"#black-silver\" x=\"80.5\" y=\"150.5\" /><use xlink:href=\"#white-silver\" x=\"60.5\" y=\"30.5\" /><use xlink:href=\"#white-pawn\" x=\"60.5\" y=\"70.5\" /><use xlink:href=\"#black-pawn\" x=\"60.5\" y=\"110.5\" /><use xlink:href=\"#black-king\" x=\"60.5\" y=\"150.5\" /><use xlink:href=\"#black-gold\" x=\"60.5\" y=\"170.5\" /><use xlink:href=\"#white-king\" x=\"40.5\" y=\"30.5\" /><use xlink:href=\"#white-pawn\" x=\"40.5\" y=\"50.5\" /><use xlink:href=\"#black-pawn\" x=\"40.5\" y=\"130.5\" /><use xlink:href=\"#black-knight\" x=\"40.5\" y=\"170.5\" /><use xlink:href=\"#white-lance\" x=\"20.5\" y=\"10.5\" /><use xlink:href=\"#white-pawn\" x=\"20.5\" y=\"70.5\" /><use xlink:href=\"#black-pawn\" x=\"20.5\" y=\"110.5\" /><use xlink:href=\"#black-lance\" x=\"20.5\" y=\"170.5\" /><text font-family=\"serif\" font-size=\"14\" x=\"214\" y=\"190\">&#27497;</text><text font-family=\"serif\" font-size=\"14\" x=\"214\" y=\"176\">&#26690;</text><text font-family=\"serif\" font-size=\"14\" x=\"214\" y=\"162\">&#37504;</text><text font-family=\"serif\" font-size=\"14\" x=\"214\" y=\"148\">&#35282;</text><text font-family=\"serif\" font-size=\"14\" x=\"214\" y=\"120\">&#25163;</text><text font-family=\"serif\" font-size=\"14\" x=\"214\" y=\"106\">&#20808;</text><text font-family=\"serif\" font-size=\"14\" x=\"214\" y=\"92\">&#9751;</text><text font-family=\"serif\" font-size=\"14\" x=\"-16\" y=\"-24\" transform=\"rotate(180)\">&#25163;</text><text font-family=\"serif\" font-size=\"14\" x=\"-16\" y=\"-38\" transform=\"rotate(180)\">&#24460;</text><text font-family=\"serif\" font-size=\"14\" x=\"-16\" y=\"-52\" transform=\"rotate(180)\">&#9750;</text></svg>"
      ],
      "text/plain": [
       "'  9  8  7  6  5  4  3  2  1\n",
       "P1-KY *  * -KI-HI *  *  * -KY\n",
       "P2 * -OU-GI *  *  *  *  * -HI\n",
       "P3 * -FU *  *  * +TO+UM-FU-FU\n",
       "P4-FU * -FU-FU *  * -FU *  * \n",
       "P5 *  *  *  *  *  *  * +FU * \n",
       "P6+FU * +FU+FU *  * +FU *  * \n",
       "P7 * +FU *  * -KI-KI *  * +FU\n",
       "P8 *  * +OU+GI *  *  *  *  * \n",
       "P9+KY+KE+KI *  *  *  *  * +KY\n",
       "P+00FU\n",
       "P+00KE\n",
       "P+00GI\n",
       "P+00KA\n",
       "+"
      ]
     },
     "execution_count": 25,
     "metadata": {},
     "output_type": "execute_result"
    }
   ],
   "source": [
    "cshogi.Board(feature_to_sfen(recon_images[0] >= 0.2))"
   ]
  },
  {
   "cell_type": "code",
   "execution_count": 34,
   "metadata": {},
   "outputs": [
    {
     "name": "stdout",
     "output_type": "stream",
     "text": [
      "lns2g1nl/7s1/1kg1pp3/p5spP/2P1P3p/3p5/1PSP+rP3/2G1RRG2/L3RK1NL b PPSBpp 1\n"
     ]
    },
    {
     "data": {
      "image/svg+xml": [
       "<svg xmlns=\"http://www.w3.org/2000/svg\" version=\"1.1\" xmlns:xlink=\"http://www.w3.org/1999/xlink\" width=\"230.0\" height=\"192.0\" viewBox=\"0 0 230 192\"><defs><g id=\"black-pawn\"><text font-family=\"serif\" font-size=\"17\" text-anchor=\"middle\" x=\"10.5\" y=\"16.5\">&#27497;</text></g><g id=\"black-lance\"><text font-family=\"serif\" font-size=\"17\" text-anchor=\"middle\" x=\"10.5\" y=\"16.5\">&#39321;</text></g><g id=\"black-knight\"><text font-family=\"serif\" font-size=\"17\" text-anchor=\"middle\" x=\"10.5\" y=\"16.5\">&#26690;</text></g><g id=\"black-silver\"><text font-family=\"serif\" font-size=\"17\" text-anchor=\"middle\" x=\"10.5\" y=\"16.5\">&#37504;</text></g><g id=\"black-gold\"><text font-family=\"serif\" font-size=\"17\" text-anchor=\"middle\" x=\"10.5\" y=\"16.5\">&#37329;</text></g><g id=\"black-bishop\"><text font-family=\"serif\" font-size=\"17\" text-anchor=\"middle\" x=\"10.5\" y=\"16.5\">&#35282;</text></g><g id=\"black-rook\"><text font-family=\"serif\" font-size=\"17\" text-anchor=\"middle\" x=\"10.5\" y=\"16.5\">&#39131;</text></g><g id=\"black-king\"><text font-family=\"serif\" font-size=\"17\" text-anchor=\"middle\" x=\"10.5\" y=\"16.5\">&#29579;</text></g><g id=\"black-pro-pawn\"><text font-family=\"serif\" font-size=\"17\" text-anchor=\"middle\" x=\"10.5\" y=\"16.5\">&#12392;</text></g><g id=\"black-pro-lance\" transform=\"scale(1.0, 0.5)\"><text font-family=\"serif\" font-size=\"17\" text-anchor=\"middle\" x=\"10.5\" y=\"18\">&#25104;</text><text font-family=\"serif\" font-size=\"17\" text-anchor=\"middle\" x=\"10.5\" y=\"34\">&#39321;</text></g><g id=\"black-pro-knight\" transform=\"scale(1.0, 0.5)\"><text font-family=\"serif\" font-size=\"17\" text-anchor=\"middle\" x=\"10.5\" y=\"18\">&#25104;</text><text font-family=\"serif\" font-size=\"17\" text-anchor=\"middle\" x=\"10.5\" y=\"34\">&#26690;</text></g><g id=\"black-pro-silver\" transform=\"scale(1.0, 0.5)\"><text font-family=\"serif\" font-size=\"17\" text-anchor=\"middle\" x=\"10.5\" y=\"18\">&#25104;</text><text font-family=\"serif\" font-size=\"17\" text-anchor=\"middle\" x=\"10.5\" y=\"34\">&#37504;</text></g><g id=\"black-horse\"><text font-family=\"serif\" font-size=\"17\" text-anchor=\"middle\" x=\"10.5\" y=\"16.5\">&#39340;</text></g><g id=\"black-dragon\"><text font-family=\"serif\" font-size=\"17\" text-anchor=\"middle\" x=\"10.5\" y=\"16.5\">&#40845;</text></g><g id=\"white-pawn\" transform=\"rotate(180)\"><text font-family=\"serif\" font-size=\"17\" text-anchor=\"middle\" x=\"-10.5\" y=\"-3.5\">&#27497;</text></g><g id=\"white-lance\" transform=\"rotate(180)\"><text font-family=\"serif\" font-size=\"17\" text-anchor=\"middle\" x=\"-10.5\" y=\"-3.5\">&#39321;</text></g><g id=\"white-knight\" transform=\"rotate(180)\"><text font-family=\"serif\" font-size=\"17\" text-anchor=\"middle\" x=\"-10.5\" y=\"-3.5\">&#26690;</text></g><g id=\"white-silver\" transform=\"rotate(180)\"><text font-family=\"serif\" font-size=\"17\" text-anchor=\"middle\" x=\"-10.5\" y=\"-3.5\">&#37504;</text></g><g id=\"white-gold\" transform=\"rotate(180)\"><text font-family=\"serif\" font-size=\"17\" text-anchor=\"middle\" x=\"-10.5\" y=\"-3.5\">&#37329;</text></g><g id=\"white-bishop\" transform=\"rotate(180)\"><text font-family=\"serif\" font-size=\"17\" text-anchor=\"middle\" x=\"-10.5\" y=\"-3.5\">&#35282;</text></g><g id=\"white-rook\" transform=\"rotate(180)\"><text font-family=\"serif\" font-size=\"17\" text-anchor=\"middle\" x=\"-10.5\" y=\"-3.5\">&#39131;</text></g><g id=\"white-king\" transform=\"rotate(180)\"><text font-family=\"serif\" font-size=\"17\" text-anchor=\"middle\" x=\"-10.5\" y=\"-3.5\">&#29579;</text></g><g id=\"white-pro-pawn\" transform=\"rotate(180)\"><text font-family=\"serif\" font-size=\"17\" text-anchor=\"middle\" x=\"-10.5\" y=\"-3.5\">&#12392;</text></g><g id=\"white-pro-lance\" transform=\"scale(1.0, 0.5) rotate(180)\"><text font-family=\"serif\" font-size=\"17\" text-anchor=\"middle\" x=\"-10.5\" y=\"-22\">&#25104;</text><text font-family=\"serif\" font-size=\"17\" text-anchor=\"middle\" x=\"-10.5\" y=\"-6\">&#39321;</text></g><g id=\"white-pro-knight\" transform=\"scale(1.0, 0.5) rotate(180)\"><text font-family=\"serif\" font-size=\"17\" text-anchor=\"middle\" x=\"-10.5\" y=\"-22\">&#25104;</text><text font-family=\"serif\" font-size=\"17\" text-anchor=\"middle\" x=\"-10.5\" y=\"-6\">&#26690;</text></g><g id=\"white-pro-silver\" transform=\"scale(1.0, 0.5) rotate(180)\"><text font-family=\"serif\" font-size=\"17\" text-anchor=\"middle\" x=\"-10.5\" y=\"-22\">&#25104;</text><text font-family=\"serif\" font-size=\"17\" text-anchor=\"middle\" x=\"-10.5\" y=\"-6\">&#37504;</text></g><g id=\"white-horse\" transform=\"rotate(180)\"><text font-family=\"serif\" font-size=\"17\" text-anchor=\"middle\" x=\"-10.5\" y=\"-3.5\">&#39340;</text></g><g id=\"white-dragon\" transform=\"rotate(180)\"><text font-family=\"serif\" font-size=\"17\" text-anchor=\"middle\" x=\"-10.5\" y=\"-3.5\">&#40845;</text></g></defs><g stroke=\"black\"><rect x=\"20\" y=\"10\" width=\"181\" height=\"181\" fill=\"none\" stroke-width=\"1.5\" /><line x1=\"20.5\" y1=\"30.5\" x2=\"200.5\" y2=\"30.5\" stroke-width=\"1.0\" /><line x1=\"20.5\" y1=\"50.5\" x2=\"200.5\" y2=\"50.5\" stroke-width=\"1.0\" /><line x1=\"20.5\" y1=\"70.5\" x2=\"200.5\" y2=\"70.5\" stroke-width=\"1.0\" /><line x1=\"20.5\" y1=\"90.5\" x2=\"200.5\" y2=\"90.5\" stroke-width=\"1.0\" /><line x1=\"20.5\" y1=\"110.5\" x2=\"200.5\" y2=\"110.5\" stroke-width=\"1.0\" /><line x1=\"20.5\" y1=\"130.5\" x2=\"200.5\" y2=\"130.5\" stroke-width=\"1.0\" /><line x1=\"20.5\" y1=\"150.5\" x2=\"200.5\" y2=\"150.5\" stroke-width=\"1.0\" /><line x1=\"20.5\" y1=\"170.5\" x2=\"200.5\" y2=\"170.5\" stroke-width=\"1.0\" /><line x1=\"40.5\" y1=\"10.5\" x2=\"40.5\" y2=\"190.5\" stroke-width=\"1.0\" /><line x1=\"60.5\" y1=\"10.5\" x2=\"60.5\" y2=\"190.5\" stroke-width=\"1.0\" /><line x1=\"80.5\" y1=\"10.5\" x2=\"80.5\" y2=\"190.5\" stroke-width=\"1.0\" /><line x1=\"100.5\" y1=\"10.5\" x2=\"100.5\" y2=\"190.5\" stroke-width=\"1.0\" /><line x1=\"120.5\" y1=\"10.5\" x2=\"120.5\" y2=\"190.5\" stroke-width=\"1.0\" /><line x1=\"140.5\" y1=\"10.5\" x2=\"140.5\" y2=\"190.5\" stroke-width=\"1.0\" /><line x1=\"160.5\" y1=\"10.5\" x2=\"160.5\" y2=\"190.5\" stroke-width=\"1.0\" /><line x1=\"180.5\" y1=\"10.5\" x2=\"180.5\" y2=\"190.5\" stroke-width=\"1.0\" /></g><g><text font-family=\"serif\" text-anchor=\"middle\" font-size=\"9\" x=\"30.5\" y=\"8\">9</text><text font-family=\"serif\" text-anchor=\"middle\" font-size=\"9\" x=\"50.5\" y=\"8\">8</text><text font-family=\"serif\" text-anchor=\"middle\" font-size=\"9\" x=\"70.5\" y=\"8\">7</text><text font-family=\"serif\" text-anchor=\"middle\" font-size=\"9\" x=\"90.5\" y=\"8\">6</text><text font-family=\"serif\" text-anchor=\"middle\" font-size=\"9\" x=\"110.5\" y=\"8\">5</text><text font-family=\"serif\" text-anchor=\"middle\" font-size=\"9\" x=\"130.5\" y=\"8\">4</text><text font-family=\"serif\" text-anchor=\"middle\" font-size=\"9\" x=\"150.5\" y=\"8\">3</text><text font-family=\"serif\" text-anchor=\"middle\" font-size=\"9\" x=\"170.5\" y=\"8\">2</text><text font-family=\"serif\" text-anchor=\"middle\" font-size=\"9\" x=\"190.5\" y=\"8\">1</text><text font-family=\"serif\" font-size=\"9\" x=\"203.5\" y=\"23\">&#19968;</text><text font-family=\"serif\" font-size=\"9\" x=\"203.5\" y=\"43\">&#20108;</text><text font-family=\"serif\" font-size=\"9\" x=\"203.5\" y=\"63\">&#19977;</text><text font-family=\"serif\" font-size=\"9\" x=\"203.5\" y=\"83\">&#22235;</text><text font-family=\"serif\" font-size=\"9\" x=\"203.5\" y=\"103\">&#20116;</text><text font-family=\"serif\" font-size=\"9\" x=\"203.5\" y=\"123\">&#20845;</text><text font-family=\"serif\" font-size=\"9\" x=\"203.5\" y=\"143\">&#19971;</text><text font-family=\"serif\" font-size=\"9\" x=\"203.5\" y=\"163\">&#20843;</text><text font-family=\"serif\" font-size=\"9\" x=\"203.5\" y=\"183\">&#20061;</text></g><use xlink:href=\"#white-lance\" x=\"180.5\" y=\"10.5\" /><use xlink:href=\"#black-pawn\" x=\"180.5\" y=\"70.5\" /><use xlink:href=\"#white-pawn\" x=\"180.5\" y=\"90.5\" /><use xlink:href=\"#black-lance\" x=\"180.5\" y=\"170.5\" /><use xlink:href=\"#white-knight\" x=\"160.5\" y=\"10.5\" /><use xlink:href=\"#white-silver\" x=\"160.5\" y=\"30.5\" /><use xlink:href=\"#white-pawn\" x=\"160.5\" y=\"70.5\" /><use xlink:href=\"#black-knight\" x=\"160.5\" y=\"170.5\" /><use xlink:href=\"#white-silver\" x=\"140.5\" y=\"70.5\" /><use xlink:href=\"#black-gold\" x=\"140.5\" y=\"150.5\" /><use xlink:href=\"#white-gold\" x=\"120.5\" y=\"10.5\" /><use xlink:href=\"#white-pawn\" x=\"120.5\" y=\"50.5\" /><use xlink:href=\"#black-pawn\" x=\"120.5\" y=\"130.5\" /><use xlink:href=\"#black-rook\" x=\"120.5\" y=\"150.5\" /><use xlink:href=\"#black-king\" x=\"120.5\" y=\"170.5\" /><use xlink:href=\"#white-pawn\" x=\"100.5\" y=\"50.5\" /><use xlink:href=\"#black-pawn\" x=\"100.5\" y=\"90.5\" /><use xlink:href=\"#white-dragon\" x=\"100.5\" y=\"130.5\" /><use xlink:href=\"#black-rook\" x=\"100.5\" y=\"150.5\" /><use xlink:href=\"#black-rook\" x=\"100.5\" y=\"170.5\" /><use xlink:href=\"#white-pawn\" x=\"80.5\" y=\"110.5\" /><use xlink:href=\"#black-pawn\" x=\"80.5\" y=\"130.5\" /><use xlink:href=\"#white-silver\" x=\"60.5\" y=\"10.5\" /><use xlink:href=\"#white-gold\" x=\"60.5\" y=\"50.5\" /><use xlink:href=\"#black-pawn\" x=\"60.5\" y=\"90.5\" /><use xlink:href=\"#black-silver\" x=\"60.5\" y=\"130.5\" /><use xlink:href=\"#black-gold\" x=\"60.5\" y=\"150.5\" /><use xlink:href=\"#white-knight\" x=\"40.5\" y=\"10.5\" /><use xlink:href=\"#white-king\" x=\"40.5\" y=\"50.5\" /><use xlink:href=\"#black-pawn\" x=\"40.5\" y=\"130.5\" /><use xlink:href=\"#white-lance\" x=\"20.5\" y=\"10.5\" /><use xlink:href=\"#white-pawn\" x=\"20.5\" y=\"70.5\" /><use xlink:href=\"#black-lance\" x=\"20.5\" y=\"170.5\" /><text font-family=\"serif\" font-size=\"14\" x=\"214\" y=\"190\">&#27497;</text><text font-family=\"serif\" font-size=\"14\" x=\"214\" y=\"176\">&#37504;</text><text font-family=\"serif\" font-size=\"14\" x=\"214\" y=\"162\">&#35282;</text><text font-family=\"serif\" font-size=\"14\" x=\"214\" y=\"134\">&#25163;</text><text font-family=\"serif\" font-size=\"14\" x=\"214\" y=\"120\">&#20808;</text><text font-family=\"serif\" font-size=\"14\" x=\"214\" y=\"106\">&#9751;</text><text font-family=\"serif\" font-size=\"14\" x=\"-16\" y=\"-10\" transform=\"rotate(180)\">&#27497;</text><text font-family=\"serif\" font-size=\"14\" x=\"-16\" y=\"-38\" transform=\"rotate(180)\">&#25163;</text><text font-family=\"serif\" font-size=\"14\" x=\"-16\" y=\"-52\" transform=\"rotate(180)\">&#24460;</text><text font-family=\"serif\" font-size=\"14\" x=\"-16\" y=\"-66\" transform=\"rotate(180)\">&#9750;</text></svg>"
      ],
      "text/plain": [
       "'  9  8  7  6  5  4  3  2  1\n",
       "P1-KY-KE-GI *  * -KI * -KE-KY\n",
       "P2 *  *  *  *  *  *  * -GI * \n",
       "P3 * -OU-KI * -FU-FU *  *  * \n",
       "P4-FU *  *  *  *  * -GI-FU+FU\n",
       "P5 *  * +FU * +FU *  *  * -FU\n",
       "P6 *  *  * -FU *  *  *  *  * \n",
       "P7 * +FU+GI+FU-RY+FU *  *  * \n",
       "P8 *  * +KI * +HI+HI+KI *  * \n",
       "P9+KY *  *  * +HI+OU * +KE+KY\n",
       "P+00FU\n",
       "P+00GI\n",
       "P+00KA\n",
       "P-00FU\n",
       "+"
      ]
     },
     "execution_count": 34,
     "metadata": {},
     "output_type": "execute_result"
    }
   ],
   "source": [
    "cshogi.Board(feature_to_sfen(model.decode(torch.tensor([[-1.0] +\n",
    "                                                        [-1.0] +\n",
    "                                                        [ 0.0] * 30 ]).to(device))[0] >= 0.3))"
   ]
  },
  {
   "cell_type": "code",
   "execution_count": null,
   "metadata": {},
   "outputs": [
    {
     "data": {
      "text/plain": [
       "torch.Size([1024, 32])"
      ]
     },
     "execution_count": 107,
     "metadata": {},
     "output_type": "execute_result"
    }
   ],
   "source": [
    "mu.shape"
   ]
  },
  {
   "cell_type": "code",
   "execution_count": null,
   "metadata": {},
   "outputs": [
    {
     "data": {
      "text/plain": [
       "tensor([-0.3025,  0.1073, -0.1189,  0.2546,  0.0976, -0.0017, -0.0314, -0.2206,\n",
       "        -0.0224, -0.3441, -0.2792,  0.1674,  0.1484,  0.0584,  0.0519,  0.0161,\n",
       "        -0.4324, -0.1529,  0.1563, -0.0395,  0.0780, -0.0838, -0.1441,  0.0673,\n",
       "        -0.1837, -0.0555,  0.1787,  0.3433,  0.0136,  0.2813,  0.0668,  0.0059],\n",
       "       device='cuda:0', grad_fn=<SelectBackward0>)"
      ]
     },
     "execution_count": 74,
     "metadata": {},
     "output_type": "execute_result"
    }
   ],
   "source": [
    "mu[0]"
   ]
  },
  {
   "cell_type": "code",
   "execution_count": null,
   "metadata": {},
   "outputs": [],
   "source": [
    "def compare(x):\n",
    "    recon_x, _, _ = vae(x)\n",
    "    return torch.cat([x, recon_x])"
   ]
  },
  {
   "cell_type": "code",
   "execution_count": null,
   "metadata": {},
   "outputs": [],
   "source": []
  }
 ],
 "metadata": {
  "kernelspec": {
   "display_name": "Python 3",
   "language": "python",
   "name": "python3"
  },
  "language_info": {
   "codemirror_mode": {
    "name": "ipython",
    "version": 3
   },
   "file_extension": ".py",
   "mimetype": "text/x-python",
   "name": "python",
   "nbconvert_exporter": "python",
   "pygments_lexer": "ipython3",
   "version": "3.10.13"
  }
 },
 "nbformat": 4,
 "nbformat_minor": 2
}
